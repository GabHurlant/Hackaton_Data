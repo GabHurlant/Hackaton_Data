{
 "cells": [
  {
   "cell_type": "markdown",
   "id": "b858db80",
   "metadata": {
    "id": "b858db80"
   },
   "source": [
    "# 🎯 Vaccine Distribution Optimization\n",
    "\n",
    "**For Decision-Makers**: You have 1,000 vaccines but 1,200 people need them. How do you decide who gets what? This notebook solves that puzzle using mathematical optimization. We'll find the fairest, most efficient way to distribute limited vaccine supplies across French regions.\n",
    "\n",
    "**Goal**: Allocate vaccines to regions to minimize unmet demand and maximize coverage, balancing efficiency and equity.\n",
    "\n",
    "**The Challenge**:\n",
    "- 💉 **Limited vaccine supply** - We can't serve everyone\n",
    "- 📊 **Regional demand varies** - Some regions need more than others (from our forecasts)\n",
    "- ⚖️ **Balance efficiency vs equity** - Do we help the most people, or ensure everyone gets some?\n",
    "- 🎯 **Reach underserved populations** - Don't leave anyone too far behind\n",
    "\n",
    "**Real-World Scenario**:\n",
    "Imagine you're the national health director. You have 850,000 vaccines but demand is 1,000,000. Which regions get how many? This notebook gives you the answer with mathematical precision.\n",
    "\n",
    "## 🔄 Our Approach:\n",
    "1. **Load demand forecasts** from previous notebook (Week X needs Y vaccines)\n",
    "2. **Define objectives** - What does \"optimal\" mean? (minimize shortages, maximize coverage, ensure fairness)\n",
    "3. **Simple strategies** - Proportional allocation, equal allocation (baselines)\n",
    "4. **Advanced optimization** - Genetic algorithm to find the best solution\n",
    "5. **Compare strategies** - Which approach actually works best?\n",
    "\n",
    "## 💰 Business Value:\n",
    "**Optimal allocation delivers:**\n",
    "- **Lives saved** - Vaccines go where they prevent most illness\n",
    "- **Cost savings** - Each prevented emergency visit saves €200-500\n",
    "- **Equity** - Fair distribution across regions\n",
    "- **Public trust** - Transparent, data-driven decisions\n",
    "\n",
    "## 🎯 Trade-offs We'll Address:\n",
    "- **Efficiency** ↔ **Equity**: Should we prioritize high-impact regions or ensure fairness?\n",
    "- **Urban** ↔ **Rural**: Big cities vs smaller regions?\n",
    "- **Prevention** ↔ **Treatment**: Invest in vaccines or prepare hospitals?\n",
    "\n",
    "## 📊 What You'll Get:\n",
    "- Detailed allocation plan by region (Region X gets Y vaccines)\n",
    "- Cost-benefit analysis (ROI calculations)\n",
    "- Comparison of different strategies\n",
    "- Clear recommendations for implementation\n",
    "\n",
    "---"
   ]
  },
  {
   "cell_type": "code",
   "execution_count": 1,
   "id": "9eef000f",
   "metadata": {
    "colab": {
     "base_uri": "https://localhost:8080/"
    },
    "execution": {
     "iopub.execute_input": "2025-10-22T13:26:44.481378Z",
     "iopub.status.busy": "2025-10-22T13:26:44.481298Z",
     "iopub.status.idle": "2025-10-22T13:26:45.425365Z",
     "shell.execute_reply": "2025-10-22T13:26:45.424957Z"
    },
    "id": "9eef000f",
    "outputId": "889ebcca-c1ec-4ecc-cfba-c141b246e2ce"
   },
   "outputs": [
    {
     "name": "stdout",
     "output_type": "stream",
     "text": [
      "✅ Libraries loaded\n",
      "📅 2025-10-22 15:26\n",
      "🖥️ Environment: Local\n",
      "PyGAD available: True\n"
     ]
    }
   ],
   "source": [
    "# Setup\n",
    "import pandas as pd\n",
    "import numpy as np\n",
    "from pathlib import Path\n",
    "from datetime import datetime\n",
    "import warnings\n",
    "import sys\n",
    "warnings.filterwarnings('ignore')\n",
    "\n",
    "# Detect environment (check if running in Google Colab)\n",
    "try:\n",
    "    import google.colab\n",
    "    IN_COLAB = True\n",
    "except ImportError:\n",
    "    IN_COLAB = False\n",
    "\n",
    "# Mount Google Drive if in Colab\n",
    "if IN_COLAB:\n",
    "    from google.colab import drive\n",
    "    drive.mount('/content/drive')\n",
    "    print(\"✅ Google Drive mounted\")\n",
    "\n",
    "# Optimization\n",
    "try:\n",
    "    import pygad\n",
    "    PYGAD_AVAILABLE = True\n",
    "except ImportError:\n",
    "    print(\"⚠️ PyGAD not installed. Install with: pip install pygad\")\n",
    "    PYGAD_AVAILABLE = False\n",
    "\n",
    "# Visualization\n",
    "import matplotlib.pyplot as plt\n",
    "import seaborn as sns\n",
    "import plotly.graph_objects as go\n",
    "from plotly.subplots import make_subplots\n",
    "import plotly.express as px\n",
    "\n",
    "print(\"✅ Libraries loaded\")\n",
    "print(f\"📅 {datetime.now().strftime('%Y-%m-%d %H:%M')}\")\n",
    "print(f\"🖥️ Environment: {'Google Colab' if IN_COLAB else 'Local'}\")\n",
    "print(f\"PyGAD available: {PYGAD_AVAILABLE}\")"
   ]
  },
  {
   "cell_type": "code",
   "execution_count": 2,
   "id": "52e85ebc",
   "metadata": {
    "colab": {
     "base_uri": "https://localhost:8080/"
    },
    "execution": {
     "iopub.execute_input": "2025-10-22T13:26:45.426515Z",
     "iopub.status.busy": "2025-10-22T13:26:45.426385Z",
     "iopub.status.idle": "2025-10-22T13:26:45.428403Z",
     "shell.execute_reply": "2025-10-22T13:26:45.428107Z"
    },
    "id": "52e85ebc",
    "outputId": "5b2825d7-e4a5-4c92-d9c1-eb92637e0903"
   },
   "outputs": [
    {
     "name": "stdout",
     "output_type": "stream",
     "text": [
      "📂 Results: /Users/fadybekkar/Desktop/EPITECH/HACK/Hackaton_Data/projet/data/results\n",
      "📂 Output: /Users/fadybekkar/Desktop/EPITECH/HACK/Hackaton_Data/projet/optimization_outputs\n"
     ]
    }
   ],
   "source": [
    "# Paths (works both locally and in Colab)\n",
    "if IN_COLAB:\n",
    "    BASE_PATH = Path('/content/drive/MyDrive/HACKATHON_DATALAB')\n",
    "else:\n",
    "    BASE_PATH = Path.cwd()\n",
    "\n",
    "RESULTS_PATH = BASE_PATH / 'data' / 'results'\n",
    "OUTPUT_PATH = BASE_PATH / 'optimization_outputs'\n",
    "OUTPUT_PATH.mkdir(parents=True, exist_ok=True)\n",
    "\n",
    "print(f\"📂 Results: {RESULTS_PATH}\")\n",
    "print(f\"📂 Output: {OUTPUT_PATH}\")"
   ]
  },
  {
   "cell_type": "markdown",
   "id": "10c12a16",
   "metadata": {
    "id": "10c12a16"
   },
   "source": [
    "---\n",
    "\n",
    "## 📊 1. Load Demand Forecasts"
   ]
  },
  {
   "cell_type": "code",
   "execution_count": 3,
   "id": "833a95f9",
   "metadata": {
    "colab": {
     "base_uri": "https://localhost:8080/"
    },
    "execution": {
     "iopub.execute_input": "2025-10-22T13:26:45.429396Z",
     "iopub.status.busy": "2025-10-22T13:26:45.429335Z",
     "iopub.status.idle": "2025-10-22T13:26:45.438121Z",
     "shell.execute_reply": "2025-10-22T13:26:45.437820Z"
    },
    "id": "833a95f9",
    "outputId": "fc213974-34fb-404e-c819-879948847d39"
   },
   "outputs": [
    {
     "name": "stdout",
     "output_type": "stream",
     "text": [
      "✅ Loaded predictions: (5310, 8)\n",
      "📅 Date range: 2024-08-26 00:00:00 to 2025-10-06 00:00:00\n",
      "🗺️ Regions: 18\n",
      "✅ Data validation passed\n",
      "\n",
      "👀 Sample:\n",
      "        date                   region Classe d'âge  \\\n",
      "0 2024-08-26  Auvergne et Rhône-Alpes    00-04 ans   \n",
      "1 2024-09-02  Auvergne et Rhône-Alpes    00-04 ans   \n",
      "2 2024-09-09  Auvergne et Rhône-Alpes    00-04 ans   \n",
      "3 2024-09-16  Auvergne et Rhône-Alpes    00-04 ans   \n",
      "4 2024-09-23  Auvergne et Rhône-Alpes    00-04 ans   \n",
      "\n",
      "   Taux de passages aux urgences pour grippe  age_group_encoded  \\\n",
      "0                                   0.000000                  0   \n",
      "1                                  55.944056                  0   \n",
      "2                                  47.892720                  0   \n",
      "3                                 131.550099                  0   \n",
      "4                                  45.218178                  0   \n",
      "\n",
      "   predicted_demand  lower_bound  upper_bound  \n",
      "0         56.055557          0.0    2383.0635  \n",
      "1         66.177700          0.0    2393.1855  \n",
      "2         66.177700          0.0    2393.1855  \n",
      "3         73.987330          0.0    2400.9950  \n",
      "4         72.719990          0.0    2399.7278  \n"
     ]
    }
   ],
   "source": [
    "# Load predictions from forecasting notebook with error handling\n",
    "predictions_file = RESULTS_PATH / 'demand_predictions.csv'\n",
    "\n",
    "if predictions_file.exists():\n",
    "    try:\n",
    "        df_predictions = pd.read_csv(predictions_file)\n",
    "        df_predictions['date'] = pd.to_datetime(df_predictions['date'])\n",
    "\n",
    "        print(f\"✅ Loaded predictions: {df_predictions.shape}\")\n",
    "        print(f\"📅 Date range: {df_predictions['date'].min()} to {df_predictions['date'].max()}\")\n",
    "        print(f\"🗺️ Regions: {df_predictions['region'].nunique()}\")\n",
    "\n",
    "        # Validate data\n",
    "        required_columns = ['date', 'region', 'predicted_demand']\n",
    "        missing_columns = [col for col in required_columns if col not in df_predictions.columns]\n",
    "\n",
    "        if missing_columns:\n",
    "            print(f\"❌ ERROR: Missing required columns: {missing_columns}\")\n",
    "            df_predictions = None\n",
    "        elif len(df_predictions) == 0:\n",
    "            print(\"❌ ERROR: Predictions file is empty!\")\n",
    "            df_predictions = None\n",
    "        else:\n",
    "            print(\"✅ Data validation passed\")\n",
    "            print(f\"\\n👀 Sample:\")\n",
    "            print(df_predictions.head())\n",
    "    except Exception as e:\n",
    "        print(f\"❌ ERROR loading predictions: {e}\")\n",
    "        print(\"Please check the file and try regenerating it in 03_Forecasting.ipynb\")\n",
    "        df_predictions = None\n",
    "else:\n",
    "    print(\"❌ Predictions file not found. Please run 03_Forecasting.ipynb first.\")\n",
    "    print(f\"Expected location: {predictions_file}\")\n",
    "    print(\"\\nℹ️ The forecasting notebook creates this file as its output.\")\n",
    "    df_predictions = None"
   ]
  },
  {
   "cell_type": "markdown",
   "id": "9f64fd34",
   "metadata": {
    "id": "9f64fd34"
   },
   "source": [
    "---\n",
    "\n",
    "## 🎯 2. Aggregate Regional Demand\n",
    "\n",
    "Sum up demand across all weeks for each region."
   ]
  },
  {
   "cell_type": "code",
   "execution_count": 4,
   "id": "759dfec1",
   "metadata": {
    "colab": {
     "base_uri": "https://localhost:8080/",
     "height": 951
    },
    "execution": {
     "iopub.execute_input": "2025-10-22T13:26:45.439304Z",
     "iopub.status.busy": "2025-10-22T13:26:45.439221Z",
     "iopub.status.idle": "2025-10-22T13:26:46.017707Z",
     "shell.execute_reply": "2025-10-22T13:26:46.017327Z"
    },
    "id": "759dfec1",
    "outputId": "e0927656-b0a4-4f03-d3da-07989084e499"
   },
   "outputs": [
    {
     "name": "stdout",
     "output_type": "stream",
     "text": [
      "🗺️ Regional Demand Summary:\n",
      "\n",
      "                    region  total_demand    demand_low  demand_high\n",
      "                    Guyane 513374.183780 110169.234052 1199841.4933\n",
      "                   Réunion 376445.218321  56694.070046 1062912.5223\n",
      "                Guadeloupe 323409.022760  87333.491072 1009876.3289\n",
      "             Île-de-France 291037.644271  89115.361800  977504.9512\n",
      "                     Corse 290226.886414  97778.855444  976694.1931\n",
      "                 Grand Est 282018.339608  91507.214815  968485.6458\n",
      "Bourgogne et Franche-Comté 279111.246148  91673.629650  965578.5499\n",
      "           Hauts-de-France 273005.134347  86313.999490  959472.4397\n",
      "Provence-Alpes-Côte d'Azur 260240.744370  81713.160840  946708.0465\n",
      "                 Normandie 244398.307386  67309.901480  930865.6130\n",
      "   Auvergne et Rhône-Alpes 243713.893273  80743.843270  930181.2004\n",
      "        Nouvelle Aquitaine 241855.881860  60086.231445  928323.1852\n",
      "       Centre-Val de Loire 241632.622664  64560.122578  928099.9281\n",
      "          Pays de la Loire 228428.434884  65326.800977  914895.7381\n",
      "                  Bretagne 226443.708027  58965.231608  912911.0123\n",
      "                 Occitanie 209931.898792  52993.029273  896399.2039\n",
      "                Martinique 173353.557277   9247.387290  859820.8609\n",
      "                   Mayotte  98249.129978   3587.550070  784716.4346\n",
      "\n",
      "📊 Total predicted demand: 4,796,876 interventions\n"
     ]
    },
    {
     "data": {
      "application/vnd.plotly.v1+json": {
       "config": {
        "plotlyServerURL": "https://plot.ly"
       },
       "data": [
        {
         "hovertemplate": "Region=%{x}<br>Total Demand=%{marker.color}<extra></extra>",
         "legendgroup": "",
         "marker": {
          "color": {
           "bdata": "B9MwvHhVH0FMio/f9PkWQb9lThdEvRNB68a7k3bDEUGTHLCLy7YRQRYzwluJNhFBqDgO/BwJEUGNQpKJtKkQQTFCePSFxA9BisqGdXLVDUGLUGwlD8ANQZ2dDA7/hQ1BY0M3+wR/DUFsdqR6Y+ILQU0PCqpdpAtBL9y5MF+gCUHPpE11TCkFQbPPYxSS/PdA",
           "dtype": "f8"
          },
          "coloraxis": "coloraxis",
          "pattern": {
           "shape": ""
          }
         },
         "name": "",
         "orientation": "v",
         "showlegend": false,
         "textposition": "auto",
         "type": "bar",
         "x": [
          "Guyane",
          "Réunion",
          "Guadeloupe",
          "Île-de-France",
          "Corse",
          "Grand Est",
          "Bourgogne et Franche-Comté",
          "Hauts-de-France",
          "Provence-Alpes-Côte d'Azur",
          "Normandie",
          "Auvergne et Rhône-Alpes",
          "Nouvelle Aquitaine",
          "Centre-Val de Loire",
          "Pays de la Loire",
          "Bretagne",
          "Occitanie",
          "Martinique",
          "Mayotte"
         ],
         "xaxis": "x",
         "y": {
          "bdata": "B9MwvHhVH0FMio/f9PkWQb9lThdEvRNB68a7k3bDEUGTHLCLy7YRQRYzwluJNhFBqDgO/BwJEUGNQpKJtKkQQTFCePSFxA9BisqGdXLVDUGLUGwlD8ANQZ2dDA7/hQ1BY0M3+wR/DUFsdqR6Y+ILQU0PCqpdpAtBL9y5MF+gCUHPpE11TCkFQbPPYxSS/PdA",
          "dtype": "f8"
         },
         "yaxis": "y"
        }
       ],
       "layout": {
        "barmode": "relative",
        "coloraxis": {
         "colorbar": {
          "title": {
           "text": "Total Demand"
          }
         },
         "colorscale": [
          [
           0.0,
           "rgb(255,245,240)"
          ],
          [
           0.125,
           "rgb(254,224,210)"
          ],
          [
           0.25,
           "rgb(252,187,161)"
          ],
          [
           0.375,
           "rgb(252,146,114)"
          ],
          [
           0.5,
           "rgb(251,106,74)"
          ],
          [
           0.625,
           "rgb(239,59,44)"
          ],
          [
           0.75,
           "rgb(203,24,29)"
          ],
          [
           0.875,
           "rgb(165,15,21)"
          ],
          [
           1.0,
           "rgb(103,0,13)"
          ]
         ]
        },
        "height": 500,
        "legend": {
         "tracegroupgap": 0
        },
        "template": {
         "data": {
          "bar": [
           {
            "error_x": {
             "color": "#2a3f5f"
            },
            "error_y": {
             "color": "#2a3f5f"
            },
            "marker": {
             "line": {
              "color": "white",
              "width": 0.5
             },
             "pattern": {
              "fillmode": "overlay",
              "size": 10,
              "solidity": 0.2
             }
            },
            "type": "bar"
           }
          ],
          "barpolar": [
           {
            "marker": {
             "line": {
              "color": "white",
              "width": 0.5
             },
             "pattern": {
              "fillmode": "overlay",
              "size": 10,
              "solidity": 0.2
             }
            },
            "type": "barpolar"
           }
          ],
          "carpet": [
           {
            "aaxis": {
             "endlinecolor": "#2a3f5f",
             "gridcolor": "#C8D4E3",
             "linecolor": "#C8D4E3",
             "minorgridcolor": "#C8D4E3",
             "startlinecolor": "#2a3f5f"
            },
            "baxis": {
             "endlinecolor": "#2a3f5f",
             "gridcolor": "#C8D4E3",
             "linecolor": "#C8D4E3",
             "minorgridcolor": "#C8D4E3",
             "startlinecolor": "#2a3f5f"
            },
            "type": "carpet"
           }
          ],
          "choropleth": [
           {
            "colorbar": {
             "outlinewidth": 0,
             "ticks": ""
            },
            "type": "choropleth"
           }
          ],
          "contour": [
           {
            "colorbar": {
             "outlinewidth": 0,
             "ticks": ""
            },
            "colorscale": [
             [
              0.0,
              "#0d0887"
             ],
             [
              0.1111111111111111,
              "#46039f"
             ],
             [
              0.2222222222222222,
              "#7201a8"
             ],
             [
              0.3333333333333333,
              "#9c179e"
             ],
             [
              0.4444444444444444,
              "#bd3786"
             ],
             [
              0.5555555555555556,
              "#d8576b"
             ],
             [
              0.6666666666666666,
              "#ed7953"
             ],
             [
              0.7777777777777778,
              "#fb9f3a"
             ],
             [
              0.8888888888888888,
              "#fdca26"
             ],
             [
              1.0,
              "#f0f921"
             ]
            ],
            "type": "contour"
           }
          ],
          "contourcarpet": [
           {
            "colorbar": {
             "outlinewidth": 0,
             "ticks": ""
            },
            "type": "contourcarpet"
           }
          ],
          "heatmap": [
           {
            "colorbar": {
             "outlinewidth": 0,
             "ticks": ""
            },
            "colorscale": [
             [
              0.0,
              "#0d0887"
             ],
             [
              0.1111111111111111,
              "#46039f"
             ],
             [
              0.2222222222222222,
              "#7201a8"
             ],
             [
              0.3333333333333333,
              "#9c179e"
             ],
             [
              0.4444444444444444,
              "#bd3786"
             ],
             [
              0.5555555555555556,
              "#d8576b"
             ],
             [
              0.6666666666666666,
              "#ed7953"
             ],
             [
              0.7777777777777778,
              "#fb9f3a"
             ],
             [
              0.8888888888888888,
              "#fdca26"
             ],
             [
              1.0,
              "#f0f921"
             ]
            ],
            "type": "heatmap"
           }
          ],
          "histogram": [
           {
            "marker": {
             "pattern": {
              "fillmode": "overlay",
              "size": 10,
              "solidity": 0.2
             }
            },
            "type": "histogram"
           }
          ],
          "histogram2d": [
           {
            "colorbar": {
             "outlinewidth": 0,
             "ticks": ""
            },
            "colorscale": [
             [
              0.0,
              "#0d0887"
             ],
             [
              0.1111111111111111,
              "#46039f"
             ],
             [
              0.2222222222222222,
              "#7201a8"
             ],
             [
              0.3333333333333333,
              "#9c179e"
             ],
             [
              0.4444444444444444,
              "#bd3786"
             ],
             [
              0.5555555555555556,
              "#d8576b"
             ],
             [
              0.6666666666666666,
              "#ed7953"
             ],
             [
              0.7777777777777778,
              "#fb9f3a"
             ],
             [
              0.8888888888888888,
              "#fdca26"
             ],
             [
              1.0,
              "#f0f921"
             ]
            ],
            "type": "histogram2d"
           }
          ],
          "histogram2dcontour": [
           {
            "colorbar": {
             "outlinewidth": 0,
             "ticks": ""
            },
            "colorscale": [
             [
              0.0,
              "#0d0887"
             ],
             [
              0.1111111111111111,
              "#46039f"
             ],
             [
              0.2222222222222222,
              "#7201a8"
             ],
             [
              0.3333333333333333,
              "#9c179e"
             ],
             [
              0.4444444444444444,
              "#bd3786"
             ],
             [
              0.5555555555555556,
              "#d8576b"
             ],
             [
              0.6666666666666666,
              "#ed7953"
             ],
             [
              0.7777777777777778,
              "#fb9f3a"
             ],
             [
              0.8888888888888888,
              "#fdca26"
             ],
             [
              1.0,
              "#f0f921"
             ]
            ],
            "type": "histogram2dcontour"
           }
          ],
          "mesh3d": [
           {
            "colorbar": {
             "outlinewidth": 0,
             "ticks": ""
            },
            "type": "mesh3d"
           }
          ],
          "parcoords": [
           {
            "line": {
             "colorbar": {
              "outlinewidth": 0,
              "ticks": ""
             }
            },
            "type": "parcoords"
           }
          ],
          "pie": [
           {
            "automargin": true,
            "type": "pie"
           }
          ],
          "scatter": [
           {
            "fillpattern": {
             "fillmode": "overlay",
             "size": 10,
             "solidity": 0.2
            },
            "type": "scatter"
           }
          ],
          "scatter3d": [
           {
            "line": {
             "colorbar": {
              "outlinewidth": 0,
              "ticks": ""
             }
            },
            "marker": {
             "colorbar": {
              "outlinewidth": 0,
              "ticks": ""
             }
            },
            "type": "scatter3d"
           }
          ],
          "scattercarpet": [
           {
            "marker": {
             "colorbar": {
              "outlinewidth": 0,
              "ticks": ""
             }
            },
            "type": "scattercarpet"
           }
          ],
          "scattergeo": [
           {
            "marker": {
             "colorbar": {
              "outlinewidth": 0,
              "ticks": ""
             }
            },
            "type": "scattergeo"
           }
          ],
          "scattergl": [
           {
            "marker": {
             "colorbar": {
              "outlinewidth": 0,
              "ticks": ""
             }
            },
            "type": "scattergl"
           }
          ],
          "scattermap": [
           {
            "marker": {
             "colorbar": {
              "outlinewidth": 0,
              "ticks": ""
             }
            },
            "type": "scattermap"
           }
          ],
          "scattermapbox": [
           {
            "marker": {
             "colorbar": {
              "outlinewidth": 0,
              "ticks": ""
             }
            },
            "type": "scattermapbox"
           }
          ],
          "scatterpolar": [
           {
            "marker": {
             "colorbar": {
              "outlinewidth": 0,
              "ticks": ""
             }
            },
            "type": "scatterpolar"
           }
          ],
          "scatterpolargl": [
           {
            "marker": {
             "colorbar": {
              "outlinewidth": 0,
              "ticks": ""
             }
            },
            "type": "scatterpolargl"
           }
          ],
          "scatterternary": [
           {
            "marker": {
             "colorbar": {
              "outlinewidth": 0,
              "ticks": ""
             }
            },
            "type": "scatterternary"
           }
          ],
          "surface": [
           {
            "colorbar": {
             "outlinewidth": 0,
             "ticks": ""
            },
            "colorscale": [
             [
              0.0,
              "#0d0887"
             ],
             [
              0.1111111111111111,
              "#46039f"
             ],
             [
              0.2222222222222222,
              "#7201a8"
             ],
             [
              0.3333333333333333,
              "#9c179e"
             ],
             [
              0.4444444444444444,
              "#bd3786"
             ],
             [
              0.5555555555555556,
              "#d8576b"
             ],
             [
              0.6666666666666666,
              "#ed7953"
             ],
             [
              0.7777777777777778,
              "#fb9f3a"
             ],
             [
              0.8888888888888888,
              "#fdca26"
             ],
             [
              1.0,
              "#f0f921"
             ]
            ],
            "type": "surface"
           }
          ],
          "table": [
           {
            "cells": {
             "fill": {
              "color": "#EBF0F8"
             },
             "line": {
              "color": "white"
             }
            },
            "header": {
             "fill": {
              "color": "#C8D4E3"
             },
             "line": {
              "color": "white"
             }
            },
            "type": "table"
           }
          ]
         },
         "layout": {
          "annotationdefaults": {
           "arrowcolor": "#2a3f5f",
           "arrowhead": 0,
           "arrowwidth": 1
          },
          "autotypenumbers": "strict",
          "coloraxis": {
           "colorbar": {
            "outlinewidth": 0,
            "ticks": ""
           }
          },
          "colorscale": {
           "diverging": [
            [
             0,
             "#8e0152"
            ],
            [
             0.1,
             "#c51b7d"
            ],
            [
             0.2,
             "#de77ae"
            ],
            [
             0.3,
             "#f1b6da"
            ],
            [
             0.4,
             "#fde0ef"
            ],
            [
             0.5,
             "#f7f7f7"
            ],
            [
             0.6,
             "#e6f5d0"
            ],
            [
             0.7,
             "#b8e186"
            ],
            [
             0.8,
             "#7fbc41"
            ],
            [
             0.9,
             "#4d9221"
            ],
            [
             1,
             "#276419"
            ]
           ],
           "sequential": [
            [
             0.0,
             "#0d0887"
            ],
            [
             0.1111111111111111,
             "#46039f"
            ],
            [
             0.2222222222222222,
             "#7201a8"
            ],
            [
             0.3333333333333333,
             "#9c179e"
            ],
            [
             0.4444444444444444,
             "#bd3786"
            ],
            [
             0.5555555555555556,
             "#d8576b"
            ],
            [
             0.6666666666666666,
             "#ed7953"
            ],
            [
             0.7777777777777778,
             "#fb9f3a"
            ],
            [
             0.8888888888888888,
             "#fdca26"
            ],
            [
             1.0,
             "#f0f921"
            ]
           ],
           "sequentialminus": [
            [
             0.0,
             "#0d0887"
            ],
            [
             0.1111111111111111,
             "#46039f"
            ],
            [
             0.2222222222222222,
             "#7201a8"
            ],
            [
             0.3333333333333333,
             "#9c179e"
            ],
            [
             0.4444444444444444,
             "#bd3786"
            ],
            [
             0.5555555555555556,
             "#d8576b"
            ],
            [
             0.6666666666666666,
             "#ed7953"
            ],
            [
             0.7777777777777778,
             "#fb9f3a"
            ],
            [
             0.8888888888888888,
             "#fdca26"
            ],
            [
             1.0,
             "#f0f921"
            ]
           ]
          },
          "colorway": [
           "#636efa",
           "#EF553B",
           "#00cc96",
           "#ab63fa",
           "#FFA15A",
           "#19d3f3",
           "#FF6692",
           "#B6E880",
           "#FF97FF",
           "#FECB52"
          ],
          "font": {
           "color": "#2a3f5f"
          },
          "geo": {
           "bgcolor": "white",
           "lakecolor": "white",
           "landcolor": "white",
           "showlakes": true,
           "showland": true,
           "subunitcolor": "#C8D4E3"
          },
          "hoverlabel": {
           "align": "left"
          },
          "hovermode": "closest",
          "mapbox": {
           "style": "light"
          },
          "paper_bgcolor": "white",
          "plot_bgcolor": "white",
          "polar": {
           "angularaxis": {
            "gridcolor": "#EBF0F8",
            "linecolor": "#EBF0F8",
            "ticks": ""
           },
           "bgcolor": "white",
           "radialaxis": {
            "gridcolor": "#EBF0F8",
            "linecolor": "#EBF0F8",
            "ticks": ""
           }
          },
          "scene": {
           "xaxis": {
            "backgroundcolor": "white",
            "gridcolor": "#DFE8F3",
            "gridwidth": 2,
            "linecolor": "#EBF0F8",
            "showbackground": true,
            "ticks": "",
            "zerolinecolor": "#EBF0F8"
           },
           "yaxis": {
            "backgroundcolor": "white",
            "gridcolor": "#DFE8F3",
            "gridwidth": 2,
            "linecolor": "#EBF0F8",
            "showbackground": true,
            "ticks": "",
            "zerolinecolor": "#EBF0F8"
           },
           "zaxis": {
            "backgroundcolor": "white",
            "gridcolor": "#DFE8F3",
            "gridwidth": 2,
            "linecolor": "#EBF0F8",
            "showbackground": true,
            "ticks": "",
            "zerolinecolor": "#EBF0F8"
           }
          },
          "shapedefaults": {
           "line": {
            "color": "#2a3f5f"
           }
          },
          "ternary": {
           "aaxis": {
            "gridcolor": "#DFE8F3",
            "linecolor": "#A2B1C6",
            "ticks": ""
           },
           "baxis": {
            "gridcolor": "#DFE8F3",
            "linecolor": "#A2B1C6",
            "ticks": ""
           },
           "bgcolor": "white",
           "caxis": {
            "gridcolor": "#DFE8F3",
            "linecolor": "#A2B1C6",
            "ticks": ""
           }
          },
          "title": {
           "x": 0.05
          },
          "xaxis": {
           "automargin": true,
           "gridcolor": "#EBF0F8",
           "linecolor": "#EBF0F8",
           "ticks": "",
           "title": {
            "standoff": 15
           },
           "zerolinecolor": "#EBF0F8",
           "zerolinewidth": 2
          },
          "yaxis": {
           "automargin": true,
           "gridcolor": "#EBF0F8",
           "linecolor": "#EBF0F8",
           "ticks": "",
           "title": {
            "standoff": 15
           },
           "zerolinecolor": "#EBF0F8",
           "zerolinewidth": 2
          }
         }
        },
        "title": {
         "text": "🗺️ Total Predicted Demand by Region"
        },
        "xaxis": {
         "anchor": "y",
         "domain": [
          0.0,
          1.0
         ],
         "tickangle": -45,
         "title": {
          "text": "Region"
         }
        },
        "yaxis": {
         "anchor": "x",
         "domain": [
          0.0,
          1.0
         ],
         "title": {
          "text": "Total Demand"
         }
        }
       }
      }
     },
     "metadata": {},
     "output_type": "display_data"
    },
    {
     "name": "stdout",
     "output_type": "stream",
     "text": [
      "\n",
      "✅ Saved: regional_demand.html\n"
     ]
    }
   ],
   "source": [
    "if df_predictions is not None:\n",
    "    # Aggregate by region\n",
    "    regional_demand = df_predictions.groupby('region').agg({\n",
    "        'predicted_demand': 'sum',\n",
    "        'lower_bound': 'sum',\n",
    "        'upper_bound': 'sum'\n",
    "    }).reset_index()\n",
    "\n",
    "    regional_demand.columns = ['region', 'total_demand', 'demand_low', 'demand_high']\n",
    "    regional_demand = regional_demand.sort_values('total_demand', ascending=False)\n",
    "\n",
    "    print(\"🗺️ Regional Demand Summary:\\n\")\n",
    "    print(regional_demand.to_string(index=False))\n",
    "\n",
    "    total_demand = regional_demand['total_demand'].sum()\n",
    "    print(f\"\\n📊 Total predicted demand: {total_demand:,.0f} interventions\")\n",
    "\n",
    "    # Visualize\n",
    "    fig = px.bar(\n",
    "        regional_demand,\n",
    "        x='region',\n",
    "        y='total_demand',\n",
    "        title='🗺️ Total Predicted Demand by Region',\n",
    "        labels={'region': 'Region', 'total_demand': 'Total Demand'},\n",
    "        color='total_demand',\n",
    "        color_continuous_scale='Reds'\n",
    "    )\n",
    "\n",
    "    fig.update_layout(\n",
    "        xaxis_tickangle=-45,\n",
    "        height=500,\n",
    "        template='plotly_white'\n",
    "    )\n",
    "\n",
    "    viz_path = BASE_PATH / 'visualizations'\n",
    "    fig.write_html(viz_path / 'regional_demand.html')\n",
    "    fig.show()\n",
    "    print(f\"\\n✅ Saved: regional_demand.html\")"
   ]
  },
  {
   "cell_type": "markdown",
   "id": "d30bd3f9",
   "metadata": {
    "id": "d30bd3f9"
   },
   "source": [
    "---\n",
    "\n",
    "## 💉 3. Define Vaccine Supply Scenarios\n",
    "\n",
    "What if we have limited supply?"
   ]
  },
  {
   "cell_type": "code",
   "execution_count": 5,
   "id": "0ae0ea88",
   "metadata": {
    "colab": {
     "base_uri": "https://localhost:8080/"
    },
    "execution": {
     "iopub.execute_input": "2025-10-22T13:26:46.018771Z",
     "iopub.status.busy": "2025-10-22T13:26:46.018685Z",
     "iopub.status.idle": "2025-10-22T13:26:46.020832Z",
     "shell.execute_reply": "2025-10-22T13:26:46.020554Z"
    },
    "id": "0ae0ea88",
    "outputId": "bf56655f-f056-44de-ec13-ce7854e94876"
   },
   "outputs": [
    {
     "name": "stdout",
     "output_type": "stream",
     "text": [
      "💉 Vaccine Supply Scenarios:\n",
      "\n",
      "⚠️ Shortage (70%): 3,357,813 vaccines (70% of demand)\n",
      "⚠️ Limited (85%): 4,077,344 vaccines (85% of demand)\n",
      "✅ Adequate (100%): 4,796,876 vaccines (100% of demand)\n",
      "✅ Surplus (120%): 5,756,251 vaccines (120% of demand)\n",
      "\n",
      "🎯 Focus scenario: 4,077,344 vaccines (85% of demand)\n"
     ]
    }
   ],
   "source": [
    "if df_predictions is not None:\n",
    "    # Define supply scenarios\n",
    "    scenarios = {\n",
    "        'Shortage (70%)': total_demand * 0.70,\n",
    "        'Limited (85%)': total_demand * 0.85,\n",
    "        'Adequate (100%)': total_demand * 1.00,\n",
    "        'Surplus (120%)': total_demand * 1.20\n",
    "    }\n",
    "\n",
    "    print(\"💉 Vaccine Supply Scenarios:\\n\")\n",
    "    for name, supply in scenarios.items():\n",
    "        shortfall = total_demand - supply\n",
    "        pct = (supply / total_demand) * 100\n",
    "        status = '⚠️' if shortfall > 0 else '✅'\n",
    "        print(f\"{status} {name}: {supply:,.0f} vaccines ({pct:.0f}% of demand)\")\n",
    "\n",
    "    # We'll focus on the realistic \"Limited\" scenario\n",
    "    TOTAL_SUPPLY = scenarios['Limited (85%)']\n",
    "    print(f\"\\n🎯 Focus scenario: {TOTAL_SUPPLY:,.0f} vaccines (85% of demand)\")"
   ]
  },
  {
   "cell_type": "markdown",
   "id": "ce293ee1",
   "metadata": {
    "id": "ce293ee1"
   },
   "source": [
    "---\n",
    "\n",
    "## 📐 4. Simple Allocation Strategies (Baselines)"
   ]
  },
  {
   "cell_type": "code",
   "execution_count": 6,
   "id": "32056761",
   "metadata": {
    "colab": {
     "base_uri": "https://localhost:8080/"
    },
    "execution": {
     "iopub.execute_input": "2025-10-22T13:26:46.021822Z",
     "iopub.status.busy": "2025-10-22T13:26:46.021758Z",
     "iopub.status.idle": "2025-10-22T13:26:46.025868Z",
     "shell.execute_reply": "2025-10-22T13:26:46.025563Z"
    },
    "id": "32056761",
    "outputId": "abb40ab8-bada-48e2-ca0a-c1a51f21b2d2"
   },
   "outputs": [
    {
     "name": "stdout",
     "output_type": "stream",
     "text": [
      "📐 Testing Simple Allocation Strategies...\n",
      "\n",
      "✅ Proportional Allocation:\n",
      "   Total unmet demand: 719,531\n",
      "   Avg coverage: 85.0%\n",
      "   Coverage std: 0.0%\n",
      "\n",
      "✅ Equal Allocation:\n",
      "   Total unmet demand: 917,630\n",
      "   Avg coverage: 94.6%\n",
      "   Coverage std: 38.7%\n",
      "\n"
     ]
    }
   ],
   "source": [
    "if df_predictions is not None:\n",
    "    print(\"📐 Testing Simple Allocation Strategies...\\n\")\n",
    "\n",
    "    allocation_results = {}\n",
    "\n",
    "    # 1. Proportional Allocation (based on demand)\n",
    "    regional_demand['allocation_proportional'] = (\n",
    "        regional_demand['total_demand'] / total_demand * TOTAL_SUPPLY\n",
    "    )\n",
    "\n",
    "    regional_demand['unmet_proportional'] = (\n",
    "        regional_demand['total_demand'] - regional_demand['allocation_proportional']\n",
    "    ).clip(lower=0)\n",
    "\n",
    "    regional_demand['coverage_proportional'] = (\n",
    "        regional_demand['allocation_proportional'] / regional_demand['total_demand'] * 100\n",
    "    )\n",
    "\n",
    "    total_unmet_prop = regional_demand['unmet_proportional'].sum()\n",
    "    avg_coverage_prop = regional_demand['coverage_proportional'].mean()\n",
    "\n",
    "    allocation_results['Proportional'] = {\n",
    "        'total_unmet': total_unmet_prop,\n",
    "        'avg_coverage': avg_coverage_prop,\n",
    "        'std_coverage': regional_demand['coverage_proportional'].std(),\n",
    "        'min_coverage': regional_demand['coverage_proportional'].min()\n",
    "    }\n",
    "\n",
    "    print(f\"✅ Proportional Allocation:\")\n",
    "    print(f\"   Total unmet demand: {total_unmet_prop:,.0f}\")\n",
    "    print(f\"   Avg coverage: {avg_coverage_prop:.1f}%\")\n",
    "    print(f\"   Coverage std: {regional_demand['coverage_proportional'].std():.1f}%\\n\")\n",
    "\n",
    "    # 2. Equal Allocation (same amount per region)\n",
    "    equal_allocation = TOTAL_SUPPLY / len(regional_demand)\n",
    "    regional_demand['allocation_equal'] = equal_allocation\n",
    "\n",
    "    regional_demand['unmet_equal'] = (\n",
    "        regional_demand['total_demand'] - regional_demand['allocation_equal']\n",
    "    ).clip(lower=0)\n",
    "\n",
    "    regional_demand['coverage_equal'] = (\n",
    "        regional_demand['allocation_equal'] / regional_demand['total_demand'] * 100\n",
    "    )\n",
    "\n",
    "    total_unmet_eq = regional_demand['unmet_equal'].sum()\n",
    "    avg_coverage_eq = regional_demand['coverage_equal'].mean()\n",
    "\n",
    "    allocation_results['Equal'] = {\n",
    "        'total_unmet': total_unmet_eq,\n",
    "        'avg_coverage': avg_coverage_eq,\n",
    "        'std_coverage': regional_demand['coverage_equal'].std(),\n",
    "        'min_coverage': regional_demand['coverage_equal'].min()\n",
    "    }\n",
    "\n",
    "    print(f\"✅ Equal Allocation:\")\n",
    "    print(f\"   Total unmet demand: {total_unmet_eq:,.0f}\")\n",
    "    print(f\"   Avg coverage: {avg_coverage_eq:.1f}%\")\n",
    "    print(f\"   Coverage std: {regional_demand['coverage_equal'].std():.1f}%\\n\")"
   ]
  },
  {
   "cell_type": "markdown",
   "id": "49852c2b",
   "metadata": {
    "id": "49852c2b"
   },
   "source": [
    "---\n",
    "\n",
    "## 🧬 5. Optimized Allocation (Genetic Algorithm)\n",
    "\n",
    "**For Non-Technical Readers**: Think of this as evolution in action! We create many possible allocation plans (the \"population\"), keep the best ones (the \"fittest\"), combine them to make new plans (like breeding), add some random changes (mutations), and repeat. After 200 generations, we find an optimal solution that balances multiple goals.\n",
    "\n",
    "**The Challenge**: We're trying to optimize multiple conflicting objectives simultaneously:\n",
    "- **Efficiency** - Serve as many people as possible with limited vaccines\n",
    "- **Equity** - Don't leave any region too far behind\n",
    "- **Access** - Ensure everyone gets at least minimum coverage\n",
    "- **Fairness** - Avoid concentrating all vaccines in one region\n",
    "\n",
    "**Why Genetic Algorithm?**: Traditional optimization can only handle one objective at a time. Genetic algorithms excel at finding solutions that balance multiple competing goals - perfect for our real-world problem!\n",
    "\n",
    "Find the best allocation that balances multiple objectives."
   ]
  },
  {
   "cell_type": "code",
   "execution_count": 7,
   "id": "d9ef67bd",
   "metadata": {
    "colab": {
     "base_uri": "https://localhost:8080/"
    },
    "execution": {
     "iopub.execute_input": "2025-10-22T13:26:46.026948Z",
     "iopub.status.busy": "2025-10-22T13:26:46.026863Z",
     "iopub.status.idle": "2025-10-22T13:26:46.287465Z",
     "shell.execute_reply": "2025-10-22T13:26:46.287091Z"
    },
    "id": "d9ef67bd",
    "outputId": "2bbc3e23-7e82-452b-b095-99d66d85a661"
   },
   "outputs": [
    {
     "name": "stdout",
     "output_type": "stream",
     "text": [
      "🧬 Running Genetic Algorithm Optimization...\n",
      "\n",
      "🚀 Optimizing... (this may take a minute)\n"
     ]
    },
    {
     "name": "stdout",
     "output_type": "stream",
     "text": [
      "✅ Optimization complete!\n",
      "\n",
      "🏆 Optimized Allocation:\n",
      "   Total unmet demand: 752,048\n",
      "   Avg coverage: 88.0%\n",
      "   Coverage std: 13.9%\n",
      "   Fitness score: 0.8291\n"
     ]
    }
   ],
   "source": [
    "if PYGAD_AVAILABLE and df_predictions is not None:\n",
    "    print(\"🧬 Running Genetic Algorithm Optimization...\\n\")\n",
    "\n",
    "    # Extract demand as numpy array (for speed)\n",
    "    demand_array = regional_demand['total_demand'].values\n",
    "    n_regions = len(demand_array)\n",
    "\n",
    "    # Define fitness function with better objective formulation\n",
    "    def fitness_function(ga_instance, solution, solution_idx):\n",
    "        \"\"\"\n",
    "        Multi-objective fitness function for vaccine allocation optimization.\n",
    "\n",
    "        Objectives:\n",
    "        1. Minimize unmet demand (efficiency) - we want to serve as much demand as possible\n",
    "        2. Minimize inequality (equity) - fair distribution across regions\n",
    "        3. Maximize minimum coverage (access) - no region left too far behind\n",
    "        4. Penalize violations of physical constraints\n",
    "\n",
    "        Returns:\n",
    "            float: Fitness score (higher is better)\n",
    "        \"\"\"\n",
    "        # Normalize solution to match total supply exactly\n",
    "        # Prevent negative allocations\n",
    "        solution = np.maximum(solution, 0)\n",
    "\n",
    "        if solution.sum() == 0:\n",
    "            return 0  # Invalid solution\n",
    "\n",
    "        allocation = solution / solution.sum() * TOTAL_SUPPLY\n",
    "\n",
    "        # Calculate coverage rates\n",
    "        coverage = np.minimum(allocation / demand_array * 100, 100)  # Cap at 100%\n",
    "\n",
    "        # Calculate unmet demand\n",
    "        unmet = np.maximum(demand_array - allocation, 0)\n",
    "\n",
    "        # Objective 1: Efficiency (minimize unmet demand)\n",
    "        # Normalize to 0-1 range (1 = perfect, 0 = worst)\n",
    "        efficiency = 1 - (unmet.sum() / demand_array.sum())\n",
    "\n",
    "        # Objective 2: Equity (minimize standard deviation of coverage)\n",
    "        # Penalize high inequality\n",
    "        coverage_std = coverage.std()\n",
    "        equity = 1 - (coverage_std / 100)  # Normalize\n",
    "        equity = max(0, equity)  # Ensure non-negative\n",
    "\n",
    "        # Objective 3: Access (maximize minimum coverage)\n",
    "        # Ensure no region is left too far behind\n",
    "        min_coverage = coverage.min()\n",
    "        access = min_coverage / 100  # Normalize to 0-1\n",
    "\n",
    "        # Objective 4: Bonus for regions above target threshold (80%)\n",
    "        regions_above_target = (coverage >= 80).sum() / n_regions\n",
    "\n",
    "        # Penalty for extreme allocations (avoid putting all eggs in one basket)\n",
    "        max_allocation_share = allocation.max() / TOTAL_SUPPLY\n",
    "        concentration_penalty = 0\n",
    "        if max_allocation_share > 0.3:  # No region should get more than 30%\n",
    "            concentration_penalty = (max_allocation_share - 0.3) * 0.5\n",
    "\n",
    "        # Weighted combination of objectives\n",
    "        # Adjust weights based on policy priorities\n",
    "        fitness = (\n",
    "            0.40 * efficiency +           # Primary: serve demand efficiently\n",
    "            0.25 * equity +                # Important: fair distribution\n",
    "            0.20 * access +                # Important: help struggling regions\n",
    "            0.15 * regions_above_target -  # Bonus: many regions well-served\n",
    "            concentration_penalty           # Penalty: avoid concentration\n",
    "        )\n",
    "\n",
    "        return fitness\n",
    "\n",
    "    # Setup genetic algorithm\n",
    "    ga_instance = pygad.GA(\n",
    "        num_generations=200,\n",
    "        num_parents_mating=10,\n",
    "        fitness_func=fitness_function,\n",
    "        sol_per_pop=50,\n",
    "        num_genes=n_regions,\n",
    "        init_range_low=0,\n",
    "        init_range_high=1,\n",
    "        parent_selection_type='tournament',\n",
    "        keep_parents=2,\n",
    "        crossover_type='uniform',\n",
    "        mutation_type='random',\n",
    "        mutation_percent_genes=10,\n",
    "        random_seed=42\n",
    "    )\n",
    "\n",
    "    # Run optimization\n",
    "    print(\"🚀 Optimizing... (this may take a minute)\")\n",
    "    ga_instance.run()\n",
    "    print(\"✅ Optimization complete!\\n\")\n",
    "\n",
    "    # Get best solution\n",
    "    solution, solution_fitness, solution_idx = ga_instance.best_solution()\n",
    "\n",
    "    # Normalize to actual supply\n",
    "    optimal_allocation = solution / solution.sum() * TOTAL_SUPPLY\n",
    "\n",
    "    regional_demand['allocation_optimal'] = optimal_allocation\n",
    "    regional_demand['unmet_optimal'] = (\n",
    "        regional_demand['total_demand'] - regional_demand['allocation_optimal']\n",
    "    ).clip(lower=0)\n",
    "    regional_demand['coverage_optimal'] = (\n",
    "        regional_demand['allocation_optimal'] / regional_demand['total_demand'] * 100\n",
    "    )\n",
    "\n",
    "    total_unmet_opt = regional_demand['unmet_optimal'].sum()\n",
    "    avg_coverage_opt = regional_demand['coverage_optimal'].mean()\n",
    "\n",
    "    allocation_results['Optimized (GA)'] = {\n",
    "        'total_unmet': total_unmet_opt,\n",
    "        'avg_coverage': avg_coverage_opt,\n",
    "        'std_coverage': regional_demand['coverage_optimal'].std(),\n",
    "        'min_coverage': regional_demand['coverage_optimal'].min()\n",
    "    }\n",
    "\n",
    "    print(f\"🏆 Optimized Allocation:\")\n",
    "    print(f\"   Total unmet demand: {total_unmet_opt:,.0f}\")\n",
    "    print(f\"   Avg coverage: {avg_coverage_opt:.1f}%\")\n",
    "    print(f\"   Coverage std: {regional_demand['coverage_optimal'].std():.1f}%\")\n",
    "    print(f\"   Fitness score: {solution_fitness:.4f}\")\n",
    "\n",
    "else:\n",
    "    print(\"⚠️ Skipping GA optimization (PyGAD not installed)\")"
   ]
  },
  {
   "cell_type": "markdown",
   "id": "b70d2d2f",
   "metadata": {
    "id": "b70d2d2f"
   },
   "source": [
    "---\n",
    "\n",
    "## 📊 6. Compare All Strategies"
   ]
  },
  {
   "cell_type": "code",
   "execution_count": 8,
   "id": "9719b616",
   "metadata": {
    "colab": {
     "base_uri": "https://localhost:8080/"
    },
    "execution": {
     "iopub.execute_input": "2025-10-22T13:26:46.288519Z",
     "iopub.status.busy": "2025-10-22T13:26:46.288431Z",
     "iopub.status.idle": "2025-10-22T13:26:46.293196Z",
     "shell.execute_reply": "2025-10-22T13:26:46.292875Z"
    },
    "id": "9719b616",
    "outputId": "a02d67fa-ca41-4160-87ba-31ea2cba7188"
   },
   "outputs": [
    {
     "name": "stdout",
     "output_type": "stream",
     "text": [
      "\n",
      "================================================================================\n",
      "📊 ALLOCATION STRATEGY COMPARISON\n",
      "================================================================================\n",
      "\n",
      "                  total_unmet  avg_coverage  std_coverage  min_coverage\n",
      "Proportional    719531.378124     85.000000  1.089923e-14     85.000000\n",
      "Optimized (GA)  752047.733032     88.011234  1.386571e+01     69.127390\n",
      "Equal           917629.634280     94.614867  3.872111e+01     44.123593\n",
      "\n",
      "🏆 BEST STRATEGY: Proportional\n",
      "   Lowest unmet demand: 719,531\n",
      "   Highest avg coverage: 85.0%\n",
      "\n",
      "📊 What These Numbers Mean:\n",
      "   • total_unmet: How many people DON'T get vaccinated (lower is better)\n",
      "   • avg_coverage: Average % of demand met across regions (higher is better)\n",
      "   • std_coverage: How much coverage varies between regions (lower = more equal)\n",
      "   • min_coverage: The worst-served region's coverage (higher is better)\n",
      "\n",
      "💡 Key Insight:\n",
      "   Optimized allocation serves -5% more people than proportional!\n",
      "   That's -32,516 additional people vaccinated.\n",
      "   → This translates to ~-22,761 fewer emergency visits!\n",
      "\n",
      "💾 Comparison saved: allocation_comparison.csv\n"
     ]
    }
   ],
   "source": [
    "if allocation_results:\n",
    "    print(\"\\n\" + \"=\"*80)\n",
    "    print(\"📊 ALLOCATION STRATEGY COMPARISON\")\n",
    "    print(\"=\"*80)\n",
    "\n",
    "    comparison = pd.DataFrame(allocation_results).T\n",
    "    comparison = comparison.sort_values('total_unmet')\n",
    "\n",
    "    print(\"\\n\" + comparison.to_string())\n",
    "\n",
    "    # Identify best\n",
    "    best_strategy = comparison['total_unmet'].idxmin()\n",
    "    print(f\"\\n🏆 BEST STRATEGY: {best_strategy}\")\n",
    "    print(f\"   Lowest unmet demand: {comparison.loc[best_strategy, 'total_unmet']:,.0f}\")\n",
    "    print(f\"   Highest avg coverage: {comparison.loc[best_strategy, 'avg_coverage']:.1f}%\")\n",
    "\n",
    "    # Add interpretation for decision-makers\n",
    "    print(f\"\\n📊 What These Numbers Mean:\")\n",
    "    print(f\"   • total_unmet: How many people DON'T get vaccinated (lower is better)\")\n",
    "    print(f\"   • avg_coverage: Average % of demand met across regions (higher is better)\")\n",
    "    print(f\"   • std_coverage: How much coverage varies between regions (lower = more equal)\")\n",
    "    print(f\"   • min_coverage: The worst-served region's coverage (higher is better)\")\n",
    "\n",
    "    print(f\"\\n💡 Key Insight:\")\n",
    "    if 'Optimized (GA)' in comparison.index:\n",
    "        prop_unmet = comparison.loc['Proportional', 'total_unmet']\n",
    "        opt_unmet = comparison.loc['Optimized (GA)', 'total_unmet']\n",
    "        improvement = ((prop_unmet - opt_unmet) / prop_unmet) * 100\n",
    "        print(f\"   Optimized allocation serves {improvement:.0f}% more people than proportional!\")\n",
    "        print(f\"   That's {prop_unmet - opt_unmet:,.0f} additional people vaccinated.\")\n",
    "        print(f\"   → This translates to ~{(prop_unmet - opt_unmet) * 0.7:,.0f} fewer emergency visits!\")\n",
    "\n",
    "    # Save comparison\n",
    "    comparison.to_csv(OUTPUT_PATH / 'allocation_comparison.csv')\n",
    "    print(f\"\\n💾 Comparison saved: allocation_comparison.csv\")"
   ]
  },
  {
   "cell_type": "markdown",
   "id": "4067bd05",
   "metadata": {
    "id": "4067bd05"
   },
   "source": [
    "---\n",
    "\n",
    "## 📋 7. Detailed Regional Allocation Plan"
   ]
  },
  {
   "cell_type": "code",
   "execution_count": 9,
   "id": "0b5cb7ae",
   "metadata": {
    "colab": {
     "base_uri": "https://localhost:8080/"
    },
    "execution": {
     "iopub.execute_input": "2025-10-22T13:26:46.294115Z",
     "iopub.status.busy": "2025-10-22T13:26:46.294055Z",
     "iopub.status.idle": "2025-10-22T13:26:46.297967Z",
     "shell.execute_reply": "2025-10-22T13:26:46.297669Z"
    },
    "id": "0b5cb7ae",
    "outputId": "fca3cb12-a743-4dfc-b38a-6c104bef0f5b"
   },
   "outputs": [
    {
     "name": "stdout",
     "output_type": "stream",
     "text": [
      "\n",
      "📋 FINAL ALLOCATION PLAN:\n",
      "\n",
      "                    region  total_demand  allocation_proportional  coverage_proportional  allocation_optimal  coverage_optimal\n",
      "                    Guyane 513374.183780                 436368.0                   85.0            354882.0         69.127390\n",
      "                   Réunion 376445.218321                 319978.0                   85.0            289865.0         77.000500\n",
      "                Guadeloupe 323409.022760                 274898.0                   85.0            291476.0         90.126097\n",
      "             Île-de-France 291037.644271                 247382.0                   85.0            204534.0         70.277536\n",
      "                     Corse 290226.886414                 246693.0                   85.0            268898.0         92.651023\n",
      "                 Grand Est 282018.339608                 239716.0                   85.0            226916.0         80.461422\n",
      "Bourgogne et Franche-Comté 279111.246148                 237245.0                   85.0            233193.0         83.548287\n",
      "           Hauts-de-France 273005.134347                 232054.0                   85.0            236504.0         86.629984\n",
      "Provence-Alpes-Côte d'Azur 260240.744370                 221205.0                   85.0            257188.0         98.827002\n",
      "                 Normandie 244398.307386                 207739.0                   85.0            226778.0         92.790233\n",
      "   Auvergne et Rhône-Alpes 243713.893273                 207157.0                   85.0            206511.0         84.734841\n",
      "        Nouvelle Aquitaine 241855.881860                 205577.0                   85.0            202070.0         83.549783\n",
      "       Centre-Val de Loire 241632.622664                 205388.0                   85.0            193535.0         80.094903\n",
      "          Pays de la Loire 228428.434884                 194164.0                   85.0            193911.0         84.889204\n",
      "                  Bretagne 226443.708027                 192477.0                   85.0            210393.0         92.911620\n",
      "                 Occitanie 209931.898792                 178442.0                   85.0            182766.0         87.059596\n",
      "                Martinique 173353.557277                 147351.0                   85.0            167160.0         96.426972\n",
      "                   Mayotte  98249.129978                  83512.0                   85.0            130765.0        133.095820\n",
      "\n",
      "💾 Saved: final_allocation_plan.csv\n"
     ]
    }
   ],
   "source": [
    "if df_predictions is not None:\n",
    "    # Create final allocation plan\n",
    "    columns_to_include = [\n",
    "        'region', 'total_demand',\n",
    "        'allocation_proportional', 'coverage_proportional',\n",
    "    ]\n",
    "\n",
    "    # Add optimal allocation columns if they exist (only if GA ran)\n",
    "    if 'allocation_optimal' in regional_demand.columns:\n",
    "        columns_to_include.extend(['allocation_optimal', 'coverage_optimal'])\n",
    "\n",
    "    allocation_plan = regional_demand[columns_to_include].copy()\n",
    "\n",
    "    # Round allocations\n",
    "    allocation_plan['allocation_proportional'] = allocation_plan['allocation_proportional'].round(0)\n",
    "    if 'allocation_optimal' in allocation_plan.columns:\n",
    "        allocation_plan['allocation_optimal'] = allocation_plan['allocation_optimal'].round(0)\n",
    "\n",
    "    # Sort by demand\n",
    "    allocation_plan = allocation_plan.sort_values('total_demand', ascending=False)\n",
    "\n",
    "    print(\"\\n📋 FINAL ALLOCATION PLAN:\\n\")\n",
    "    print(allocation_plan.to_string(index=False))\n",
    "\n",
    "    # Save\n",
    "    allocation_plan.to_csv(OUTPUT_PATH / 'final_allocation_plan.csv', index=False)\n",
    "    print(f\"\\n💾 Saved: final_allocation_plan.csv\")"
   ]
  },
  {
   "cell_type": "markdown",
   "id": "abd37af0",
   "metadata": {
    "id": "abd37af0"
   },
   "source": [
    "---\n",
    "\n",
    "## 📊 8. Visualize Allocation Results"
   ]
  },
  {
   "cell_type": "code",
   "execution_count": 10,
   "id": "9c32679b",
   "metadata": {
    "colab": {
     "base_uri": "https://localhost:8080/",
     "height": 552
    },
    "execution": {
     "iopub.execute_input": "2025-10-22T13:26:46.298893Z",
     "iopub.status.busy": "2025-10-22T13:26:46.298817Z",
     "iopub.status.idle": "2025-10-22T13:26:46.317764Z",
     "shell.execute_reply": "2025-10-22T13:26:46.317378Z"
    },
    "id": "9c32679b",
    "outputId": "69492df4-eb7d-4fb6-bc2f-c93e61bab01c"
   },
   "outputs": [
    {
     "data": {
      "application/vnd.plotly.v1+json": {
       "config": {
        "plotlyServerURL": "https://plot.ly"
       },
       "data": [
        {
         "marker": {
          "color": "lightgray"
         },
         "name": "Total Demand",
         "type": "bar",
         "x": [
          "Guyane",
          "Réunion",
          "Guadeloupe",
          "Île-de-France",
          "Corse",
          "Grand Est",
          "Bourgogne et Franche-Comté",
          "Hauts-de-France",
          "Provence-Alpes-Côte d'Azur",
          "Normandie",
          "Auvergne et Rhône-Alpes",
          "Nouvelle Aquitaine",
          "Centre-Val de Loire",
          "Pays de la Loire",
          "Bretagne",
          "Occitanie",
          "Martinique",
          "Mayotte"
         ],
         "y": {
          "bdata": "B9MwvHhVH0FMio/f9PkWQb9lThdEvRNB68a7k3bDEUGTHLCLy7YRQRYzwluJNhFBqDgO/BwJEUGNQpKJtKkQQTFCePSFxA9BisqGdXLVDUGLUGwlD8ANQZ2dDA7/hQ1BY0M3+wR/DUFsdqR6Y+ILQU0PCqpdpAtBL9y5MF+gCUHPpE11TCkFQbPPYxSS/PdA",
          "dtype": "f8"
         }
        },
        {
         "marker": {
          "color": "blue",
          "opacity": 0.6
         },
         "name": "Proportional Allocation",
         "type": "bar",
         "x": [
          "Guyane",
          "Réunion",
          "Guadeloupe",
          "Île-de-France",
          "Corse",
          "Grand Est",
          "Bourgogne et Franche-Comté",
          "Hauts-de-France",
          "Provence-Alpes-Côte d'Azur",
          "Normandie",
          "Auvergne et Rhône-Alpes",
          "Nouvelle Aquitaine",
          "Centre-Val de Loire",
          "Pays de la Loire",
          "Bretagne",
          "Occitanie",
          "Martinique",
          "Mayotte"
         ],
         "y": {
          "bdata": "kuaPOUCiGkEnzwa+qYcTQa8Jaa1GxxBB9Z4l+68yDkH5lt7TJh0OQXLwlrUcQw1BUWBLeeT1DEG9Ct/pslMMQamezA+lAAtBW19/fdRbCUEQ3mh5pkkJQcZSJP9LGAlB4JKI1V0SCUF2MXJbobMHQWjz7jbpfgdB9cdq6VDIBUFK/4EwtPwBQYtw7ip8Y/RA",
          "dtype": "f8"
         }
        },
        {
         "marker": {
          "color": "green",
          "opacity": 0.6
         },
         "name": "Optimized Allocation",
         "type": "bar",
         "x": [
          "Guyane",
          "Réunion",
          "Guadeloupe",
          "Île-de-France",
          "Corse",
          "Grand Est",
          "Bourgogne et Franche-Comté",
          "Hauts-de-France",
          "Provence-Alpes-Côte d'Azur",
          "Normandie",
          "Auvergne et Rhône-Alpes",
          "Nouvelle Aquitaine",
          "Centre-Val de Loire",
          "Pays de la Loire",
          "Bretagne",
          "Occitanie",
          "Martinique",
          "Mayotte"
         ],
         "y": {
          "bdata": "k9xztAipFUGG///MIrERQer60bZPyhFBoMwGrLD3CEEqO5m4iGkQQYnjy7kfswtBCG4lUEV3DEEJY5Rvwt4MQb1dbf8gZQ9B86MDEc6uC0GrglSidDUJQZwgg4OwqghB+o84T/ufB0HTZeiluKsHQfvAZSTErglB6Onn5W5PBkFVAt6wvGcEQW8RGMLX7P9A",
          "dtype": "f8"
         }
        }
       ],
       "layout": {
        "barmode": "group",
        "height": 500,
        "template": {
         "data": {
          "bar": [
           {
            "error_x": {
             "color": "#2a3f5f"
            },
            "error_y": {
             "color": "#2a3f5f"
            },
            "marker": {
             "line": {
              "color": "white",
              "width": 0.5
             },
             "pattern": {
              "fillmode": "overlay",
              "size": 10,
              "solidity": 0.2
             }
            },
            "type": "bar"
           }
          ],
          "barpolar": [
           {
            "marker": {
             "line": {
              "color": "white",
              "width": 0.5
             },
             "pattern": {
              "fillmode": "overlay",
              "size": 10,
              "solidity": 0.2
             }
            },
            "type": "barpolar"
           }
          ],
          "carpet": [
           {
            "aaxis": {
             "endlinecolor": "#2a3f5f",
             "gridcolor": "#C8D4E3",
             "linecolor": "#C8D4E3",
             "minorgridcolor": "#C8D4E3",
             "startlinecolor": "#2a3f5f"
            },
            "baxis": {
             "endlinecolor": "#2a3f5f",
             "gridcolor": "#C8D4E3",
             "linecolor": "#C8D4E3",
             "minorgridcolor": "#C8D4E3",
             "startlinecolor": "#2a3f5f"
            },
            "type": "carpet"
           }
          ],
          "choropleth": [
           {
            "colorbar": {
             "outlinewidth": 0,
             "ticks": ""
            },
            "type": "choropleth"
           }
          ],
          "contour": [
           {
            "colorbar": {
             "outlinewidth": 0,
             "ticks": ""
            },
            "colorscale": [
             [
              0.0,
              "#0d0887"
             ],
             [
              0.1111111111111111,
              "#46039f"
             ],
             [
              0.2222222222222222,
              "#7201a8"
             ],
             [
              0.3333333333333333,
              "#9c179e"
             ],
             [
              0.4444444444444444,
              "#bd3786"
             ],
             [
              0.5555555555555556,
              "#d8576b"
             ],
             [
              0.6666666666666666,
              "#ed7953"
             ],
             [
              0.7777777777777778,
              "#fb9f3a"
             ],
             [
              0.8888888888888888,
              "#fdca26"
             ],
             [
              1.0,
              "#f0f921"
             ]
            ],
            "type": "contour"
           }
          ],
          "contourcarpet": [
           {
            "colorbar": {
             "outlinewidth": 0,
             "ticks": ""
            },
            "type": "contourcarpet"
           }
          ],
          "heatmap": [
           {
            "colorbar": {
             "outlinewidth": 0,
             "ticks": ""
            },
            "colorscale": [
             [
              0.0,
              "#0d0887"
             ],
             [
              0.1111111111111111,
              "#46039f"
             ],
             [
              0.2222222222222222,
              "#7201a8"
             ],
             [
              0.3333333333333333,
              "#9c179e"
             ],
             [
              0.4444444444444444,
              "#bd3786"
             ],
             [
              0.5555555555555556,
              "#d8576b"
             ],
             [
              0.6666666666666666,
              "#ed7953"
             ],
             [
              0.7777777777777778,
              "#fb9f3a"
             ],
             [
              0.8888888888888888,
              "#fdca26"
             ],
             [
              1.0,
              "#f0f921"
             ]
            ],
            "type": "heatmap"
           }
          ],
          "histogram": [
           {
            "marker": {
             "pattern": {
              "fillmode": "overlay",
              "size": 10,
              "solidity": 0.2
             }
            },
            "type": "histogram"
           }
          ],
          "histogram2d": [
           {
            "colorbar": {
             "outlinewidth": 0,
             "ticks": ""
            },
            "colorscale": [
             [
              0.0,
              "#0d0887"
             ],
             [
              0.1111111111111111,
              "#46039f"
             ],
             [
              0.2222222222222222,
              "#7201a8"
             ],
             [
              0.3333333333333333,
              "#9c179e"
             ],
             [
              0.4444444444444444,
              "#bd3786"
             ],
             [
              0.5555555555555556,
              "#d8576b"
             ],
             [
              0.6666666666666666,
              "#ed7953"
             ],
             [
              0.7777777777777778,
              "#fb9f3a"
             ],
             [
              0.8888888888888888,
              "#fdca26"
             ],
             [
              1.0,
              "#f0f921"
             ]
            ],
            "type": "histogram2d"
           }
          ],
          "histogram2dcontour": [
           {
            "colorbar": {
             "outlinewidth": 0,
             "ticks": ""
            },
            "colorscale": [
             [
              0.0,
              "#0d0887"
             ],
             [
              0.1111111111111111,
              "#46039f"
             ],
             [
              0.2222222222222222,
              "#7201a8"
             ],
             [
              0.3333333333333333,
              "#9c179e"
             ],
             [
              0.4444444444444444,
              "#bd3786"
             ],
             [
              0.5555555555555556,
              "#d8576b"
             ],
             [
              0.6666666666666666,
              "#ed7953"
             ],
             [
              0.7777777777777778,
              "#fb9f3a"
             ],
             [
              0.8888888888888888,
              "#fdca26"
             ],
             [
              1.0,
              "#f0f921"
             ]
            ],
            "type": "histogram2dcontour"
           }
          ],
          "mesh3d": [
           {
            "colorbar": {
             "outlinewidth": 0,
             "ticks": ""
            },
            "type": "mesh3d"
           }
          ],
          "parcoords": [
           {
            "line": {
             "colorbar": {
              "outlinewidth": 0,
              "ticks": ""
             }
            },
            "type": "parcoords"
           }
          ],
          "pie": [
           {
            "automargin": true,
            "type": "pie"
           }
          ],
          "scatter": [
           {
            "fillpattern": {
             "fillmode": "overlay",
             "size": 10,
             "solidity": 0.2
            },
            "type": "scatter"
           }
          ],
          "scatter3d": [
           {
            "line": {
             "colorbar": {
              "outlinewidth": 0,
              "ticks": ""
             }
            },
            "marker": {
             "colorbar": {
              "outlinewidth": 0,
              "ticks": ""
             }
            },
            "type": "scatter3d"
           }
          ],
          "scattercarpet": [
           {
            "marker": {
             "colorbar": {
              "outlinewidth": 0,
              "ticks": ""
             }
            },
            "type": "scattercarpet"
           }
          ],
          "scattergeo": [
           {
            "marker": {
             "colorbar": {
              "outlinewidth": 0,
              "ticks": ""
             }
            },
            "type": "scattergeo"
           }
          ],
          "scattergl": [
           {
            "marker": {
             "colorbar": {
              "outlinewidth": 0,
              "ticks": ""
             }
            },
            "type": "scattergl"
           }
          ],
          "scattermap": [
           {
            "marker": {
             "colorbar": {
              "outlinewidth": 0,
              "ticks": ""
             }
            },
            "type": "scattermap"
           }
          ],
          "scattermapbox": [
           {
            "marker": {
             "colorbar": {
              "outlinewidth": 0,
              "ticks": ""
             }
            },
            "type": "scattermapbox"
           }
          ],
          "scatterpolar": [
           {
            "marker": {
             "colorbar": {
              "outlinewidth": 0,
              "ticks": ""
             }
            },
            "type": "scatterpolar"
           }
          ],
          "scatterpolargl": [
           {
            "marker": {
             "colorbar": {
              "outlinewidth": 0,
              "ticks": ""
             }
            },
            "type": "scatterpolargl"
           }
          ],
          "scatterternary": [
           {
            "marker": {
             "colorbar": {
              "outlinewidth": 0,
              "ticks": ""
             }
            },
            "type": "scatterternary"
           }
          ],
          "surface": [
           {
            "colorbar": {
             "outlinewidth": 0,
             "ticks": ""
            },
            "colorscale": [
             [
              0.0,
              "#0d0887"
             ],
             [
              0.1111111111111111,
              "#46039f"
             ],
             [
              0.2222222222222222,
              "#7201a8"
             ],
             [
              0.3333333333333333,
              "#9c179e"
             ],
             [
              0.4444444444444444,
              "#bd3786"
             ],
             [
              0.5555555555555556,
              "#d8576b"
             ],
             [
              0.6666666666666666,
              "#ed7953"
             ],
             [
              0.7777777777777778,
              "#fb9f3a"
             ],
             [
              0.8888888888888888,
              "#fdca26"
             ],
             [
              1.0,
              "#f0f921"
             ]
            ],
            "type": "surface"
           }
          ],
          "table": [
           {
            "cells": {
             "fill": {
              "color": "#EBF0F8"
             },
             "line": {
              "color": "white"
             }
            },
            "header": {
             "fill": {
              "color": "#C8D4E3"
             },
             "line": {
              "color": "white"
             }
            },
            "type": "table"
           }
          ]
         },
         "layout": {
          "annotationdefaults": {
           "arrowcolor": "#2a3f5f",
           "arrowhead": 0,
           "arrowwidth": 1
          },
          "autotypenumbers": "strict",
          "coloraxis": {
           "colorbar": {
            "outlinewidth": 0,
            "ticks": ""
           }
          },
          "colorscale": {
           "diverging": [
            [
             0,
             "#8e0152"
            ],
            [
             0.1,
             "#c51b7d"
            ],
            [
             0.2,
             "#de77ae"
            ],
            [
             0.3,
             "#f1b6da"
            ],
            [
             0.4,
             "#fde0ef"
            ],
            [
             0.5,
             "#f7f7f7"
            ],
            [
             0.6,
             "#e6f5d0"
            ],
            [
             0.7,
             "#b8e186"
            ],
            [
             0.8,
             "#7fbc41"
            ],
            [
             0.9,
             "#4d9221"
            ],
            [
             1,
             "#276419"
            ]
           ],
           "sequential": [
            [
             0.0,
             "#0d0887"
            ],
            [
             0.1111111111111111,
             "#46039f"
            ],
            [
             0.2222222222222222,
             "#7201a8"
            ],
            [
             0.3333333333333333,
             "#9c179e"
            ],
            [
             0.4444444444444444,
             "#bd3786"
            ],
            [
             0.5555555555555556,
             "#d8576b"
            ],
            [
             0.6666666666666666,
             "#ed7953"
            ],
            [
             0.7777777777777778,
             "#fb9f3a"
            ],
            [
             0.8888888888888888,
             "#fdca26"
            ],
            [
             1.0,
             "#f0f921"
            ]
           ],
           "sequentialminus": [
            [
             0.0,
             "#0d0887"
            ],
            [
             0.1111111111111111,
             "#46039f"
            ],
            [
             0.2222222222222222,
             "#7201a8"
            ],
            [
             0.3333333333333333,
             "#9c179e"
            ],
            [
             0.4444444444444444,
             "#bd3786"
            ],
            [
             0.5555555555555556,
             "#d8576b"
            ],
            [
             0.6666666666666666,
             "#ed7953"
            ],
            [
             0.7777777777777778,
             "#fb9f3a"
            ],
            [
             0.8888888888888888,
             "#fdca26"
            ],
            [
             1.0,
             "#f0f921"
            ]
           ]
          },
          "colorway": [
           "#636efa",
           "#EF553B",
           "#00cc96",
           "#ab63fa",
           "#FFA15A",
           "#19d3f3",
           "#FF6692",
           "#B6E880",
           "#FF97FF",
           "#FECB52"
          ],
          "font": {
           "color": "#2a3f5f"
          },
          "geo": {
           "bgcolor": "white",
           "lakecolor": "white",
           "landcolor": "white",
           "showlakes": true,
           "showland": true,
           "subunitcolor": "#C8D4E3"
          },
          "hoverlabel": {
           "align": "left"
          },
          "hovermode": "closest",
          "mapbox": {
           "style": "light"
          },
          "paper_bgcolor": "white",
          "plot_bgcolor": "white",
          "polar": {
           "angularaxis": {
            "gridcolor": "#EBF0F8",
            "linecolor": "#EBF0F8",
            "ticks": ""
           },
           "bgcolor": "white",
           "radialaxis": {
            "gridcolor": "#EBF0F8",
            "linecolor": "#EBF0F8",
            "ticks": ""
           }
          },
          "scene": {
           "xaxis": {
            "backgroundcolor": "white",
            "gridcolor": "#DFE8F3",
            "gridwidth": 2,
            "linecolor": "#EBF0F8",
            "showbackground": true,
            "ticks": "",
            "zerolinecolor": "#EBF0F8"
           },
           "yaxis": {
            "backgroundcolor": "white",
            "gridcolor": "#DFE8F3",
            "gridwidth": 2,
            "linecolor": "#EBF0F8",
            "showbackground": true,
            "ticks": "",
            "zerolinecolor": "#EBF0F8"
           },
           "zaxis": {
            "backgroundcolor": "white",
            "gridcolor": "#DFE8F3",
            "gridwidth": 2,
            "linecolor": "#EBF0F8",
            "showbackground": true,
            "ticks": "",
            "zerolinecolor": "#EBF0F8"
           }
          },
          "shapedefaults": {
           "line": {
            "color": "#2a3f5f"
           }
          },
          "ternary": {
           "aaxis": {
            "gridcolor": "#DFE8F3",
            "linecolor": "#A2B1C6",
            "ticks": ""
           },
           "baxis": {
            "gridcolor": "#DFE8F3",
            "linecolor": "#A2B1C6",
            "ticks": ""
           },
           "bgcolor": "white",
           "caxis": {
            "gridcolor": "#DFE8F3",
            "linecolor": "#A2B1C6",
            "ticks": ""
           }
          },
          "title": {
           "x": 0.05
          },
          "xaxis": {
           "automargin": true,
           "gridcolor": "#EBF0F8",
           "linecolor": "#EBF0F8",
           "ticks": "",
           "title": {
            "standoff": 15
           },
           "zerolinecolor": "#EBF0F8",
           "zerolinewidth": 2
          },
          "yaxis": {
           "automargin": true,
           "gridcolor": "#EBF0F8",
           "linecolor": "#EBF0F8",
           "ticks": "",
           "title": {
            "standoff": 15
           },
           "zerolinecolor": "#EBF0F8",
           "zerolinewidth": 2
          }
         }
        },
        "title": {
         "text": "💉 Vaccine Allocation by Region"
        },
        "xaxis": {
         "tickangle": -45,
         "title": {
          "text": "Region"
         }
        },
        "yaxis": {
         "title": {
          "text": "Vaccines"
         }
        }
       }
      }
     },
     "metadata": {},
     "output_type": "display_data"
    },
    {
     "name": "stdout",
     "output_type": "stream",
     "text": [
      "\n",
      "✅ Saved: allocation_by_region.html\n"
     ]
    }
   ],
   "source": [
    "if df_predictions is not None:\n",
    "    # Coverage comparison\n",
    "    fig = go.Figure()\n",
    "\n",
    "    # Demand baseline\n",
    "    fig.add_trace(go.Bar(\n",
    "        x=regional_demand['region'],\n",
    "        y=regional_demand['total_demand'],\n",
    "        name='Total Demand',\n",
    "        marker=dict(color='lightgray')\n",
    "    ))\n",
    "\n",
    "    # Proportional allocation\n",
    "    fig.add_trace(go.Bar(\n",
    "        x=regional_demand['region'],\n",
    "        y=regional_demand['allocation_proportional'],\n",
    "        name='Proportional Allocation',\n",
    "        marker=dict(color='blue', opacity=0.6)\n",
    "    ))\n",
    "\n",
    "    # Optimal allocation (if available)\n",
    "    if 'allocation_optimal' in regional_demand.columns:\n",
    "        fig.add_trace(go.Bar(\n",
    "            x=regional_demand['region'],\n",
    "            y=regional_demand['allocation_optimal'],\n",
    "            name='Optimized Allocation',\n",
    "            marker=dict(color='green', opacity=0.6)\n",
    "        ))\n",
    "\n",
    "    fig.update_layout(\n",
    "        title='💉 Vaccine Allocation by Region',\n",
    "        xaxis_title='Region',\n",
    "        yaxis_title='Vaccines',\n",
    "        barmode='group',\n",
    "        xaxis_tickangle=-45,\n",
    "        height=500,\n",
    "        template='plotly_white'\n",
    "    )\n",
    "\n",
    "    fig.write_html(viz_path / 'allocation_by_region.html')\n",
    "    fig.show()\n",
    "    print(\"\\n✅ Saved: allocation_by_region.html\")"
   ]
  },
  {
   "cell_type": "code",
   "execution_count": 11,
   "id": "f9b38441",
   "metadata": {
    "colab": {
     "base_uri": "https://localhost:8080/",
     "height": 534
    },
    "execution": {
     "iopub.execute_input": "2025-10-22T13:26:46.318785Z",
     "iopub.status.busy": "2025-10-22T13:26:46.318714Z",
     "iopub.status.idle": "2025-10-22T13:26:46.340993Z",
     "shell.execute_reply": "2025-10-22T13:26:46.340664Z"
    },
    "id": "f9b38441",
    "outputId": "477fe75c-aef0-4cec-d354-3d8694b0ceb9"
   },
   "outputs": [
    {
     "data": {
      "application/vnd.plotly.v1+json": {
       "config": {
        "plotlyServerURL": "https://plot.ly"
       },
       "data": [
        {
         "marker": {
          "color": "blue",
          "size": 10
         },
         "mode": "markers+lines",
         "name": "Proportional",
         "type": "scatter",
         "x": [
          "Guyane",
          "Réunion",
          "Guadeloupe",
          "Île-de-France",
          "Corse",
          "Grand Est",
          "Bourgogne et Franche-Comté",
          "Hauts-de-France",
          "Provence-Alpes-Côte d'Azur",
          "Normandie",
          "Auvergne et Rhône-Alpes",
          "Nouvelle Aquitaine",
          "Centre-Val de Loire",
          "Pays de la Loire",
          "Bretagne",
          "Occitanie",
          "Martinique",
          "Mayotte"
         ],
         "y": {
          "bdata": "//////8/VUAAAAAAAEBVQAAAAAAAQFVA//////8/VUD//////z9VQAAAAAAAQFVAAAAAAABAVUABAAAAAEBVQAAAAAAAQFVA//////8/VUAAAAAAAEBVQAEAAAAAQFVA//////8/VUABAAAAAEBVQAAAAAAAQFVAAQAAAABAVUABAAAAAEBVQAAAAAAAQFVA",
          "dtype": "f8"
         }
        },
        {
         "marker": {
          "color": "green",
          "size": 10
         },
         "mode": "markers+lines",
         "name": "Optimized",
         "type": "scatter",
         "x": [
          "Guyane",
          "Réunion",
          "Guadeloupe",
          "Île-de-France",
          "Corse",
          "Grand Est",
          "Bourgogne et Franche-Comté",
          "Hauts-de-France",
          "Provence-Alpes-Côte d'Azur",
          "Normandie",
          "Auvergne et Rhône-Alpes",
          "Nouvelle Aquitaine",
          "Centre-Val de Loire",
          "Pays de la Loire",
          "Bretagne",
          "Occitanie",
          "Martinique",
          "Mayotte"
         ],
         "y": {
          "bdata": "wx0OKidIUUAAkP8wCEBTQG7K0vcRiFZAOIiVJMORUUA1Ks1dqilXQF2iNO+HHVRA3ZEVIRfjVEAOsdaoUahVQD8XT5jttFhArhp3LJMyV0BMmFihBy9VQH1tmaQv41RAs6Ey4hIGVEA/mpi56DhVQCca4/tXOldAdk9VatDDVUDnGemCUxtYQD5kdvQQo2BA",
          "dtype": "f8"
         }
        }
       ],
       "layout": {
        "annotations": [
         {
          "showarrow": false,
          "text": "Target: 80% Coverage",
          "x": 1,
          "xanchor": "left",
          "xref": "x domain",
          "y": 80,
          "yanchor": "middle",
          "yref": "y"
         }
        ],
        "height": 500,
        "hovermode": "x unified",
        "shapes": [
         {
          "line": {
           "color": "red",
           "dash": "dash"
          },
          "type": "line",
          "x0": 0,
          "x1": 1,
          "xref": "x domain",
          "y0": 80,
          "y1": 80,
          "yref": "y"
         }
        ],
        "template": {
         "data": {
          "bar": [
           {
            "error_x": {
             "color": "#2a3f5f"
            },
            "error_y": {
             "color": "#2a3f5f"
            },
            "marker": {
             "line": {
              "color": "white",
              "width": 0.5
             },
             "pattern": {
              "fillmode": "overlay",
              "size": 10,
              "solidity": 0.2
             }
            },
            "type": "bar"
           }
          ],
          "barpolar": [
           {
            "marker": {
             "line": {
              "color": "white",
              "width": 0.5
             },
             "pattern": {
              "fillmode": "overlay",
              "size": 10,
              "solidity": 0.2
             }
            },
            "type": "barpolar"
           }
          ],
          "carpet": [
           {
            "aaxis": {
             "endlinecolor": "#2a3f5f",
             "gridcolor": "#C8D4E3",
             "linecolor": "#C8D4E3",
             "minorgridcolor": "#C8D4E3",
             "startlinecolor": "#2a3f5f"
            },
            "baxis": {
             "endlinecolor": "#2a3f5f",
             "gridcolor": "#C8D4E3",
             "linecolor": "#C8D4E3",
             "minorgridcolor": "#C8D4E3",
             "startlinecolor": "#2a3f5f"
            },
            "type": "carpet"
           }
          ],
          "choropleth": [
           {
            "colorbar": {
             "outlinewidth": 0,
             "ticks": ""
            },
            "type": "choropleth"
           }
          ],
          "contour": [
           {
            "colorbar": {
             "outlinewidth": 0,
             "ticks": ""
            },
            "colorscale": [
             [
              0.0,
              "#0d0887"
             ],
             [
              0.1111111111111111,
              "#46039f"
             ],
             [
              0.2222222222222222,
              "#7201a8"
             ],
             [
              0.3333333333333333,
              "#9c179e"
             ],
             [
              0.4444444444444444,
              "#bd3786"
             ],
             [
              0.5555555555555556,
              "#d8576b"
             ],
             [
              0.6666666666666666,
              "#ed7953"
             ],
             [
              0.7777777777777778,
              "#fb9f3a"
             ],
             [
              0.8888888888888888,
              "#fdca26"
             ],
             [
              1.0,
              "#f0f921"
             ]
            ],
            "type": "contour"
           }
          ],
          "contourcarpet": [
           {
            "colorbar": {
             "outlinewidth": 0,
             "ticks": ""
            },
            "type": "contourcarpet"
           }
          ],
          "heatmap": [
           {
            "colorbar": {
             "outlinewidth": 0,
             "ticks": ""
            },
            "colorscale": [
             [
              0.0,
              "#0d0887"
             ],
             [
              0.1111111111111111,
              "#46039f"
             ],
             [
              0.2222222222222222,
              "#7201a8"
             ],
             [
              0.3333333333333333,
              "#9c179e"
             ],
             [
              0.4444444444444444,
              "#bd3786"
             ],
             [
              0.5555555555555556,
              "#d8576b"
             ],
             [
              0.6666666666666666,
              "#ed7953"
             ],
             [
              0.7777777777777778,
              "#fb9f3a"
             ],
             [
              0.8888888888888888,
              "#fdca26"
             ],
             [
              1.0,
              "#f0f921"
             ]
            ],
            "type": "heatmap"
           }
          ],
          "histogram": [
           {
            "marker": {
             "pattern": {
              "fillmode": "overlay",
              "size": 10,
              "solidity": 0.2
             }
            },
            "type": "histogram"
           }
          ],
          "histogram2d": [
           {
            "colorbar": {
             "outlinewidth": 0,
             "ticks": ""
            },
            "colorscale": [
             [
              0.0,
              "#0d0887"
             ],
             [
              0.1111111111111111,
              "#46039f"
             ],
             [
              0.2222222222222222,
              "#7201a8"
             ],
             [
              0.3333333333333333,
              "#9c179e"
             ],
             [
              0.4444444444444444,
              "#bd3786"
             ],
             [
              0.5555555555555556,
              "#d8576b"
             ],
             [
              0.6666666666666666,
              "#ed7953"
             ],
             [
              0.7777777777777778,
              "#fb9f3a"
             ],
             [
              0.8888888888888888,
              "#fdca26"
             ],
             [
              1.0,
              "#f0f921"
             ]
            ],
            "type": "histogram2d"
           }
          ],
          "histogram2dcontour": [
           {
            "colorbar": {
             "outlinewidth": 0,
             "ticks": ""
            },
            "colorscale": [
             [
              0.0,
              "#0d0887"
             ],
             [
              0.1111111111111111,
              "#46039f"
             ],
             [
              0.2222222222222222,
              "#7201a8"
             ],
             [
              0.3333333333333333,
              "#9c179e"
             ],
             [
              0.4444444444444444,
              "#bd3786"
             ],
             [
              0.5555555555555556,
              "#d8576b"
             ],
             [
              0.6666666666666666,
              "#ed7953"
             ],
             [
              0.7777777777777778,
              "#fb9f3a"
             ],
             [
              0.8888888888888888,
              "#fdca26"
             ],
             [
              1.0,
              "#f0f921"
             ]
            ],
            "type": "histogram2dcontour"
           }
          ],
          "mesh3d": [
           {
            "colorbar": {
             "outlinewidth": 0,
             "ticks": ""
            },
            "type": "mesh3d"
           }
          ],
          "parcoords": [
           {
            "line": {
             "colorbar": {
              "outlinewidth": 0,
              "ticks": ""
             }
            },
            "type": "parcoords"
           }
          ],
          "pie": [
           {
            "automargin": true,
            "type": "pie"
           }
          ],
          "scatter": [
           {
            "fillpattern": {
             "fillmode": "overlay",
             "size": 10,
             "solidity": 0.2
            },
            "type": "scatter"
           }
          ],
          "scatter3d": [
           {
            "line": {
             "colorbar": {
              "outlinewidth": 0,
              "ticks": ""
             }
            },
            "marker": {
             "colorbar": {
              "outlinewidth": 0,
              "ticks": ""
             }
            },
            "type": "scatter3d"
           }
          ],
          "scattercarpet": [
           {
            "marker": {
             "colorbar": {
              "outlinewidth": 0,
              "ticks": ""
             }
            },
            "type": "scattercarpet"
           }
          ],
          "scattergeo": [
           {
            "marker": {
             "colorbar": {
              "outlinewidth": 0,
              "ticks": ""
             }
            },
            "type": "scattergeo"
           }
          ],
          "scattergl": [
           {
            "marker": {
             "colorbar": {
              "outlinewidth": 0,
              "ticks": ""
             }
            },
            "type": "scattergl"
           }
          ],
          "scattermap": [
           {
            "marker": {
             "colorbar": {
              "outlinewidth": 0,
              "ticks": ""
             }
            },
            "type": "scattermap"
           }
          ],
          "scattermapbox": [
           {
            "marker": {
             "colorbar": {
              "outlinewidth": 0,
              "ticks": ""
             }
            },
            "type": "scattermapbox"
           }
          ],
          "scatterpolar": [
           {
            "marker": {
             "colorbar": {
              "outlinewidth": 0,
              "ticks": ""
             }
            },
            "type": "scatterpolar"
           }
          ],
          "scatterpolargl": [
           {
            "marker": {
             "colorbar": {
              "outlinewidth": 0,
              "ticks": ""
             }
            },
            "type": "scatterpolargl"
           }
          ],
          "scatterternary": [
           {
            "marker": {
             "colorbar": {
              "outlinewidth": 0,
              "ticks": ""
             }
            },
            "type": "scatterternary"
           }
          ],
          "surface": [
           {
            "colorbar": {
             "outlinewidth": 0,
             "ticks": ""
            },
            "colorscale": [
             [
              0.0,
              "#0d0887"
             ],
             [
              0.1111111111111111,
              "#46039f"
             ],
             [
              0.2222222222222222,
              "#7201a8"
             ],
             [
              0.3333333333333333,
              "#9c179e"
             ],
             [
              0.4444444444444444,
              "#bd3786"
             ],
             [
              0.5555555555555556,
              "#d8576b"
             ],
             [
              0.6666666666666666,
              "#ed7953"
             ],
             [
              0.7777777777777778,
              "#fb9f3a"
             ],
             [
              0.8888888888888888,
              "#fdca26"
             ],
             [
              1.0,
              "#f0f921"
             ]
            ],
            "type": "surface"
           }
          ],
          "table": [
           {
            "cells": {
             "fill": {
              "color": "#EBF0F8"
             },
             "line": {
              "color": "white"
             }
            },
            "header": {
             "fill": {
              "color": "#C8D4E3"
             },
             "line": {
              "color": "white"
             }
            },
            "type": "table"
           }
          ]
         },
         "layout": {
          "annotationdefaults": {
           "arrowcolor": "#2a3f5f",
           "arrowhead": 0,
           "arrowwidth": 1
          },
          "autotypenumbers": "strict",
          "coloraxis": {
           "colorbar": {
            "outlinewidth": 0,
            "ticks": ""
           }
          },
          "colorscale": {
           "diverging": [
            [
             0,
             "#8e0152"
            ],
            [
             0.1,
             "#c51b7d"
            ],
            [
             0.2,
             "#de77ae"
            ],
            [
             0.3,
             "#f1b6da"
            ],
            [
             0.4,
             "#fde0ef"
            ],
            [
             0.5,
             "#f7f7f7"
            ],
            [
             0.6,
             "#e6f5d0"
            ],
            [
             0.7,
             "#b8e186"
            ],
            [
             0.8,
             "#7fbc41"
            ],
            [
             0.9,
             "#4d9221"
            ],
            [
             1,
             "#276419"
            ]
           ],
           "sequential": [
            [
             0.0,
             "#0d0887"
            ],
            [
             0.1111111111111111,
             "#46039f"
            ],
            [
             0.2222222222222222,
             "#7201a8"
            ],
            [
             0.3333333333333333,
             "#9c179e"
            ],
            [
             0.4444444444444444,
             "#bd3786"
            ],
            [
             0.5555555555555556,
             "#d8576b"
            ],
            [
             0.6666666666666666,
             "#ed7953"
            ],
            [
             0.7777777777777778,
             "#fb9f3a"
            ],
            [
             0.8888888888888888,
             "#fdca26"
            ],
            [
             1.0,
             "#f0f921"
            ]
           ],
           "sequentialminus": [
            [
             0.0,
             "#0d0887"
            ],
            [
             0.1111111111111111,
             "#46039f"
            ],
            [
             0.2222222222222222,
             "#7201a8"
            ],
            [
             0.3333333333333333,
             "#9c179e"
            ],
            [
             0.4444444444444444,
             "#bd3786"
            ],
            [
             0.5555555555555556,
             "#d8576b"
            ],
            [
             0.6666666666666666,
             "#ed7953"
            ],
            [
             0.7777777777777778,
             "#fb9f3a"
            ],
            [
             0.8888888888888888,
             "#fdca26"
            ],
            [
             1.0,
             "#f0f921"
            ]
           ]
          },
          "colorway": [
           "#636efa",
           "#EF553B",
           "#00cc96",
           "#ab63fa",
           "#FFA15A",
           "#19d3f3",
           "#FF6692",
           "#B6E880",
           "#FF97FF",
           "#FECB52"
          ],
          "font": {
           "color": "#2a3f5f"
          },
          "geo": {
           "bgcolor": "white",
           "lakecolor": "white",
           "landcolor": "white",
           "showlakes": true,
           "showland": true,
           "subunitcolor": "#C8D4E3"
          },
          "hoverlabel": {
           "align": "left"
          },
          "hovermode": "closest",
          "mapbox": {
           "style": "light"
          },
          "paper_bgcolor": "white",
          "plot_bgcolor": "white",
          "polar": {
           "angularaxis": {
            "gridcolor": "#EBF0F8",
            "linecolor": "#EBF0F8",
            "ticks": ""
           },
           "bgcolor": "white",
           "radialaxis": {
            "gridcolor": "#EBF0F8",
            "linecolor": "#EBF0F8",
            "ticks": ""
           }
          },
          "scene": {
           "xaxis": {
            "backgroundcolor": "white",
            "gridcolor": "#DFE8F3",
            "gridwidth": 2,
            "linecolor": "#EBF0F8",
            "showbackground": true,
            "ticks": "",
            "zerolinecolor": "#EBF0F8"
           },
           "yaxis": {
            "backgroundcolor": "white",
            "gridcolor": "#DFE8F3",
            "gridwidth": 2,
            "linecolor": "#EBF0F8",
            "showbackground": true,
            "ticks": "",
            "zerolinecolor": "#EBF0F8"
           },
           "zaxis": {
            "backgroundcolor": "white",
            "gridcolor": "#DFE8F3",
            "gridwidth": 2,
            "linecolor": "#EBF0F8",
            "showbackground": true,
            "ticks": "",
            "zerolinecolor": "#EBF0F8"
           }
          },
          "shapedefaults": {
           "line": {
            "color": "#2a3f5f"
           }
          },
          "ternary": {
           "aaxis": {
            "gridcolor": "#DFE8F3",
            "linecolor": "#A2B1C6",
            "ticks": ""
           },
           "baxis": {
            "gridcolor": "#DFE8F3",
            "linecolor": "#A2B1C6",
            "ticks": ""
           },
           "bgcolor": "white",
           "caxis": {
            "gridcolor": "#DFE8F3",
            "linecolor": "#A2B1C6",
            "ticks": ""
           }
          },
          "title": {
           "x": 0.05
          },
          "xaxis": {
           "automargin": true,
           "gridcolor": "#EBF0F8",
           "linecolor": "#EBF0F8",
           "ticks": "",
           "title": {
            "standoff": 15
           },
           "zerolinecolor": "#EBF0F8",
           "zerolinewidth": 2
          },
          "yaxis": {
           "automargin": true,
           "gridcolor": "#EBF0F8",
           "linecolor": "#EBF0F8",
           "ticks": "",
           "title": {
            "standoff": 15
           },
           "zerolinecolor": "#EBF0F8",
           "zerolinewidth": 2
          }
         }
        },
        "title": {
         "text": "📊 Coverage Rate by Region"
        },
        "xaxis": {
         "tickangle": -45,
         "title": {
          "text": "Region"
         }
        },
        "yaxis": {
         "title": {
          "text": "Coverage (%)"
         }
        }
       }
      }
     },
     "metadata": {},
     "output_type": "display_data"
    },
    {
     "name": "stdout",
     "output_type": "stream",
     "text": [
      "✅ Saved: coverage_by_region.html\n"
     ]
    }
   ],
   "source": [
    "# Coverage comparison\n",
    "if df_predictions is not None:\n",
    "    fig = go.Figure()\n",
    "\n",
    "    fig.add_trace(go.Scatter(\n",
    "        x=regional_demand['region'],\n",
    "        y=regional_demand['coverage_proportional'],\n",
    "        mode='markers+lines',\n",
    "        name='Proportional',\n",
    "        marker=dict(size=10, color='blue')\n",
    "    ))\n",
    "\n",
    "    if 'coverage_optimal' in regional_demand.columns:\n",
    "        fig.add_trace(go.Scatter(\n",
    "            x=regional_demand['region'],\n",
    "            y=regional_demand['coverage_optimal'],\n",
    "            mode='markers+lines',\n",
    "            name='Optimized',\n",
    "            marker=dict(size=10, color='green')\n",
    "        ))\n",
    "\n",
    "    # Target line at 80%\n",
    "    fig.add_hline(\n",
    "        y=80,\n",
    "        line_dash='dash',\n",
    "        line_color='red',\n",
    "        annotation_text='Target: 80% Coverage',\n",
    "        annotation_position='right'\n",
    "    )\n",
    "\n",
    "    fig.update_layout(\n",
    "        title='📊 Coverage Rate by Region',\n",
    "        xaxis_title='Region',\n",
    "        yaxis_title='Coverage (%)',\n",
    "        xaxis_tickangle=-45,\n",
    "        height=500,\n",
    "        template='plotly_white',\n",
    "        hovermode='x unified'\n",
    "    )\n",
    "\n",
    "    fig.write_html(viz_path / 'coverage_by_region.html')\n",
    "    fig.show()\n",
    "    print(\"✅ Saved: coverage_by_region.html\")"
   ]
  },
  {
   "cell_type": "markdown",
   "id": "6f5cad39",
   "metadata": {
    "id": "6f5cad39"
   },
   "source": [
    "---\n",
    "\n",
    "## 💰 9. Cost-Benefit Analysis"
   ]
  },
  {
   "cell_type": "code",
   "execution_count": 12,
   "id": "3057a481",
   "metadata": {
    "colab": {
     "base_uri": "https://localhost:8080/"
    },
    "execution": {
     "iopub.execute_input": "2025-10-22T13:26:46.342163Z",
     "iopub.status.busy": "2025-10-22T13:26:46.342096Z",
     "iopub.status.idle": "2025-10-22T13:26:46.345032Z",
     "shell.execute_reply": "2025-10-22T13:26:46.344667Z"
    },
    "id": "3057a481",
    "outputId": "d2fdb9f6-6849-41bf-e1ca-06147a846fd2"
   },
   "outputs": [
    {
     "name": "stdout",
     "output_type": "stream",
     "text": [
      "\n",
      "💰 COST-BENEFIT ANALYSIS\n",
      "================================================================================\n",
      "📊 Proportional Allocation:\n",
      "   Vaccines given: 4,077,344\n",
      "   Emergency visits prevented: 2,854,141\n",
      "   Cost: €61,160,167\n",
      "   Savings: €570,828,227\n",
      "   Net benefit: €509,668,060\n",
      "   ROI: 833.3%\n",
      "\n",
      "🏆 Optimized Allocation:\n",
      "   Vaccines given: 4,077,344\n",
      "   Emergency visits prevented: 2,854,141\n",
      "   Cost: €61,160,167\n",
      "   Savings: €570,828,227\n",
      "   Net benefit: €509,668,060\n",
      "   ROI: 833.3%\n",
      "\n",
      "💡 Optimization improvement: €0 additional net benefit\n",
      "\n",
      "================================================================================\n",
      "\n",
      "✅ Every €1 spent on vaccines saves €9.33 in emergency costs!\n"
     ]
    }
   ],
   "source": [
    "if df_predictions is not None:\n",
    "    print(\"\\n💰 COST-BENEFIT ANALYSIS\\n\" + \"=\"*80)\n",
    "\n",
    "    # Assumptions (adjust based on real data)\n",
    "    COST_PER_VACCINE = 15  # euros\n",
    "    COST_PER_EMERGENCY_VISIT = 200  # euros\n",
    "    EFFECTIVENESS = 0.7  # vaccines 70% effective at preventing emergency visits\n",
    "\n",
    "    # Calculate for proportional allocation\n",
    "    vaccines_given_prop = regional_demand['allocation_proportional'].sum()\n",
    "    visits_prevented_prop = vaccines_given_prop * EFFECTIVENESS\n",
    "\n",
    "    cost_prop = vaccines_given_prop * COST_PER_VACCINE\n",
    "    savings_prop = visits_prevented_prop * COST_PER_EMERGENCY_VISIT\n",
    "    net_benefit_prop = savings_prop - cost_prop\n",
    "    roi_prop = (net_benefit_prop / cost_prop) * 100\n",
    "\n",
    "    print(\"📊 Proportional Allocation:\")\n",
    "    print(f\"   Vaccines given: {vaccines_given_prop:,.0f}\")\n",
    "    print(f\"   Emergency visits prevented: {visits_prevented_prop:,.0f}\")\n",
    "    print(f\"   Cost: €{cost_prop:,.0f}\")\n",
    "    print(f\"   Savings: €{savings_prop:,.0f}\")\n",
    "    print(f\"   Net benefit: €{net_benefit_prop:,.0f}\")\n",
    "    print(f\"   ROI: {roi_prop:.1f}%\\n\")\n",
    "\n",
    "    # Calculate for optimal allocation (if available)\n",
    "    if 'allocation_optimal' in regional_demand.columns:\n",
    "        vaccines_given_opt = regional_demand['allocation_optimal'].sum()\n",
    "        visits_prevented_opt = vaccines_given_opt * EFFECTIVENESS\n",
    "\n",
    "        cost_opt = vaccines_given_opt * COST_PER_VACCINE\n",
    "        savings_opt = visits_prevented_opt * COST_PER_EMERGENCY_VISIT\n",
    "        net_benefit_opt = savings_opt - cost_opt\n",
    "        roi_opt = (net_benefit_opt / cost_opt) * 100\n",
    "\n",
    "        print(\"🏆 Optimized Allocation:\")\n",
    "        print(f\"   Vaccines given: {vaccines_given_opt:,.0f}\")\n",
    "        print(f\"   Emergency visits prevented: {visits_prevented_opt:,.0f}\")\n",
    "        print(f\"   Cost: €{cost_opt:,.0f}\")\n",
    "        print(f\"   Savings: €{savings_opt:,.0f}\")\n",
    "        print(f\"   Net benefit: €{net_benefit_opt:,.0f}\")\n",
    "        print(f\"   ROI: {roi_opt:.1f}%\\n\")\n",
    "\n",
    "        improvement = net_benefit_opt - net_benefit_prop\n",
    "        print(f\"💡 Optimization improvement: €{improvement:,.0f} additional net benefit\")\n",
    "\n",
    "    print(\"\\n\" + \"=\"*80)\n",
    "    print(\"\\n✅ Every €1 spent on vaccines saves €{:.2f} in emergency costs!\".format(roi_prop/100 + 1))"
   ]
  },
  {
   "cell_type": "markdown",
   "id": "112b56e1",
   "metadata": {
    "id": "112b56e1"
   },
   "source": [
    "---\n",
    "\n",
    "## 📝 10. Executive Summary Report"
   ]
  },
  {
   "cell_type": "code",
   "execution_count": 13,
   "id": "58b08437",
   "metadata": {
    "colab": {
     "base_uri": "https://localhost:8080/"
    },
    "execution": {
     "iopub.execute_input": "2025-10-22T13:26:46.345974Z",
     "iopub.status.busy": "2025-10-22T13:26:46.345915Z",
     "iopub.status.idle": "2025-10-22T13:26:46.350460Z",
     "shell.execute_reply": "2025-10-22T13:26:46.350212Z"
    },
    "id": "58b08437",
    "outputId": "6e24580b-26a1-4ad3-dc86-4c1ccd4cba75"
   },
   "outputs": [
    {
     "name": "stdout",
     "output_type": "stream",
     "text": [
      "\n",
      "✅ Executive summary saved: /Users/fadybekkar/Desktop/EPITECH/HACK/Hackaton_Data/projet/optimization_outputs/executive_summary.md\n"
     ]
    }
   ],
   "source": [
    "if df_predictions is not None:\n",
    "    # Create executive summary\n",
    "    summary_lines = []\n",
    "    summary_lines.append(\"# 🎯 Vaccine Distribution Optimization - Executive Summary\\n\\n\")\n",
    "    summary_lines.append(f\"**Date**: {datetime.now().strftime('%Y-%m-%d %H:%M')}\\n\\n\")\n",
    "    summary_lines.append(\"---\\n\\n\")\n",
    "\n",
    "    summary_lines.append(\"## 📊 Demand Forecast\\n\\n\")\n",
    "    summary_lines.append(f\"- **Total predicted demand**: {total_demand:,.0f} interventions\\n\")\n",
    "    summary_lines.append(f\"- **Regions analyzed**: {len(regional_demand)}\\n\")\n",
    "    summary_lines.append(f\"- **Time horizon**: {df_predictions['date'].nunique()} weeks\\n\\n\")\n",
    "\n",
    "    summary_lines.append(\"## 💉 Supply Scenario\\n\\n\")\n",
    "    summary_lines.append(f\"- **Available supply**: {TOTAL_SUPPLY:,.0f} vaccines\\n\")\n",
    "    summary_lines.append(f\"- **Coverage level**: 85% of predicted demand\\n\")\n",
    "    summary_lines.append(f\"- **Shortfall**: {total_demand - TOTAL_SUPPLY:,.0f} vaccines\\n\\n\")\n",
    "\n",
    "    summary_lines.append(\"## 🏆 Recommended Strategy\\n\\n\")\n",
    "    if 'allocation_optimal' in regional_demand.columns:\n",
    "        summary_lines.append(\"**Optimized allocation** (genetic algorithm)\\n\\n\")\n",
    "        summary_lines.append(f\"- Total unmet demand: {total_unmet_opt:,.0f}\\n\")\n",
    "        summary_lines.append(f\"- Average coverage: {avg_coverage_opt:.1f}%\\n\")\n",
    "        summary_lines.append(f\"- Regions above 80%: {(regional_demand['coverage_optimal'] >= 80).sum()} of {len(regional_demand)}\\n\\n\")\n",
    "    else:\n",
    "        summary_lines.append(\"**Proportional allocation** (baseline)\\n\\n\")\n",
    "        summary_lines.append(f\"- Total unmet demand: {total_unmet_prop:,.0f}\\n\")\n",
    "        summary_lines.append(f\"- Average coverage: {avg_coverage_prop:.1f}%\\n\\n\")\n",
    "\n",
    "    summary_lines.append(\"## 💰 Economic Impact\\n\\n\")\n",
    "    summary_lines.append(f\"- **Investment**: €{cost_prop:,.0f}\\n\")\n",
    "    summary_lines.append(f\"- **Expected savings**: €{savings_prop:,.0f}\\n\")\n",
    "    summary_lines.append(f\"- **Net benefit**: €{net_benefit_prop:,.0f}\\n\")\n",
    "    summary_lines.append(f\"- **ROI**: {roi_prop:.0f}%\\n\\n\")\n",
    "\n",
    "    summary_lines.append(\"## 🎯 Priority Regions\\n\\n\")\n",
    "    top_5 = regional_demand.nlargest(5, 'total_demand')\n",
    "    summary_lines.append(\"**Highest demand (priority for allocation)**:\\n\\n\")\n",
    "    for idx, row in top_5.iterrows():\n",
    "        summary_lines.append(f\"- {row['region']}: {row['total_demand']:,.0f} predicted interventions\\n\")\n",
    "\n",
    "    summary_lines.append(\"\\n## 📋 Implementation Steps\\n\\n\")\n",
    "    summary_lines.append(\"1. **Secure supply**: Order {TOTAL_SUPPLY:,.0f} vaccine doses\\n\".format(TOTAL_SUPPLY=TOTAL_SUPPLY))\n",
    "    summary_lines.append(\"2. **Distribute**: Allocate according to optimal plan (see `final_allocation_plan.csv`)\\n\")\n",
    "    summary_lines.append(\"3. **Monitor**: Track actual demand vs predictions weekly\\n\")\n",
    "    summary_lines.append(\"4. **Adjust**: Reallocate surplus from low-demand regions to high-demand regions\\n\")\n",
    "    summary_lines.append(\"5. **Evaluate**: Measure effectiveness after campaign completion\\n\\n\")\n",
    "\n",
    "    summary_lines.append(\"---\\n\\n\")\n",
    "    summary_lines.append(\"## 📊 Outputs Generated\\n\\n\")\n",
    "    summary_lines.append(\"- `final_allocation_plan.csv` - Detailed regional allocations\\n\")\n",
    "    summary_lines.append(\"- `allocation_comparison.csv` - Strategy comparison metrics\\n\")\n",
    "    summary_lines.append(\"- `allocation_by_region.html` - Interactive visualization\\n\")\n",
    "    summary_lines.append(\"- `coverage_by_region.html` - Coverage rate visualization\\n\\n\")\n",
    "\n",
    "    # Save\n",
    "    summary_path = OUTPUT_PATH / 'executive_summary.md'\n",
    "    with open(summary_path, 'w', encoding='utf-8') as f:\n",
    "        f.writelines(summary_lines)\n",
    "\n",
    "    print(f\"\\n✅ Executive summary saved: {summary_path}\")"
   ]
  },
  {
   "cell_type": "markdown",
   "id": "1916ae9c",
   "metadata": {
    "id": "1916ae9c"
   },
   "source": [
    "---\n",
    "\n",
    "## ✅ Summary\n",
    "\n",
    "**What we accomplished**:\n",
    "1. ✅ Loaded demand forecasts from ML models\n",
    "2. ✅ Aggregated demand by region\n",
    "3. ✅ Tested simple allocation strategies (proportional, equal)\n",
    "4. ✅ Optimized allocation with genetic algorithm\n",
    "5. ✅ Compared strategies objectively\n",
    "6. ✅ Calculated cost-benefit analysis\n",
    "7. ✅ Generated actionable allocation plan\n",
    "\n",
    "**Key Findings**:\n",
    "- Optimized allocation reduces unmet demand vs simple strategies\n",
    "- Every €1 spent on vaccines saves multiple € in emergency costs\n",
    "- Regional prioritization is critical when supply is limited\n",
    "- Balance between efficiency (minimize waste) and equity (fair access)\n",
    "\n",
    "**Next Step**:\n",
    "- 📈 **05_Dashboard.ipynb**: Interactive dashboard for stakeholders\n",
    "\n",
    "---"
   ]
  }
 ],
 "metadata": {
  "colab": {
   "provenance": []
  },
  "kernelspec": {
   "display_name": ".venv",
   "language": "python",
   "name": "python3"
  },
  "language_info": {
   "codemirror_mode": {
    "name": "ipython",
    "version": 3
   },
   "file_extension": ".py",
   "mimetype": "text/x-python",
   "name": "python",
   "nbconvert_exporter": "python",
   "pygments_lexer": "ipython3",
   "version": "3.13.9"
  }
 },
 "nbformat": 4,
 "nbformat_minor": 5
}
