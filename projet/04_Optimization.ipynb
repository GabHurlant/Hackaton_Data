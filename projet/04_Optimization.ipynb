{
 "cells": [
  {
   "cell_type": "code",
   "execution_count": null,
   "id": "9eef000f",
   "metadata": {
    "colab": {
     "base_uri": "https://localhost:8080/"
    },
    "execution": {
     "iopub.execute_input": "2025-10-22T08:38:36.703286Z",
     "iopub.status.busy": "2025-10-22T08:38:36.703068Z",
     "iopub.status.idle": "2025-10-22T08:38:37.390591Z",
     "shell.execute_reply": "2025-10-22T08:38:37.390290Z"
    },
    "id": "9eef000f",
    "outputId": "889ebcca-c1ec-4ecc-cfba-c141b246e2ce"
   },
   "outputs": [
    {
     "name": "stdout",
     "output_type": "stream",
     "text": [
      "✅ Libraries loaded\n",
      "📅 2025-10-22 10:38\n",
      "🖥️ Environment: Local\n",
      "PyGAD available: True\n"
     ]
    }
   ],
   "source": [
    "# Setup\n",
    "import pandas as pd\n",
    "import numpy as np\n",
    "from pathlib import Path\n",
    "from datetime import datetime\n",
    "import warnings\n",
    "import sys\n",
    "warnings.filterwarnings('ignore')\n",
    "\n",
    "# Detect environment (check if running in Google Colab)\n",
    "try:\n",
    "    import google.colab\n",
    "    IN_COLAB = True\n",
    "except ImportError:\n",
    "    IN_COLAB = False\n",
    "\n",
    "# Mount Google Drive if in Colab\n",
    "if IN_COLAB:\n",
    "    from google.colab import drive\n",
    "    drive.mount('/content/drive')\n",
    "    print(\" Google Drive mounted\")\n",
    "\n",
    "# Optimization\n",
    "try:\n",
    "    import pygad\n",
    "    PYGAD_AVAILABLE = True\n",
    "except ImportError:\n",
    "    print(\" PyGAD not installed. Install with: pip install pygad\")\n",
    "    PYGAD_AVAILABLE = False\n",
    "\n",
    "# Visualization\n",
    "import matplotlib.pyplot as plt\n",
    "import seaborn as sns\n",
    "import plotly.graph_objects as go\n",
    "from plotly.subplots import make_subplots\n",
    "import plotly.express as px\n",
    "\n",
    "print(\" Libraries loaded\")\n",
    "print(f\" {datetime.now().strftime('%Y-%m-%d %H:%M')}\")\n",
    "print(f\" Environment: {'Google Colab' if IN_COLAB else 'Local'}\")\n",
    "print(f\"PyGAD available: {PYGAD_AVAILABLE}\")"
   ]
  },
  {
   "cell_type": "code",
   "execution_count": null,
   "id": "52e85ebc",
   "metadata": {
    "colab": {
     "base_uri": "https://localhost:8080/"
    },
    "execution": {
     "iopub.execute_input": "2025-10-22T08:38:37.391741Z",
     "iopub.status.busy": "2025-10-22T08:38:37.391648Z",
     "iopub.status.idle": "2025-10-22T08:38:37.393727Z",
     "shell.execute_reply": "2025-10-22T08:38:37.393403Z"
    },
    "id": "52e85ebc",
    "outputId": "5b2825d7-e4a5-4c92-d9c1-eb92637e0903"
   },
   "outputs": [
    {
     "name": "stdout",
     "output_type": "stream",
     "text": [
      "📂 Results: /Users/fadybekkar/Desktop/EPITECH/HACK/Hackaton_Data/projet/data/results\n",
      "📂 Output: /Users/fadybekkar/Desktop/EPITECH/HACK/Hackaton_Data/projet/optimization_outputs\n"
     ]
    }
   ],
   "source": [
    "# Paths (works both locally and in Colab)\n",
    "if IN_COLAB:\n",
    "    BASE_PATH = Path('/content/drive/MyDrive/HACKATHON_DATALAB')\n",
    "else:\n",
    "    BASE_PATH = Path.cwd()\n",
    "\n",
    "RESULTS_PATH = BASE_PATH / 'data' / 'results'\n",
    "OUTPUT_PATH = BASE_PATH / 'optimization_outputs'\n",
    "OUTPUT_PATH.mkdir(parents=True, exist_ok=True)\n",
    "\n",
    "print(f\" Results: {RESULTS_PATH}\")\n",
    "print(f\" Output: {OUTPUT_PATH}\")"
   ]
  },
  {
   "cell_type": "code",
   "execution_count": null,
   "id": "833a95f9",
   "metadata": {
    "colab": {
     "base_uri": "https://localhost:8080/"
    },
    "execution": {
     "iopub.execute_input": "2025-10-22T08:38:37.394619Z",
     "iopub.status.busy": "2025-10-22T08:38:37.394558Z",
     "iopub.status.idle": "2025-10-22T08:38:37.400534Z",
     "shell.execute_reply": "2025-10-22T08:38:37.400187Z"
    },
    "id": "833a95f9",
    "outputId": "fc213974-34fb-404e-c819-879948847d39"
   },
   "outputs": [
    {
     "name": "stdout",
     "output_type": "stream",
     "text": [
      "✅ Loaded predictions: (869, 6)\n",
      "📅 Date range: 2024-07-29 00:00:00 to 2025-10-06 00:00:00\n",
      "🗺️ Regions: 17\n",
      "✅ Data validation passed\n",
      "\n",
      "👀 Sample:\n",
      "        date                   region  \\\n",
      "0 2024-07-29  Auvergne et Rhône-Alpes   \n",
      "1 2024-08-05  Auvergne et Rhône-Alpes   \n",
      "2 2024-08-12  Auvergne et Rhône-Alpes   \n",
      "3 2024-08-19  Auvergne et Rhône-Alpes   \n",
      "4 2024-08-26  Auvergne et Rhône-Alpes   \n",
      "\n",
      "   Taux de passages aux urgences pour grippe  predicted_demand  lower_bound  \\\n",
      "0                                  46.850947         66.676860          0.0   \n",
      "1                                  54.274084         59.030876          0.0   \n",
      "2                                  68.867361         66.142110          0.0   \n",
      "3                                  56.764428         69.249565          0.0   \n",
      "4                                  39.864928         65.843025          0.0   \n",
      "\n",
      "   upper_bound  \n",
      "0    385.29930  \n",
      "1    377.65332  \n",
      "2    384.76456  \n",
      "3    387.87200  \n",
      "4    384.46545  \n"
     ]
    }
   ],
   "source": [
    "# Load predictions from forecasting notebook with error handling\n",
    "predictions_file = RESULTS_PATH / 'demand_predictions.csv'\n",
    "\n",
    "if predictions_file.exists():\n",
    "    try:\n",
    "        df_predictions = pd.read_csv(predictions_file)\n",
    "        df_predictions['date'] = pd.to_datetime(df_predictions['date'])\n",
    "\n",
    "        print(f\" Loaded predictions: {df_predictions.shape}\")\n",
    "        print(f\" Date range: {df_predictions['date'].min()} to {df_predictions['date'].max()}\")\n",
    "        print(f\" Regions: {df_predictions['region'].nunique()}\")\n",
    "\n",
    "        # Validate data\n",
    "        required_columns = ['date', 'region', 'predicted_demand']\n",
    "        missing_columns = [col for col in required_columns if col not in df_predictions.columns]\n",
    "\n",
    "        if missing_columns:\n",
    "            print(f\" ERROR: Missing required columns: {missing_columns}\")\n",
    "            df_predictions = None\n",
    "        elif len(df_predictions) == 0:\n",
    "            print(\" ERROR: Predictions file is empty!\")\n",
    "            df_predictions = None\n",
    "        else:\n",
    "            print(\" Data validation passed\")\n",
    "            print(f\"\\n Sample:\")\n",
    "            print(df_predictions.head())\n",
    "    except Exception as e:\n",
    "        print(f\" ERROR loading predictions: {e}\")\n",
    "        print(\"Please check the file and try regenerating it in 03_Forecasting.ipynb\")\n",
    "        df_predictions = None\n",
    "else:\n",
    "    print(\" Predictions file not found. Please run 03_Forecasting.ipynb first.\")\n",
    "    print(f\"Expected location: {predictions_file}\")\n",
    "    print(\"\\nℹ️ The forecasting notebook creates this file as its output.\")\n",
    "    df_predictions = None"
   ]
  },
  {
   "cell_type": "code",
   "execution_count": null,
   "id": "759dfec1",
   "metadata": {
    "colab": {
     "base_uri": "https://localhost:8080/",
     "height": 951
    },
    "execution": {
     "iopub.execute_input": "2025-10-22T08:38:37.401531Z",
     "iopub.status.busy": "2025-10-22T08:38:37.401452Z",
     "iopub.status.idle": "2025-10-22T08:38:37.920324Z",
     "shell.execute_reply": "2025-10-22T08:38:37.919999Z"
    },
    "id": "759dfec1",
    "outputId": "e0927656-b0a4-4f03-d3da-07989084e499"
   },
   "outputs": [
    {
     "name": "stdout",
     "output_type": "stream",
     "text": [
      "🗺️ Regional Demand Summary:\n",
      "\n",
      "                    region  total_demand   demand_low  demand_high\n",
      "                   Réunion  26084.277610 11336.337588  42334.02157\n",
      "                    Guyane  17472.766140  7595.470669  27350.06178\n",
      "             Île-de-France  15747.553640  3784.627004  31678.67551\n",
      "                   Mayotte  15614.735885  3979.929923  34732.08155\n",
      "                Martinique  15386.258741  5031.706105  32591.87027\n",
      "                Guadeloupe  13223.890379  2739.741808  28517.76738\n",
      "Provence-Alpes-Côte d'Azur  12672.381991  3598.828192  29559.37136\n",
      "       Centre-Val de Loire  12492.780489  3075.809875  29379.76958\n",
      "Bourgogne et Franche-Comté  12137.287606  2683.845632  28705.65406\n",
      "                 Normandie  11299.198637  3146.069874  27867.56539\n",
      "                 Grand Est  11088.278591  2772.655084  27338.02297\n",
      "           Hauts-de-France  10709.609433  3190.509646  26959.35372\n",
      "        Nouvelle Aquitaine  10419.617648  2436.116740  26987.98471\n",
      "                  Bretagne   9869.099448  2899.841394  26756.08854\n",
      "          Pays de la Loire   9862.856942  2867.983572  26749.84607\n",
      "                 Occitanie   9640.422058  2071.902992  26527.41104\n",
      "   Auvergne et Rhône-Alpes   8588.079099  2117.757050  25156.44593\n",
      "\n",
      "📊 Total predicted demand: 222,309 interventions\n"
     ]
    },
    {
     "data": {
      "application/vnd.plotly.v1+json": {
       "config": {
        "plotlyServerURL": "https://plot.ly"
       },
       "data": [
        {
         "hovertemplate": "Region=%{x}<br>Total Demand=%{marker.color}<extra></extra>",
         "legendgroup": "",
         "marker": {
          "color": {
           "bdata": "w7tcxBF52UAKEXAIMRDRQOHurN3Gwc5AT8x6MV5/zkCR0mweIQ3OQAZn8Pfx08lAL8IU5TDAyEDyRBDnY2bIQBH+RdCktMdAY+3vbJkRxkD7sN6oI6jFQA2K5gHO6sRAOPQWD89ZxEDUSba6jEbDQEmERrBtQ8NAgh3/BTbUwkATgeofCsbAQA==",
           "dtype": "f8"
          },
          "coloraxis": "coloraxis",
          "pattern": {
           "shape": ""
          }
         },
         "name": "",
         "orientation": "v",
         "showlegend": false,
         "textposition": "auto",
         "type": "bar",
         "x": [
          "Réunion",
          "Guyane",
          "Île-de-France",
          "Mayotte",
          "Martinique",
          "Guadeloupe",
          "Provence-Alpes-Côte d'Azur",
          "Centre-Val de Loire",
          "Bourgogne et Franche-Comté",
          "Normandie",
          "Grand Est",
          "Hauts-de-France",
          "Nouvelle Aquitaine",
          "Bretagne",
          "Pays de la Loire",
          "Occitanie",
          "Auvergne et Rhône-Alpes"
         ],
         "xaxis": "x",
         "y": {
          "bdata": "w7tcxBF52UAKEXAIMRDRQOHurN3Gwc5AT8x6MV5/zkCR0mweIQ3OQAZn8Pfx08lAL8IU5TDAyEDyRBDnY2bIQBH+RdCktMdAY+3vbJkRxkD7sN6oI6jFQA2K5gHO6sRAOPQWD89ZxEDUSba6jEbDQEmERrBtQ8NAgh3/BTbUwkATgeofCsbAQA==",
          "dtype": "f8"
         },
         "yaxis": "y"
        }
       ],
       "layout": {
        "barmode": "relative",
        "coloraxis": {
         "colorbar": {
          "title": {
           "text": "Total Demand"
          }
         },
         "colorscale": [
          [
           0,
           "rgb(255,245,240)"
          ],
          [
           0.125,
           "rgb(254,224,210)"
          ],
          [
           0.25,
           "rgb(252,187,161)"
          ],
          [
           0.375,
           "rgb(252,146,114)"
          ],
          [
           0.5,
           "rgb(251,106,74)"
          ],
          [
           0.625,
           "rgb(239,59,44)"
          ],
          [
           0.75,
           "rgb(203,24,29)"
          ],
          [
           0.875,
           "rgb(165,15,21)"
          ],
          [
           1,
           "rgb(103,0,13)"
          ]
         ]
        },
        "height": 500,
        "legend": {
         "tracegroupgap": 0
        },
        "template": {
         "data": {
          "bar": [
           {
            "error_x": {
             "color": "#2a3f5f"
            },
            "error_y": {
             "color": "#2a3f5f"
            },
            "marker": {
             "line": {
              "color": "white",
              "width": 0.5
             },
             "pattern": {
              "fillmode": "overlay",
              "size": 10,
              "solidity": 0.2
             }
            },
            "type": "bar"
           }
          ],
          "barpolar": [
           {
            "marker": {
             "line": {
              "color": "white",
              "width": 0.5
             },
             "pattern": {
              "fillmode": "overlay",
              "size": 10,
              "solidity": 0.2
             }
            },
            "type": "barpolar"
           }
          ],
          "carpet": [
           {
            "aaxis": {
             "endlinecolor": "#2a3f5f",
             "gridcolor": "#C8D4E3",
             "linecolor": "#C8D4E3",
             "minorgridcolor": "#C8D4E3",
             "startlinecolor": "#2a3f5f"
            },
            "baxis": {
             "endlinecolor": "#2a3f5f",
             "gridcolor": "#C8D4E3",
             "linecolor": "#C8D4E3",
             "minorgridcolor": "#C8D4E3",
             "startlinecolor": "#2a3f5f"
            },
            "type": "carpet"
           }
          ],
          "choropleth": [
           {
            "colorbar": {
             "outlinewidth": 0,
             "ticks": ""
            },
            "type": "choropleth"
           }
          ],
          "contour": [
           {
            "colorbar": {
             "outlinewidth": 0,
             "ticks": ""
            },
            "colorscale": [
             [
              0,
              "#0d0887"
             ],
             [
              0.1111111111111111,
              "#46039f"
             ],
             [
              0.2222222222222222,
              "#7201a8"
             ],
             [
              0.3333333333333333,
              "#9c179e"
             ],
             [
              0.4444444444444444,
              "#bd3786"
             ],
             [
              0.5555555555555556,
              "#d8576b"
             ],
             [
              0.6666666666666666,
              "#ed7953"
             ],
             [
              0.7777777777777778,
              "#fb9f3a"
             ],
             [
              0.8888888888888888,
              "#fdca26"
             ],
             [
              1,
              "#f0f921"
             ]
            ],
            "type": "contour"
           }
          ],
          "contourcarpet": [
           {
            "colorbar": {
             "outlinewidth": 0,
             "ticks": ""
            },
            "type": "contourcarpet"
           }
          ],
          "heatmap": [
           {
            "colorbar": {
             "outlinewidth": 0,
             "ticks": ""
            },
            "colorscale": [
             [
              0,
              "#0d0887"
             ],
             [
              0.1111111111111111,
              "#46039f"
             ],
             [
              0.2222222222222222,
              "#7201a8"
             ],
             [
              0.3333333333333333,
              "#9c179e"
             ],
             [
              0.4444444444444444,
              "#bd3786"
             ],
             [
              0.5555555555555556,
              "#d8576b"
             ],
             [
              0.6666666666666666,
              "#ed7953"
             ],
             [
              0.7777777777777778,
              "#fb9f3a"
             ],
             [
              0.8888888888888888,
              "#fdca26"
             ],
             [
              1,
              "#f0f921"
             ]
            ],
            "type": "heatmap"
           }
          ],
          "histogram": [
           {
            "marker": {
             "pattern": {
              "fillmode": "overlay",
              "size": 10,
              "solidity": 0.2
             }
            },
            "type": "histogram"
           }
          ],
          "histogram2d": [
           {
            "colorbar": {
             "outlinewidth": 0,
             "ticks": ""
            },
            "colorscale": [
             [
              0,
              "#0d0887"
             ],
             [
              0.1111111111111111,
              "#46039f"
             ],
             [
              0.2222222222222222,
              "#7201a8"
             ],
             [
              0.3333333333333333,
              "#9c179e"
             ],
             [
              0.4444444444444444,
              "#bd3786"
             ],
             [
              0.5555555555555556,
              "#d8576b"
             ],
             [
              0.6666666666666666,
              "#ed7953"
             ],
             [
              0.7777777777777778,
              "#fb9f3a"
             ],
             [
              0.8888888888888888,
              "#fdca26"
             ],
             [
              1,
              "#f0f921"
             ]
            ],
            "type": "histogram2d"
           }
          ],
          "histogram2dcontour": [
           {
            "colorbar": {
             "outlinewidth": 0,
             "ticks": ""
            },
            "colorscale": [
             [
              0,
              "#0d0887"
             ],
             [
              0.1111111111111111,
              "#46039f"
             ],
             [
              0.2222222222222222,
              "#7201a8"
             ],
             [
              0.3333333333333333,
              "#9c179e"
             ],
             [
              0.4444444444444444,
              "#bd3786"
             ],
             [
              0.5555555555555556,
              "#d8576b"
             ],
             [
              0.6666666666666666,
              "#ed7953"
             ],
             [
              0.7777777777777778,
              "#fb9f3a"
             ],
             [
              0.8888888888888888,
              "#fdca26"
             ],
             [
              1,
              "#f0f921"
             ]
            ],
            "type": "histogram2dcontour"
           }
          ],
          "mesh3d": [
           {
            "colorbar": {
             "outlinewidth": 0,
             "ticks": ""
            },
            "type": "mesh3d"
           }
          ],
          "parcoords": [
           {
            "line": {
             "colorbar": {
              "outlinewidth": 0,
              "ticks": ""
             }
            },
            "type": "parcoords"
           }
          ],
          "pie": [
           {
            "automargin": true,
            "type": "pie"
           }
          ],
          "scatter": [
           {
            "fillpattern": {
             "fillmode": "overlay",
             "size": 10,
             "solidity": 0.2
            },
            "type": "scatter"
           }
          ],
          "scatter3d": [
           {
            "line": {
             "colorbar": {
              "outlinewidth": 0,
              "ticks": ""
             }
            },
            "marker": {
             "colorbar": {
              "outlinewidth": 0,
              "ticks": ""
             }
            },
            "type": "scatter3d"
           }
          ],
          "scattercarpet": [
           {
            "marker": {
             "colorbar": {
              "outlinewidth": 0,
              "ticks": ""
             }
            },
            "type": "scattercarpet"
           }
          ],
          "scattergeo": [
           {
            "marker": {
             "colorbar": {
              "outlinewidth": 0,
              "ticks": ""
             }
            },
            "type": "scattergeo"
           }
          ],
          "scattergl": [
           {
            "marker": {
             "colorbar": {
              "outlinewidth": 0,
              "ticks": ""
             }
            },
            "type": "scattergl"
           }
          ],
          "scattermap": [
           {
            "marker": {
             "colorbar": {
              "outlinewidth": 0,
              "ticks": ""
             }
            },
            "type": "scattermap"
           }
          ],
          "scattermapbox": [
           {
            "marker": {
             "colorbar": {
              "outlinewidth": 0,
              "ticks": ""
             }
            },
            "type": "scattermapbox"
           }
          ],
          "scatterpolar": [
           {
            "marker": {
             "colorbar": {
              "outlinewidth": 0,
              "ticks": ""
             }
            },
            "type": "scatterpolar"
           }
          ],
          "scatterpolargl": [
           {
            "marker": {
             "colorbar": {
              "outlinewidth": 0,
              "ticks": ""
             }
            },
            "type": "scatterpolargl"
           }
          ],
          "scatterternary": [
           {
            "marker": {
             "colorbar": {
              "outlinewidth": 0,
              "ticks": ""
             }
            },
            "type": "scatterternary"
           }
          ],
          "surface": [
           {
            "colorbar": {
             "outlinewidth": 0,
             "ticks": ""
            },
            "colorscale": [
             [
              0,
              "#0d0887"
             ],
             [
              0.1111111111111111,
              "#46039f"
             ],
             [
              0.2222222222222222,
              "#7201a8"
             ],
             [
              0.3333333333333333,
              "#9c179e"
             ],
             [
              0.4444444444444444,
              "#bd3786"
             ],
             [
              0.5555555555555556,
              "#d8576b"
             ],
             [
              0.6666666666666666,
              "#ed7953"
             ],
             [
              0.7777777777777778,
              "#fb9f3a"
             ],
             [
              0.8888888888888888,
              "#fdca26"
             ],
             [
              1,
              "#f0f921"
             ]
            ],
            "type": "surface"
           }
          ],
          "table": [
           {
            "cells": {
             "fill": {
              "color": "#EBF0F8"
             },
             "line": {
              "color": "white"
             }
            },
            "header": {
             "fill": {
              "color": "#C8D4E3"
             },
             "line": {
              "color": "white"
             }
            },
            "type": "table"
           }
          ]
         },
         "layout": {
          "annotationdefaults": {
           "arrowcolor": "#2a3f5f",
           "arrowhead": 0,
           "arrowwidth": 1
          },
          "autotypenumbers": "strict",
          "coloraxis": {
           "colorbar": {
            "outlinewidth": 0,
            "ticks": ""
           }
          },
          "colorscale": {
           "diverging": [
            [
             0,
             "#8e0152"
            ],
            [
             0.1,
             "#c51b7d"
            ],
            [
             0.2,
             "#de77ae"
            ],
            [
             0.3,
             "#f1b6da"
            ],
            [
             0.4,
             "#fde0ef"
            ],
            [
             0.5,
             "#f7f7f7"
            ],
            [
             0.6,
             "#e6f5d0"
            ],
            [
             0.7,
             "#b8e186"
            ],
            [
             0.8,
             "#7fbc41"
            ],
            [
             0.9,
             "#4d9221"
            ],
            [
             1,
             "#276419"
            ]
           ],
           "sequential": [
            [
             0,
             "#0d0887"
            ],
            [
             0.1111111111111111,
             "#46039f"
            ],
            [
             0.2222222222222222,
             "#7201a8"
            ],
            [
             0.3333333333333333,
             "#9c179e"
            ],
            [
             0.4444444444444444,
             "#bd3786"
            ],
            [
             0.5555555555555556,
             "#d8576b"
            ],
            [
             0.6666666666666666,
             "#ed7953"
            ],
            [
             0.7777777777777778,
             "#fb9f3a"
            ],
            [
             0.8888888888888888,
             "#fdca26"
            ],
            [
             1,
             "#f0f921"
            ]
           ],
           "sequentialminus": [
            [
             0,
             "#0d0887"
            ],
            [
             0.1111111111111111,
             "#46039f"
            ],
            [
             0.2222222222222222,
             "#7201a8"
            ],
            [
             0.3333333333333333,
             "#9c179e"
            ],
            [
             0.4444444444444444,
             "#bd3786"
            ],
            [
             0.5555555555555556,
             "#d8576b"
            ],
            [
             0.6666666666666666,
             "#ed7953"
            ],
            [
             0.7777777777777778,
             "#fb9f3a"
            ],
            [
             0.8888888888888888,
             "#fdca26"
            ],
            [
             1,
             "#f0f921"
            ]
           ]
          },
          "colorway": [
           "#636efa",
           "#EF553B",
           "#00cc96",
           "#ab63fa",
           "#FFA15A",
           "#19d3f3",
           "#FF6692",
           "#B6E880",
           "#FF97FF",
           "#FECB52"
          ],
          "font": {
           "color": "#2a3f5f"
          },
          "geo": {
           "bgcolor": "white",
           "lakecolor": "white",
           "landcolor": "white",
           "showlakes": true,
           "showland": true,
           "subunitcolor": "#C8D4E3"
          },
          "hoverlabel": {
           "align": "left"
          },
          "hovermode": "closest",
          "mapbox": {
           "style": "light"
          },
          "paper_bgcolor": "white",
          "plot_bgcolor": "white",
          "polar": {
           "angularaxis": {
            "gridcolor": "#EBF0F8",
            "linecolor": "#EBF0F8",
            "ticks": ""
           },
           "bgcolor": "white",
           "radialaxis": {
            "gridcolor": "#EBF0F8",
            "linecolor": "#EBF0F8",
            "ticks": ""
           }
          },
          "scene": {
           "xaxis": {
            "backgroundcolor": "white",
            "gridcolor": "#DFE8F3",
            "gridwidth": 2,
            "linecolor": "#EBF0F8",
            "showbackground": true,
            "ticks": "",
            "zerolinecolor": "#EBF0F8"
           },
           "yaxis": {
            "backgroundcolor": "white",
            "gridcolor": "#DFE8F3",
            "gridwidth": 2,
            "linecolor": "#EBF0F8",
            "showbackground": true,
            "ticks": "",
            "zerolinecolor": "#EBF0F8"
           },
           "zaxis": {
            "backgroundcolor": "white",
            "gridcolor": "#DFE8F3",
            "gridwidth": 2,
            "linecolor": "#EBF0F8",
            "showbackground": true,
            "ticks": "",
            "zerolinecolor": "#EBF0F8"
           }
          },
          "shapedefaults": {
           "line": {
            "color": "#2a3f5f"
           }
          },
          "ternary": {
           "aaxis": {
            "gridcolor": "#DFE8F3",
            "linecolor": "#A2B1C6",
            "ticks": ""
           },
           "baxis": {
            "gridcolor": "#DFE8F3",
            "linecolor": "#A2B1C6",
            "ticks": ""
           },
           "bgcolor": "white",
           "caxis": {
            "gridcolor": "#DFE8F3",
            "linecolor": "#A2B1C6",
            "ticks": ""
           }
          },
          "title": {
           "x": 0.05
          },
          "xaxis": {
           "automargin": true,
           "gridcolor": "#EBF0F8",
           "linecolor": "#EBF0F8",
           "ticks": "",
           "title": {
            "standoff": 15
           },
           "zerolinecolor": "#EBF0F8",
           "zerolinewidth": 2
          },
          "yaxis": {
           "automargin": true,
           "gridcolor": "#EBF0F8",
           "linecolor": "#EBF0F8",
           "ticks": "",
           "title": {
            "standoff": 15
           },
           "zerolinecolor": "#EBF0F8",
           "zerolinewidth": 2
          }
         }
        },
        "title": {
         "text": "🗺️ Total Predicted Demand by Region"
        },
        "xaxis": {
         "anchor": "y",
         "domain": [
          0,
          1
         ],
         "tickangle": -45,
         "title": {
          "text": "Region"
         }
        },
        "yaxis": {
         "anchor": "x",
         "domain": [
          0,
          1
         ],
         "title": {
          "text": "Total Demand"
         }
        }
       }
      }
     },
     "metadata": {},
     "output_type": "display_data"
    },
    {
     "name": "stdout",
     "output_type": "stream",
     "text": [
      "\n",
      "✅ Saved: regional_demand.html\n"
     ]
    }
   ],
   "source": [
    "if df_predictions is not None:\n",
    "    # Aggregate by region\n",
    "    regional_demand = df_predictions.groupby('region').agg({\n",
    "        'predicted_demand': 'sum',\n",
    "        'lower_bound': 'sum',\n",
    "        'upper_bound': 'sum'\n",
    "    }).reset_index()\n",
    "\n",
    "    regional_demand.columns = ['region', 'total_demand', 'demand_low', 'demand_high']\n",
    "    regional_demand = regional_demand.sort_values('total_demand', ascending=False)\n",
    "\n",
    "    print(\" Regional Demand Summary:\\n\")\n",
    "    print(regional_demand.to_string(index=False))\n",
    "\n",
    "    total_demand = regional_demand['total_demand'].sum()\n",
    "    print(f\"\\n Total predicted demand: {total_demand:,.0f} interventions\")\n",
    "\n",
    "    # Visualize\n",
    "    fig = px.bar(\n",
    "        regional_demand,\n",
    "        x='region',\n",
    "        y='total_demand',\n",
    "        title=' Total Predicted Demand by Region',\n",
    "        labels={'region': 'Region', 'total_demand': 'Total Demand'},\n",
    "        color='total_demand',\n",
    "        color_continuous_scale='Reds'\n",
    "    )\n",
    "\n",
    "    fig.update_layout(\n",
    "        xaxis_tickangle=-45,\n",
    "        height=500,\n",
    "        template='plotly_white'\n",
    "    )\n",
    "\n",
    "    viz_path = BASE_PATH / 'visualizations'\n",
    "    fig.write_html(viz_path / 'regional_demand.html')\n",
    "    fig.show()\n",
    "    print(f\"\\n Saved: regional_demand.html\")"
   ]
  },
  {
   "cell_type": "code",
   "execution_count": null,
   "id": "0ae0ea88",
   "metadata": {
    "colab": {
     "base_uri": "https://localhost:8080/"
    },
    "execution": {
     "iopub.execute_input": "2025-10-22T08:38:37.921563Z",
     "iopub.status.busy": "2025-10-22T08:38:37.921484Z",
     "iopub.status.idle": "2025-10-22T08:38:37.923626Z",
     "shell.execute_reply": "2025-10-22T08:38:37.923240Z"
    },
    "id": "0ae0ea88",
    "outputId": "bf56655f-f056-44de-ec13-ce7854e94876"
   },
   "outputs": [
    {
     "name": "stdout",
     "output_type": "stream",
     "text": [
      "💉 Vaccine Supply Scenarios:\n",
      "\n",
      "⚠️ Shortage (70%): 155,616 vaccines (70% of demand)\n",
      "⚠️ Limited (85%): 188,963 vaccines (85% of demand)\n",
      "✅ Adequate (100%): 222,309 vaccines (100% of demand)\n",
      "✅ Surplus (120%): 266,771 vaccines (120% of demand)\n",
      "\n",
      "🎯 Focus scenario: 188,963 vaccines (85% of demand)\n"
     ]
    }
   ],
   "source": [
    "if df_predictions is not None:\n",
    "    # Define supply scenarios\n",
    "    scenarios = {\n",
    "        'Shortage (70%)': total_demand * 0.70,\n",
    "        'Limited (85%)': total_demand * 0.85,\n",
    "        'Adequate (100%)': total_demand * 1.00,\n",
    "        'Surplus (120%)': total_demand * 1.20\n",
    "    }\n",
    "\n",
    "    print(\"💉 Vaccine Supply Scenarios:\\n\")\n",
    "    for name, supply in scenarios.items():\n",
    "        shortfall = total_demand - supply\n",
    "        pct = (supply / total_demand) * 100\n",
    "        status = '⚠️' if shortfall > 0 else '✅'\n",
    "        print(f\"{status} {name}: {supply:,.0f} vaccines ({pct:.0f}% of demand)\")\n",
    "\n",
    "    # We'll focus on the realistic \"Limited\" scenario\n",
    "    TOTAL_SUPPLY = scenarios['Limited (85%)']\n",
    "    print(f\"\\n Focus scenario: {TOTAL_SUPPLY:,.0f} vaccines (85% of demand)\")"
   ]
  },
  {
   "cell_type": "code",
   "execution_count": null,
   "id": "32056761",
   "metadata": {
    "colab": {
     "base_uri": "https://localhost:8080/"
    },
    "execution": {
     "iopub.execute_input": "2025-10-22T08:38:37.924486Z",
     "iopub.status.busy": "2025-10-22T08:38:37.924424Z",
     "iopub.status.idle": "2025-10-22T08:38:37.928515Z",
     "shell.execute_reply": "2025-10-22T08:38:37.928174Z"
    },
    "id": "32056761",
    "outputId": "abb40ab8-bada-48e2-ca0a-c1a51f21b2d2"
   },
   "outputs": [
    {
     "name": "stdout",
     "output_type": "stream",
     "text": [
      "📐 Testing Simple Allocation Strategies...\n",
      "\n",
      "✅ Proportional Allocation:\n",
      "   Total unmet demand: 33,346\n",
      "   Avg coverage: 85.0%\n",
      "   Coverage std: 0.0%\n",
      "\n",
      "✅ Equal Allocation:\n",
      "   Total unmet demand: 40,977\n",
      "   Avg coverage: 91.3%\n",
      "   Coverage std: 22.2%\n",
      "\n"
     ]
    }
   ],
   "source": [
    "if df_predictions is not None:\n",
    "    print(\"📐 Testing Simple Allocation Strategies...\\n\")\n",
    "\n",
    "    allocation_results = {}\n",
    "\n",
    "    # 1. Proportional Allocation (based on demand)\n",
    "    regional_demand['allocation_proportional'] = (\n",
    "        regional_demand['total_demand'] / total_demand * TOTAL_SUPPLY\n",
    "    )\n",
    "\n",
    "    regional_demand['unmet_proportional'] = (\n",
    "        regional_demand['total_demand'] - regional_demand['allocation_proportional']\n",
    "    ).clip(lower=0)\n",
    "\n",
    "    regional_demand['coverage_proportional'] = (\n",
    "        regional_demand['allocation_proportional'] / regional_demand['total_demand'] * 100\n",
    "    )\n",
    "\n",
    "    total_unmet_prop = regional_demand['unmet_proportional'].sum()\n",
    "    avg_coverage_prop = regional_demand['coverage_proportional'].mean()\n",
    "\n",
    "    allocation_results['Proportional'] = {\n",
    "        'total_unmet': total_unmet_prop,\n",
    "        'avg_coverage': avg_coverage_prop,\n",
    "        'std_coverage': regional_demand['coverage_proportional'].std(),\n",
    "        'min_coverage': regional_demand['coverage_proportional'].min()\n",
    "    }\n",
    "\n",
    "    print(f\" Proportional Allocation:\")\n",
    "    print(f\"   Total unmet demand: {total_unmet_prop:,.0f}\")\n",
    "    print(f\"   Avg coverage: {avg_coverage_prop:.1f}%\")\n",
    "    print(f\"   Coverage std: {regional_demand['coverage_proportional'].std():.1f}%\\n\")\n",
    "\n",
    "    # 2. Equal Allocation (same amount per region)\n",
    "    equal_allocation = TOTAL_SUPPLY / len(regional_demand)\n",
    "    regional_demand['allocation_equal'] = equal_allocation\n",
    "\n",
    "    regional_demand['unmet_equal'] = (\n",
    "        regional_demand['total_demand'] - regional_demand['allocation_equal']\n",
    "    ).clip(lower=0)\n",
    "\n",
    "    regional_demand['coverage_equal'] = (\n",
    "        regional_demand['allocation_equal'] / regional_demand['total_demand'] * 100\n",
    "    )\n",
    "\n",
    "    total_unmet_eq = regional_demand['unmet_equal'].sum()\n",
    "    avg_coverage_eq = regional_demand['coverage_equal'].mean()\n",
    "\n",
    "    allocation_results['Equal'] = {\n",
    "        'total_unmet': total_unmet_eq,\n",
    "        'avg_coverage': avg_coverage_eq,\n",
    "        'std_coverage': regional_demand['coverage_equal'].std(),\n",
    "        'min_coverage': regional_demand['coverage_equal'].min()\n",
    "    }\n",
    "\n",
    "    print(f\" Equal Allocation:\")\n",
    "    print(f\"   Total unmet demand: {total_unmet_eq:,.0f}\")\n",
    "    print(f\"   Avg coverage: {avg_coverage_eq:.1f}%\")\n",
    "    print(f\"   Coverage std: {regional_demand['coverage_equal'].std():.1f}%\\n\")"
   ]
  },
  {
   "cell_type": "code",
   "execution_count": null,
   "id": "d9ef67bd",
   "metadata": {
    "colab": {
     "base_uri": "https://localhost:8080/"
    },
    "execution": {
     "iopub.execute_input": "2025-10-22T08:38:37.929396Z",
     "iopub.status.busy": "2025-10-22T08:38:37.929345Z",
     "iopub.status.idle": "2025-10-22T08:38:38.196806Z",
     "shell.execute_reply": "2025-10-22T08:38:38.196506Z"
    },
    "id": "d9ef67bd",
    "outputId": "2bbc3e23-7e82-452b-b095-99d66d85a661"
   },
   "outputs": [
    {
     "name": "stdout",
     "output_type": "stream",
     "text": [
      "🧬 Running Genetic Algorithm Optimization...\n",
      "\n",
      "🚀 Optimizing... (this may take a minute)\n",
      "✅ Optimization complete!\n",
      "\n",
      "🏆 Optimized Allocation:\n",
      "   Total unmet demand: 33,346\n",
      "   Avg coverage: 85.2%\n",
      "   Coverage std: 5.3%\n",
      "   Fitness score: 0.8648\n"
     ]
    }
   ],
   "source": [
    "if PYGAD_AVAILABLE and df_predictions is not None:\n",
    "    print(\" Running Genetic Algorithm Optimization...\\n\")\n",
    "\n",
    "    # Extract demand as numpy array (for speed)\n",
    "    demand_array = regional_demand['total_demand'].values\n",
    "    n_regions = len(demand_array)\n",
    "\n",
    "    # Define fitness function with better objective formulation\n",
    "    def fitness_function(ga_instance, solution, solution_idx):\n",
    "        \"\"\"\n",
    "        Multi-objective fitness function for vaccine allocation optimization.\n",
    "\n",
    "        Objectives:\n",
    "        1. Minimize unmet demand (efficiency) - we want to serve as much demand as possible\n",
    "        2. Minimize inequality (equity) - fair distribution across regions\n",
    "        3. Maximize minimum coverage (access) - no region left too far behind\n",
    "        4. Penalize violations of physical constraints\n",
    "\n",
    "        Returns:\n",
    "            float: Fitness score (higher is better)\n",
    "        \"\"\"\n",
    "        # Normalize solution to match total supply exactly\n",
    "        # Prevent negative allocations\n",
    "        solution = np.maximum(solution, 0)\n",
    "\n",
    "        if solution.sum() == 0:\n",
    "            return 0  # Invalid solution\n",
    "\n",
    "        allocation = solution / solution.sum() * TOTAL_SUPPLY\n",
    "\n",
    "        # Calculate coverage rates\n",
    "        coverage = np.minimum(allocation / demand_array * 100, 100)  # Cap at 100%\n",
    "\n",
    "        # Calculate unmet demand\n",
    "        unmet = np.maximum(demand_array - allocation, 0)\n",
    "\n",
    "        # Objective 1: Efficiency (minimize unmet demand)\n",
    "        # Normalize to 0-1 range (1 = perfect, 0 = worst)\n",
    "        efficiency = 1 - (unmet.sum() / demand_array.sum())\n",
    "\n",
    "        # Objective 2: Equity (minimize standard deviation of coverage)\n",
    "        # Penalize high inequality\n",
    "        coverage_std = coverage.std()\n",
    "        equity = 1 - (coverage_std / 100)  # Normalize\n",
    "        equity = max(0, equity)  # Ensure non-negative\n",
    "\n",
    "        # Objective 3: Access (maximize minimum coverage)\n",
    "        # Ensure no region is left too far behind\n",
    "        min_coverage = coverage.min()\n",
    "        access = min_coverage / 100  # Normalize to 0-1\n",
    "\n",
    "        # Objective 4: Bonus for regions above target threshold (80%)\n",
    "        regions_above_target = (coverage >= 80).sum() / n_regions\n",
    "\n",
    "        # Penalty for extreme allocations (avoid putting all eggs in one basket)\n",
    "        max_allocation_share = allocation.max() / TOTAL_SUPPLY\n",
    "        concentration_penalty = 0\n",
    "        if max_allocation_share > 0.3:  # No region should get more than 30%\n",
    "            concentration_penalty = (max_allocation_share - 0.3) * 0.5\n",
    "\n",
    "        # Weighted combination of objectives\n",
    "        # Adjust weights based on policy priorities\n",
    "        fitness = (\n",
    "            0.40 * efficiency +           # Primary: serve demand efficiently\n",
    "            0.25 * equity +                # Important: fair distribution\n",
    "            0.20 * access +                # Important: help struggling regions\n",
    "            0.15 * regions_above_target -  # Bonus: many regions well-served\n",
    "            concentration_penalty           # Penalty: avoid concentration\n",
    "        )\n",
    "\n",
    "        return fitness\n",
    "\n",
    "    # Setup genetic algorithm\n",
    "    ga_instance = pygad.GA(\n",
    "        num_generations=200,\n",
    "        num_parents_mating=10,\n",
    "        fitness_func=fitness_function,\n",
    "        sol_per_pop=50,\n",
    "        num_genes=n_regions,\n",
    "        init_range_low=0,\n",
    "        init_range_high=1,\n",
    "        parent_selection_type='tournament',\n",
    "        keep_parents=2,\n",
    "        crossover_type='uniform',\n",
    "        mutation_type='random',\n",
    "        mutation_percent_genes=10,\n",
    "        random_seed=42\n",
    "    )\n",
    "\n",
    "    # Run optimization\n",
    "    print(\" Optimizing... (this may take a minute)\")\n",
    "    ga_instance.run()\n",
    "    print(\" Optimization complete!\\n\")\n",
    "\n",
    "    # Get best solution\n",
    "    solution, solution_fitness, solution_idx = ga_instance.best_solution()\n",
    "\n",
    "    # Normalize to actual supply\n",
    "    optimal_allocation = solution / solution.sum() * TOTAL_SUPPLY\n",
    "\n",
    "    regional_demand['allocation_optimal'] = optimal_allocation\n",
    "    regional_demand['unmet_optimal'] = (\n",
    "        regional_demand['total_demand'] - regional_demand['allocation_optimal']\n",
    "    ).clip(lower=0)\n",
    "    regional_demand['coverage_optimal'] = (\n",
    "        regional_demand['allocation_optimal'] / regional_demand['total_demand'] * 100\n",
    "    )\n",
    "\n",
    "    total_unmet_opt = regional_demand['unmet_optimal'].sum()\n",
    "    avg_coverage_opt = regional_demand['coverage_optimal'].mean()\n",
    "\n",
    "    allocation_results['Optimized (GA)'] = {\n",
    "        'total_unmet': total_unmet_opt,\n",
    "        'avg_coverage': avg_coverage_opt,\n",
    "        'std_coverage': regional_demand['coverage_optimal'].std(),\n",
    "        'min_coverage': regional_demand['coverage_optimal'].min()\n",
    "    }\n",
    "\n",
    "    print(f\" Optimized Allocation:\")\n",
    "    print(f\"   Total unmet demand: {total_unmet_opt:,.0f}\")\n",
    "    print(f\"   Avg coverage: {avg_coverage_opt:.1f}%\")\n",
    "    print(f\"   Coverage std: {regional_demand['coverage_optimal'].std():.1f}%\")\n",
    "    print(f\"   Fitness score: {solution_fitness:.4f}\")\n",
    "\n",
    "else:\n",
    "    print(\" Skipping GA optimization (PyGAD not installed)\")"
   ]
  },
  {
   "cell_type": "code",
   "execution_count": null,
   "id": "9719b616",
   "metadata": {
    "colab": {
     "base_uri": "https://localhost:8080/"
    },
    "execution": {
     "iopub.execute_input": "2025-10-22T08:38:38.197854Z",
     "iopub.status.busy": "2025-10-22T08:38:38.197796Z",
     "iopub.status.idle": "2025-10-22T08:38:38.203010Z",
     "shell.execute_reply": "2025-10-22T08:38:38.202666Z"
    },
    "id": "9719b616",
    "outputId": "a02d67fa-ca41-4160-87ba-31ea2cba7188"
   },
   "outputs": [
    {
     "name": "stdout",
     "output_type": "stream",
     "text": [
      "\n",
      "================================================================================\n",
      "📊 ALLOCATION STRATEGY COMPARISON\n",
      "================================================================================\n",
      "\n",
      "                 total_unmet  avg_coverage  std_coverage  min_coverage\n",
      "Proportional    33346.364151     85.000000  8.702336e-15     85.000000\n",
      "Optimized (GA)  33346.364151     85.175503  5.297007e+00     77.658673\n",
      "Equal           40976.583950     91.277302  2.217784e+01     42.613619\n",
      "\n",
      "🏆 BEST STRATEGY: Proportional\n",
      "   Lowest unmet demand: 33,346\n",
      "   Highest avg coverage: 85.0%\n",
      "\n",
      "📊 What These Numbers Mean:\n",
      "   • total_unmet: How many people DON'T get vaccinated (lower is better)\n",
      "   • avg_coverage: Average % of demand met across regions (higher is better)\n",
      "   • std_coverage: How much coverage varies between regions (lower = more equal)\n",
      "   • min_coverage: The worst-served region's coverage (higher is better)\n",
      "\n",
      "💡 Key Insight:\n",
      "   Optimized allocation serves -0% more people than proportional!\n",
      "   That's -0 additional people vaccinated.\n",
      "   → This translates to ~-0 fewer emergency visits!\n",
      "\n",
      "💾 Comparison saved: allocation_comparison.csv\n"
     ]
    }
   ],
   "source": [
    "if allocation_results:\n",
    "    print(\"\\n\" + \"=\"*80)\n",
    "    print(\" ALLOCATION STRATEGY COMPARISON\")\n",
    "    print(\"=\"*80)\n",
    "\n",
    "    comparison = pd.DataFrame(allocation_results).T\n",
    "    comparison = comparison.sort_values('total_unmet')\n",
    "\n",
    "    print(\"\\n\" + comparison.to_string())\n",
    "\n",
    "    # Identify best\n",
    "    best_strategy = comparison['total_unmet'].idxmin()\n",
    "    print(f\"\\n BEST STRATEGY: {best_strategy}\")\n",
    "    print(f\"   Lowest unmet demand: {comparison.loc[best_strategy, 'total_unmet']:,.0f}\")\n",
    "    print(f\"   Highest avg coverage: {comparison.loc[best_strategy, 'avg_coverage']:.1f}%\")\n",
    "\n",
    "    # Add interpretation for decision-makers\n",
    "    print(f\"\\n What These Numbers Mean:\")\n",
    "    print(f\"   • total_unmet: How many people DON'T get vaccinated (lower is better)\")\n",
    "    print(f\"   • avg_coverage: Average % of demand met across regions (higher is better)\")\n",
    "    print(f\"   • std_coverage: How much coverage varies between regions (lower = more equal)\")\n",
    "    print(f\"   • min_coverage: The worst-served region's coverage (higher is better)\")\n",
    "\n",
    "    print(f\"\\n Key Insight:\")\n",
    "    if 'Optimized (GA)' in comparison.index:\n",
    "        prop_unmet = comparison.loc['Proportional', 'total_unmet']\n",
    "        opt_unmet = comparison.loc['Optimized (GA)', 'total_unmet']\n",
    "        improvement = ((prop_unmet - opt_unmet) / prop_unmet) * 100\n",
    "        print(f\"   Optimized allocation serves {improvement:.0f}% more people than proportional!\")\n",
    "        print(f\"   That's {prop_unmet - opt_unmet:,.0f} additional people vaccinated.\")\n",
    "        print(f\"   → This translates to ~{(prop_unmet - opt_unmet) * 0.7:,.0f} fewer emergency visits!\")\n",
    "\n",
    "    # Save comparison\n",
    "    comparison.to_csv(OUTPUT_PATH / 'allocation_comparison.csv')\n",
    "    print(f\"\\n Comparison saved: allocation_comparison.csv\")"
   ]
  },
  {
   "cell_type": "code",
   "execution_count": null,
   "id": "0b5cb7ae",
   "metadata": {
    "colab": {
     "base_uri": "https://localhost:8080/"
    },
    "execution": {
     "iopub.execute_input": "2025-10-22T08:38:38.203848Z",
     "iopub.status.busy": "2025-10-22T08:38:38.203792Z",
     "iopub.status.idle": "2025-10-22T08:38:38.207502Z",
     "shell.execute_reply": "2025-10-22T08:38:38.207127Z"
    },
    "id": "0b5cb7ae",
    "outputId": "fca3cb12-a743-4dfc-b38a-6c104bef0f5b"
   },
   "outputs": [
    {
     "name": "stdout",
     "output_type": "stream",
     "text": [
      "\n",
      "📋 FINAL ALLOCATION PLAN:\n",
      "\n",
      "                    region  total_demand  allocation_proportional  coverage_proportional  allocation_optimal  coverage_optimal\n",
      "                   Réunion  26084.277610                  22172.0                   85.0             22121.0         84.804325\n",
      "                    Guyane  17472.766140                  14852.0                   85.0             14102.0         80.709509\n",
      "             Île-de-France  15747.553640                  13385.0                   85.0             13597.0         86.345451\n",
      "                   Mayotte  15614.735885                  13273.0                   85.0             12417.0         79.518079\n",
      "                Martinique  15386.258741                  13078.0                   85.0             12863.0         83.603673\n",
      "                Guadeloupe  13223.890379                  11240.0                   85.0             13075.0         98.873597\n",
      "Provence-Alpes-Côte d'Azur  12672.381991                  10772.0                   85.0             10791.0         85.153200\n",
      "       Centre-Val de Loire  12492.780489                  10619.0                   85.0             10339.0         82.761498\n",
      "Bourgogne et Franche-Comté  12137.287606                  10317.0                   85.0             10806.0         89.031011\n",
      "                 Normandie  11299.198637                   9604.0                   85.0              8775.0         77.658673\n",
      "                 Grand Est  11088.278591                   9425.0                   85.0              9629.0         86.839735\n",
      "           Hauts-de-France  10709.609433                   9103.0                   85.0              8856.0         82.695244\n",
      "        Nouvelle Aquitaine  10419.617648                   8857.0                   85.0              8959.0         85.980538\n",
      "                  Bretagne   9869.099448                   8389.0                   85.0              7917.0         80.216738\n",
      "          Pays de la Loire   9862.856942                   8383.0                   85.0              9268.0         93.970390\n",
      "                 Occitanie   9640.422058                   8194.0                   85.0              7909.0         82.036794\n",
      "   Auvergne et Rhône-Alpes   8588.079099                   7300.0                   85.0              7539.0         87.785102\n",
      "\n",
      "💾 Saved: final_allocation_plan.csv\n"
     ]
    }
   ],
   "source": [
    "if df_predictions is not None:\n",
    "    # Create final allocation plan\n",
    "    columns_to_include = [\n",
    "        'region', 'total_demand',\n",
    "        'allocation_proportional', 'coverage_proportional',\n",
    "    ]\n",
    "\n",
    "    # Add optimal allocation columns if they exist (only if GA ran)\n",
    "    if 'allocation_optimal' in regional_demand.columns:\n",
    "        columns_to_include.extend(['allocation_optimal', 'coverage_optimal'])\n",
    "\n",
    "    allocation_plan = regional_demand[columns_to_include].copy()\n",
    "\n",
    "    # Round allocations\n",
    "    allocation_plan['allocation_proportional'] = allocation_plan['allocation_proportional'].round(0)\n",
    "    if 'allocation_optimal' in allocation_plan.columns:\n",
    "        allocation_plan['allocation_optimal'] = allocation_plan['allocation_optimal'].round(0)\n",
    "\n",
    "    # Sort by demand\n",
    "    allocation_plan = allocation_plan.sort_values('total_demand', ascending=False)\n",
    "\n",
    "    print(\"\\n FINAL ALLOCATION PLAN:\\n\")\n",
    "    print(allocation_plan.to_string(index=False))\n",
    "\n",
    "    # Save\n",
    "    allocation_plan.to_csv(OUTPUT_PATH / 'final_allocation_plan.csv', index=False)\n",
    "    print(f\"\\n Saved: final_allocation_plan.csv\")"
   ]
  },
  {
   "cell_type": "code",
   "execution_count": null,
   "id": "9c32679b",
   "metadata": {
    "colab": {
     "base_uri": "https://localhost:8080/",
     "height": 552
    },
    "execution": {
     "iopub.execute_input": "2025-10-22T08:38:38.208440Z",
     "iopub.status.busy": "2025-10-22T08:38:38.208383Z",
     "iopub.status.idle": "2025-10-22T08:38:38.226455Z",
     "shell.execute_reply": "2025-10-22T08:38:38.226118Z"
    },
    "id": "9c32679b",
    "outputId": "69492df4-eb7d-4fb6-bc2f-c93e61bab01c"
   },
   "outputs": [
    {
     "data": {
      "application/vnd.plotly.v1+json": {
       "config": {
        "plotlyServerURL": "https://plot.ly"
       },
       "data": [
        {
         "marker": {
          "color": "lightgray"
         },
         "name": "Total Demand",
         "type": "bar",
         "x": [
          "Réunion",
          "Guyane",
          "Île-de-France",
          "Mayotte",
          "Martinique",
          "Guadeloupe",
          "Provence-Alpes-Côte d'Azur",
          "Centre-Val de Loire",
          "Bourgogne et Franche-Comté",
          "Normandie",
          "Grand Est",
          "Hauts-de-France",
          "Nouvelle Aquitaine",
          "Bretagne",
          "Pays de la Loire",
          "Occitanie",
          "Auvergne et Rhône-Alpes"
         ],
         "y": {
          "bdata": "w7tcxBF52UAKEXAIMRDRQOHurN3Gwc5AT8x6MV5/zkCR0mweIQ3OQAZn8Pfx08lAL8IU5TDAyEDyRBDnY2bIQBH+RdCktMdAY+3vbJkRxkD7sN6oI6jFQA2K5gHO6sRAOPQWD89ZxEDUSba6jEbDQEmERrBtQ8NAgh3/BTbUwkATgeofCsbAQA==",
          "dtype": "f8"
         }
        },
        {
         "marker": {
          "color": "blue",
          "opacity": 0.6
         },
         "name": "Proportional Allocation",
         "type": "bar",
         "x": [
          "Réunion",
          "Guyane",
          "Île-de-France",
          "Mayotte",
          "Martinique",
          "Guadeloupe",
          "Provence-Alpes-Côte d'Azur",
          "Centre-Val de Loire",
          "Bourgogne et Franche-Comté",
          "Normandie",
          "Grand Est",
          "Hauts-de-France",
          "Nouvelle Aquitaine",
          "Bretagne",
          "Pays de la Loire",
          "Occitanie",
          "Auvergne et Rhône-Alpes"
         ],
         "y": {
          "bdata": "Mjm1s+im1UBeg7707AHNQHIxBta1JMpA3GCoQ0PsyUBiGXbzKIvJQPi98kUn9MVA23EeKcMJxUDNbWeEbr3EQFt+O+RYJsRALfDLzyjCwkDVfPC1hGjCQPGOnYGVx8FAYhxtZlZMwUD08RoFXmLAQAuK1dW2X8BAez9/6y0BwEA5qA4D3oO8QA==",
          "dtype": "f8"
         }
        },
        {
         "marker": {
          "color": "green",
          "opacity": 0.6
         },
         "name": "Optimized Allocation",
         "type": "bar",
         "x": [
          "Réunion",
          "Guyane",
          "Île-de-France",
          "Mayotte",
          "Martinique",
          "Guadeloupe",
          "Provence-Alpes-Côte d'Azur",
          "Centre-Val de Loire",
          "Bourgogne et Franche-Comté",
          "Normandie",
          "Grand Est",
          "Hauts-de-France",
          "Nouvelle Aquitaine",
          "Bretagne",
          "Pays de la Loire",
          "Occitanie",
          "Auvergne et Rhône-Alpes"
         ],
         "y": {
          "bdata": "63EWHCaa1UCnI82DF4vLQINXDuiljspAN5K73URAyECiS8AbvR/JQBD1wtJ3iclAp4fNKHgTxUBs1HosmzHEQKcnopP5GsVAe/69YmcjwUAVXHsRhM7CQJZtwzgrTMFAfMQy82t/wUCcWotuq+y+QO6LhyQVGsJAQb5kcrHkvkBmFb7QDXO9QA==",
          "dtype": "f8"
         }
        }
       ],
       "layout": {
        "barmode": "group",
        "height": 500,
        "template": {
         "data": {
          "bar": [
           {
            "error_x": {
             "color": "#2a3f5f"
            },
            "error_y": {
             "color": "#2a3f5f"
            },
            "marker": {
             "line": {
              "color": "white",
              "width": 0.5
             },
             "pattern": {
              "fillmode": "overlay",
              "size": 10,
              "solidity": 0.2
             }
            },
            "type": "bar"
           }
          ],
          "barpolar": [
           {
            "marker": {
             "line": {
              "color": "white",
              "width": 0.5
             },
             "pattern": {
              "fillmode": "overlay",
              "size": 10,
              "solidity": 0.2
             }
            },
            "type": "barpolar"
           }
          ],
          "carpet": [
           {
            "aaxis": {
             "endlinecolor": "#2a3f5f",
             "gridcolor": "#C8D4E3",
             "linecolor": "#C8D4E3",
             "minorgridcolor": "#C8D4E3",
             "startlinecolor": "#2a3f5f"
            },
            "baxis": {
             "endlinecolor": "#2a3f5f",
             "gridcolor": "#C8D4E3",
             "linecolor": "#C8D4E3",
             "minorgridcolor": "#C8D4E3",
             "startlinecolor": "#2a3f5f"
            },
            "type": "carpet"
           }
          ],
          "choropleth": [
           {
            "colorbar": {
             "outlinewidth": 0,
             "ticks": ""
            },
            "type": "choropleth"
           }
          ],
          "contour": [
           {
            "colorbar": {
             "outlinewidth": 0,
             "ticks": ""
            },
            "colorscale": [
             [
              0,
              "#0d0887"
             ],
             [
              0.1111111111111111,
              "#46039f"
             ],
             [
              0.2222222222222222,
              "#7201a8"
             ],
             [
              0.3333333333333333,
              "#9c179e"
             ],
             [
              0.4444444444444444,
              "#bd3786"
             ],
             [
              0.5555555555555556,
              "#d8576b"
             ],
             [
              0.6666666666666666,
              "#ed7953"
             ],
             [
              0.7777777777777778,
              "#fb9f3a"
             ],
             [
              0.8888888888888888,
              "#fdca26"
             ],
             [
              1,
              "#f0f921"
             ]
            ],
            "type": "contour"
           }
          ],
          "contourcarpet": [
           {
            "colorbar": {
             "outlinewidth": 0,
             "ticks": ""
            },
            "type": "contourcarpet"
           }
          ],
          "heatmap": [
           {
            "colorbar": {
             "outlinewidth": 0,
             "ticks": ""
            },
            "colorscale": [
             [
              0,
              "#0d0887"
             ],
             [
              0.1111111111111111,
              "#46039f"
             ],
             [
              0.2222222222222222,
              "#7201a8"
             ],
             [
              0.3333333333333333,
              "#9c179e"
             ],
             [
              0.4444444444444444,
              "#bd3786"
             ],
             [
              0.5555555555555556,
              "#d8576b"
             ],
             [
              0.6666666666666666,
              "#ed7953"
             ],
             [
              0.7777777777777778,
              "#fb9f3a"
             ],
             [
              0.8888888888888888,
              "#fdca26"
             ],
             [
              1,
              "#f0f921"
             ]
            ],
            "type": "heatmap"
           }
          ],
          "histogram": [
           {
            "marker": {
             "pattern": {
              "fillmode": "overlay",
              "size": 10,
              "solidity": 0.2
             }
            },
            "type": "histogram"
           }
          ],
          "histogram2d": [
           {
            "colorbar": {
             "outlinewidth": 0,
             "ticks": ""
            },
            "colorscale": [
             [
              0,
              "#0d0887"
             ],
             [
              0.1111111111111111,
              "#46039f"
             ],
             [
              0.2222222222222222,
              "#7201a8"
             ],
             [
              0.3333333333333333,
              "#9c179e"
             ],
             [
              0.4444444444444444,
              "#bd3786"
             ],
             [
              0.5555555555555556,
              "#d8576b"
             ],
             [
              0.6666666666666666,
              "#ed7953"
             ],
             [
              0.7777777777777778,
              "#fb9f3a"
             ],
             [
              0.8888888888888888,
              "#fdca26"
             ],
             [
              1,
              "#f0f921"
             ]
            ],
            "type": "histogram2d"
           }
          ],
          "histogram2dcontour": [
           {
            "colorbar": {
             "outlinewidth": 0,
             "ticks": ""
            },
            "colorscale": [
             [
              0,
              "#0d0887"
             ],
             [
              0.1111111111111111,
              "#46039f"
             ],
             [
              0.2222222222222222,
              "#7201a8"
             ],
             [
              0.3333333333333333,
              "#9c179e"
             ],
             [
              0.4444444444444444,
              "#bd3786"
             ],
             [
              0.5555555555555556,
              "#d8576b"
             ],
             [
              0.6666666666666666,
              "#ed7953"
             ],
             [
              0.7777777777777778,
              "#fb9f3a"
             ],
             [
              0.8888888888888888,
              "#fdca26"
             ],
             [
              1,
              "#f0f921"
             ]
            ],
            "type": "histogram2dcontour"
           }
          ],
          "mesh3d": [
           {
            "colorbar": {
             "outlinewidth": 0,
             "ticks": ""
            },
            "type": "mesh3d"
           }
          ],
          "parcoords": [
           {
            "line": {
             "colorbar": {
              "outlinewidth": 0,
              "ticks": ""
             }
            },
            "type": "parcoords"
           }
          ],
          "pie": [
           {
            "automargin": true,
            "type": "pie"
           }
          ],
          "scatter": [
           {
            "fillpattern": {
             "fillmode": "overlay",
             "size": 10,
             "solidity": 0.2
            },
            "type": "scatter"
           }
          ],
          "scatter3d": [
           {
            "line": {
             "colorbar": {
              "outlinewidth": 0,
              "ticks": ""
             }
            },
            "marker": {
             "colorbar": {
              "outlinewidth": 0,
              "ticks": ""
             }
            },
            "type": "scatter3d"
           }
          ],
          "scattercarpet": [
           {
            "marker": {
             "colorbar": {
              "outlinewidth": 0,
              "ticks": ""
             }
            },
            "type": "scattercarpet"
           }
          ],
          "scattergeo": [
           {
            "marker": {
             "colorbar": {
              "outlinewidth": 0,
              "ticks": ""
             }
            },
            "type": "scattergeo"
           }
          ],
          "scattergl": [
           {
            "marker": {
             "colorbar": {
              "outlinewidth": 0,
              "ticks": ""
             }
            },
            "type": "scattergl"
           }
          ],
          "scattermap": [
           {
            "marker": {
             "colorbar": {
              "outlinewidth": 0,
              "ticks": ""
             }
            },
            "type": "scattermap"
           }
          ],
          "scattermapbox": [
           {
            "marker": {
             "colorbar": {
              "outlinewidth": 0,
              "ticks": ""
             }
            },
            "type": "scattermapbox"
           }
          ],
          "scatterpolar": [
           {
            "marker": {
             "colorbar": {
              "outlinewidth": 0,
              "ticks": ""
             }
            },
            "type": "scatterpolar"
           }
          ],
          "scatterpolargl": [
           {
            "marker": {
             "colorbar": {
              "outlinewidth": 0,
              "ticks": ""
             }
            },
            "type": "scatterpolargl"
           }
          ],
          "scatterternary": [
           {
            "marker": {
             "colorbar": {
              "outlinewidth": 0,
              "ticks": ""
             }
            },
            "type": "scatterternary"
           }
          ],
          "surface": [
           {
            "colorbar": {
             "outlinewidth": 0,
             "ticks": ""
            },
            "colorscale": [
             [
              0,
              "#0d0887"
             ],
             [
              0.1111111111111111,
              "#46039f"
             ],
             [
              0.2222222222222222,
              "#7201a8"
             ],
             [
              0.3333333333333333,
              "#9c179e"
             ],
             [
              0.4444444444444444,
              "#bd3786"
             ],
             [
              0.5555555555555556,
              "#d8576b"
             ],
             [
              0.6666666666666666,
              "#ed7953"
             ],
             [
              0.7777777777777778,
              "#fb9f3a"
             ],
             [
              0.8888888888888888,
              "#fdca26"
             ],
             [
              1,
              "#f0f921"
             ]
            ],
            "type": "surface"
           }
          ],
          "table": [
           {
            "cells": {
             "fill": {
              "color": "#EBF0F8"
             },
             "line": {
              "color": "white"
             }
            },
            "header": {
             "fill": {
              "color": "#C8D4E3"
             },
             "line": {
              "color": "white"
             }
            },
            "type": "table"
           }
          ]
         },
         "layout": {
          "annotationdefaults": {
           "arrowcolor": "#2a3f5f",
           "arrowhead": 0,
           "arrowwidth": 1
          },
          "autotypenumbers": "strict",
          "coloraxis": {
           "colorbar": {
            "outlinewidth": 0,
            "ticks": ""
           }
          },
          "colorscale": {
           "diverging": [
            [
             0,
             "#8e0152"
            ],
            [
             0.1,
             "#c51b7d"
            ],
            [
             0.2,
             "#de77ae"
            ],
            [
             0.3,
             "#f1b6da"
            ],
            [
             0.4,
             "#fde0ef"
            ],
            [
             0.5,
             "#f7f7f7"
            ],
            [
             0.6,
             "#e6f5d0"
            ],
            [
             0.7,
             "#b8e186"
            ],
            [
             0.8,
             "#7fbc41"
            ],
            [
             0.9,
             "#4d9221"
            ],
            [
             1,
             "#276419"
            ]
           ],
           "sequential": [
            [
             0,
             "#0d0887"
            ],
            [
             0.1111111111111111,
             "#46039f"
            ],
            [
             0.2222222222222222,
             "#7201a8"
            ],
            [
             0.3333333333333333,
             "#9c179e"
            ],
            [
             0.4444444444444444,
             "#bd3786"
            ],
            [
             0.5555555555555556,
             "#d8576b"
            ],
            [
             0.6666666666666666,
             "#ed7953"
            ],
            [
             0.7777777777777778,
             "#fb9f3a"
            ],
            [
             0.8888888888888888,
             "#fdca26"
            ],
            [
             1,
             "#f0f921"
            ]
           ],
           "sequentialminus": [
            [
             0,
             "#0d0887"
            ],
            [
             0.1111111111111111,
             "#46039f"
            ],
            [
             0.2222222222222222,
             "#7201a8"
            ],
            [
             0.3333333333333333,
             "#9c179e"
            ],
            [
             0.4444444444444444,
             "#bd3786"
            ],
            [
             0.5555555555555556,
             "#d8576b"
            ],
            [
             0.6666666666666666,
             "#ed7953"
            ],
            [
             0.7777777777777778,
             "#fb9f3a"
            ],
            [
             0.8888888888888888,
             "#fdca26"
            ],
            [
             1,
             "#f0f921"
            ]
           ]
          },
          "colorway": [
           "#636efa",
           "#EF553B",
           "#00cc96",
           "#ab63fa",
           "#FFA15A",
           "#19d3f3",
           "#FF6692",
           "#B6E880",
           "#FF97FF",
           "#FECB52"
          ],
          "font": {
           "color": "#2a3f5f"
          },
          "geo": {
           "bgcolor": "white",
           "lakecolor": "white",
           "landcolor": "white",
           "showlakes": true,
           "showland": true,
           "subunitcolor": "#C8D4E3"
          },
          "hoverlabel": {
           "align": "left"
          },
          "hovermode": "closest",
          "mapbox": {
           "style": "light"
          },
          "paper_bgcolor": "white",
          "plot_bgcolor": "white",
          "polar": {
           "angularaxis": {
            "gridcolor": "#EBF0F8",
            "linecolor": "#EBF0F8",
            "ticks": ""
           },
           "bgcolor": "white",
           "radialaxis": {
            "gridcolor": "#EBF0F8",
            "linecolor": "#EBF0F8",
            "ticks": ""
           }
          },
          "scene": {
           "xaxis": {
            "backgroundcolor": "white",
            "gridcolor": "#DFE8F3",
            "gridwidth": 2,
            "linecolor": "#EBF0F8",
            "showbackground": true,
            "ticks": "",
            "zerolinecolor": "#EBF0F8"
           },
           "yaxis": {
            "backgroundcolor": "white",
            "gridcolor": "#DFE8F3",
            "gridwidth": 2,
            "linecolor": "#EBF0F8",
            "showbackground": true,
            "ticks": "",
            "zerolinecolor": "#EBF0F8"
           },
           "zaxis": {
            "backgroundcolor": "white",
            "gridcolor": "#DFE8F3",
            "gridwidth": 2,
            "linecolor": "#EBF0F8",
            "showbackground": true,
            "ticks": "",
            "zerolinecolor": "#EBF0F8"
           }
          },
          "shapedefaults": {
           "line": {
            "color": "#2a3f5f"
           }
          },
          "ternary": {
           "aaxis": {
            "gridcolor": "#DFE8F3",
            "linecolor": "#A2B1C6",
            "ticks": ""
           },
           "baxis": {
            "gridcolor": "#DFE8F3",
            "linecolor": "#A2B1C6",
            "ticks": ""
           },
           "bgcolor": "white",
           "caxis": {
            "gridcolor": "#DFE8F3",
            "linecolor": "#A2B1C6",
            "ticks": ""
           }
          },
          "title": {
           "x": 0.05
          },
          "xaxis": {
           "automargin": true,
           "gridcolor": "#EBF0F8",
           "linecolor": "#EBF0F8",
           "ticks": "",
           "title": {
            "standoff": 15
           },
           "zerolinecolor": "#EBF0F8",
           "zerolinewidth": 2
          },
          "yaxis": {
           "automargin": true,
           "gridcolor": "#EBF0F8",
           "linecolor": "#EBF0F8",
           "ticks": "",
           "title": {
            "standoff": 15
           },
           "zerolinecolor": "#EBF0F8",
           "zerolinewidth": 2
          }
         }
        },
        "title": {
         "text": "💉 Vaccine Allocation by Region"
        },
        "xaxis": {
         "tickangle": -45,
         "title": {
          "text": "Region"
         }
        },
        "yaxis": {
         "title": {
          "text": "Vaccines"
         }
        }
       }
      }
     },
     "metadata": {},
     "output_type": "display_data"
    },
    {
     "name": "stdout",
     "output_type": "stream",
     "text": [
      "\n",
      "✅ Saved: allocation_by_region.html\n"
     ]
    }
   ],
   "source": [
    "if df_predictions is not None:\n",
    "    # Coverage comparison\n",
    "    fig = go.Figure()\n",
    "\n",
    "    # Demand baseline\n",
    "    fig.add_trace(go.Bar(\n",
    "        x=regional_demand['region'],\n",
    "        y=regional_demand['total_demand'],\n",
    "        name='Total Demand',\n",
    "        marker=dict(color='lightgray')\n",
    "    ))\n",
    "\n",
    "    # Proportional allocation\n",
    "    fig.add_trace(go.Bar(\n",
    "        x=regional_demand['region'],\n",
    "        y=regional_demand['allocation_proportional'],\n",
    "        name='Proportional Allocation',\n",
    "        marker=dict(color='blue', opacity=0.6)\n",
    "    ))\n",
    "\n",
    "    # Optimal allocation (if available)\n",
    "    if 'allocation_optimal' in regional_demand.columns:\n",
    "        fig.add_trace(go.Bar(\n",
    "            x=regional_demand['region'],\n",
    "            y=regional_demand['allocation_optimal'],\n",
    "            name='Optimized Allocation',\n",
    "            marker=dict(color='green', opacity=0.6)\n",
    "        ))\n",
    "\n",
    "    fig.update_layout(\n",
    "        title=' Vaccine Allocation by Region',\n",
    "        xaxis_title='Region',\n",
    "        yaxis_title='Vaccines',\n",
    "        barmode='group',\n",
    "        xaxis_tickangle=-45,\n",
    "        height=500,\n",
    "        template='plotly_white'\n",
    "    )\n",
    "\n",
    "    fig.write_html(viz_path / 'allocation_by_region.html')\n",
    "    fig.show()\n",
    "    print(\"\\n Saved: allocation_by_region.html\")"
   ]
  },
  {
   "cell_type": "code",
   "execution_count": null,
   "id": "f9b38441",
   "metadata": {
    "colab": {
     "base_uri": "https://localhost:8080/",
     "height": 534
    },
    "execution": {
     "iopub.execute_input": "2025-10-22T08:38:38.227389Z",
     "iopub.status.busy": "2025-10-22T08:38:38.227329Z",
     "iopub.status.idle": "2025-10-22T08:38:38.245737Z",
     "shell.execute_reply": "2025-10-22T08:38:38.245349Z"
    },
    "id": "f9b38441",
    "outputId": "477fe75c-aef0-4cec-d354-3d8694b0ceb9"
   },
   "outputs": [
    {
     "data": {
      "application/vnd.plotly.v1+json": {
       "config": {
        "plotlyServerURL": "https://plot.ly"
       },
       "data": [
        {
         "marker": {
          "color": "blue",
          "size": 10
         },
         "mode": "markers+lines",
         "name": "Proportional",
         "type": "scatter",
         "x": [
          "Réunion",
          "Guyane",
          "Île-de-France",
          "Mayotte",
          "Martinique",
          "Guadeloupe",
          "Provence-Alpes-Côte d'Azur",
          "Centre-Val de Loire",
          "Bourgogne et Franche-Comté",
          "Normandie",
          "Grand Est",
          "Hauts-de-France",
          "Nouvelle Aquitaine",
          "Bretagne",
          "Pays de la Loire",
          "Occitanie",
          "Auvergne et Rhône-Alpes"
         ],
         "y": {
          "bdata": "AAAAAABAVUAAAAAAAEBVQAAAAAAAQFVA//////8/VUABAAAAAEBVQAAAAAAAQFVAAAAAAABAVUD//////z9VQAAAAAAAQFVA//////8/VUAAAAAAAEBVQAAAAAAAQFVA//////8/VUAAAAAAAEBVQAAAAAAAQFVAAAAAAABAVUD//////z9VQA==",
          "dtype": "f8"
         }
        },
        {
         "marker": {
          "color": "green",
          "size": 10
         },
         "mode": "markers+lines",
         "name": "Optimized",
         "type": "scatter",
         "x": [
          "Réunion",
          "Guyane",
          "Île-de-France",
          "Mayotte",
          "Martinique",
          "Guadeloupe",
          "Provence-Alpes-Côte d'Azur",
          "Centre-Val de Loire",
          "Bourgogne et Franche-Comté",
          "Normandie",
          "Grand Est",
          "Hauts-de-France",
          "Nouvelle Aquitaine",
          "Bretagne",
          "Pays de la Loire",
          "Occitanie",
          "Auvergne et Rhône-Alpes"
         ],
         "y": {
          "bdata": "ktgNDnozVUDXITmXaC1UQEOptdwbllVAtOnSNCjhU0CoWB2TouZUQJ7WmwTpt1hAoGMrBs5JVUAcjcpivLBUQE+L+xP8QVZA8/ELsidqU0DYaVg5vrVVQCZLYuF+rFRAU5JjJMF+VUCHa2oJ3w1UQI/nhOAafldAyYPM01qCVED6TPgaP/JVQA==",
          "dtype": "f8"
         }
        }
       ],
       "layout": {
        "annotations": [
         {
          "showarrow": false,
          "text": "Target: 80% Coverage",
          "x": 1,
          "xanchor": "left",
          "xref": "x domain",
          "y": 80,
          "yanchor": "middle",
          "yref": "y"
         }
        ],
        "height": 500,
        "hovermode": "x unified",
        "shapes": [
         {
          "line": {
           "color": "red",
           "dash": "dash"
          },
          "type": "line",
          "x0": 0,
          "x1": 1,
          "xref": "x domain",
          "y0": 80,
          "y1": 80,
          "yref": "y"
         }
        ],
        "template": {
         "data": {
          "bar": [
           {
            "error_x": {
             "color": "#2a3f5f"
            },
            "error_y": {
             "color": "#2a3f5f"
            },
            "marker": {
             "line": {
              "color": "white",
              "width": 0.5
             },
             "pattern": {
              "fillmode": "overlay",
              "size": 10,
              "solidity": 0.2
             }
            },
            "type": "bar"
           }
          ],
          "barpolar": [
           {
            "marker": {
             "line": {
              "color": "white",
              "width": 0.5
             },
             "pattern": {
              "fillmode": "overlay",
              "size": 10,
              "solidity": 0.2
             }
            },
            "type": "barpolar"
           }
          ],
          "carpet": [
           {
            "aaxis": {
             "endlinecolor": "#2a3f5f",
             "gridcolor": "#C8D4E3",
             "linecolor": "#C8D4E3",
             "minorgridcolor": "#C8D4E3",
             "startlinecolor": "#2a3f5f"
            },
            "baxis": {
             "endlinecolor": "#2a3f5f",
             "gridcolor": "#C8D4E3",
             "linecolor": "#C8D4E3",
             "minorgridcolor": "#C8D4E3",
             "startlinecolor": "#2a3f5f"
            },
            "type": "carpet"
           }
          ],
          "choropleth": [
           {
            "colorbar": {
             "outlinewidth": 0,
             "ticks": ""
            },
            "type": "choropleth"
           }
          ],
          "contour": [
           {
            "colorbar": {
             "outlinewidth": 0,
             "ticks": ""
            },
            "colorscale": [
             [
              0,
              "#0d0887"
             ],
             [
              0.1111111111111111,
              "#46039f"
             ],
             [
              0.2222222222222222,
              "#7201a8"
             ],
             [
              0.3333333333333333,
              "#9c179e"
             ],
             [
              0.4444444444444444,
              "#bd3786"
             ],
             [
              0.5555555555555556,
              "#d8576b"
             ],
             [
              0.6666666666666666,
              "#ed7953"
             ],
             [
              0.7777777777777778,
              "#fb9f3a"
             ],
             [
              0.8888888888888888,
              "#fdca26"
             ],
             [
              1,
              "#f0f921"
             ]
            ],
            "type": "contour"
           }
          ],
          "contourcarpet": [
           {
            "colorbar": {
             "outlinewidth": 0,
             "ticks": ""
            },
            "type": "contourcarpet"
           }
          ],
          "heatmap": [
           {
            "colorbar": {
             "outlinewidth": 0,
             "ticks": ""
            },
            "colorscale": [
             [
              0,
              "#0d0887"
             ],
             [
              0.1111111111111111,
              "#46039f"
             ],
             [
              0.2222222222222222,
              "#7201a8"
             ],
             [
              0.3333333333333333,
              "#9c179e"
             ],
             [
              0.4444444444444444,
              "#bd3786"
             ],
             [
              0.5555555555555556,
              "#d8576b"
             ],
             [
              0.6666666666666666,
              "#ed7953"
             ],
             [
              0.7777777777777778,
              "#fb9f3a"
             ],
             [
              0.8888888888888888,
              "#fdca26"
             ],
             [
              1,
              "#f0f921"
             ]
            ],
            "type": "heatmap"
           }
          ],
          "histogram": [
           {
            "marker": {
             "pattern": {
              "fillmode": "overlay",
              "size": 10,
              "solidity": 0.2
             }
            },
            "type": "histogram"
           }
          ],
          "histogram2d": [
           {
            "colorbar": {
             "outlinewidth": 0,
             "ticks": ""
            },
            "colorscale": [
             [
              0,
              "#0d0887"
             ],
             [
              0.1111111111111111,
              "#46039f"
             ],
             [
              0.2222222222222222,
              "#7201a8"
             ],
             [
              0.3333333333333333,
              "#9c179e"
             ],
             [
              0.4444444444444444,
              "#bd3786"
             ],
             [
              0.5555555555555556,
              "#d8576b"
             ],
             [
              0.6666666666666666,
              "#ed7953"
             ],
             [
              0.7777777777777778,
              "#fb9f3a"
             ],
             [
              0.8888888888888888,
              "#fdca26"
             ],
             [
              1,
              "#f0f921"
             ]
            ],
            "type": "histogram2d"
           }
          ],
          "histogram2dcontour": [
           {
            "colorbar": {
             "outlinewidth": 0,
             "ticks": ""
            },
            "colorscale": [
             [
              0,
              "#0d0887"
             ],
             [
              0.1111111111111111,
              "#46039f"
             ],
             [
              0.2222222222222222,
              "#7201a8"
             ],
             [
              0.3333333333333333,
              "#9c179e"
             ],
             [
              0.4444444444444444,
              "#bd3786"
             ],
             [
              0.5555555555555556,
              "#d8576b"
             ],
             [
              0.6666666666666666,
              "#ed7953"
             ],
             [
              0.7777777777777778,
              "#fb9f3a"
             ],
             [
              0.8888888888888888,
              "#fdca26"
             ],
             [
              1,
              "#f0f921"
             ]
            ],
            "type": "histogram2dcontour"
           }
          ],
          "mesh3d": [
           {
            "colorbar": {
             "outlinewidth": 0,
             "ticks": ""
            },
            "type": "mesh3d"
           }
          ],
          "parcoords": [
           {
            "line": {
             "colorbar": {
              "outlinewidth": 0,
              "ticks": ""
             }
            },
            "type": "parcoords"
           }
          ],
          "pie": [
           {
            "automargin": true,
            "type": "pie"
           }
          ],
          "scatter": [
           {
            "fillpattern": {
             "fillmode": "overlay",
             "size": 10,
             "solidity": 0.2
            },
            "type": "scatter"
           }
          ],
          "scatter3d": [
           {
            "line": {
             "colorbar": {
              "outlinewidth": 0,
              "ticks": ""
             }
            },
            "marker": {
             "colorbar": {
              "outlinewidth": 0,
              "ticks": ""
             }
            },
            "type": "scatter3d"
           }
          ],
          "scattercarpet": [
           {
            "marker": {
             "colorbar": {
              "outlinewidth": 0,
              "ticks": ""
             }
            },
            "type": "scattercarpet"
           }
          ],
          "scattergeo": [
           {
            "marker": {
             "colorbar": {
              "outlinewidth": 0,
              "ticks": ""
             }
            },
            "type": "scattergeo"
           }
          ],
          "scattergl": [
           {
            "marker": {
             "colorbar": {
              "outlinewidth": 0,
              "ticks": ""
             }
            },
            "type": "scattergl"
           }
          ],
          "scattermap": [
           {
            "marker": {
             "colorbar": {
              "outlinewidth": 0,
              "ticks": ""
             }
            },
            "type": "scattermap"
           }
          ],
          "scattermapbox": [
           {
            "marker": {
             "colorbar": {
              "outlinewidth": 0,
              "ticks": ""
             }
            },
            "type": "scattermapbox"
           }
          ],
          "scatterpolar": [
           {
            "marker": {
             "colorbar": {
              "outlinewidth": 0,
              "ticks": ""
             }
            },
            "type": "scatterpolar"
           }
          ],
          "scatterpolargl": [
           {
            "marker": {
             "colorbar": {
              "outlinewidth": 0,
              "ticks": ""
             }
            },
            "type": "scatterpolargl"
           }
          ],
          "scatterternary": [
           {
            "marker": {
             "colorbar": {
              "outlinewidth": 0,
              "ticks": ""
             }
            },
            "type": "scatterternary"
           }
          ],
          "surface": [
           {
            "colorbar": {
             "outlinewidth": 0,
             "ticks": ""
            },
            "colorscale": [
             [
              0,
              "#0d0887"
             ],
             [
              0.1111111111111111,
              "#46039f"
             ],
             [
              0.2222222222222222,
              "#7201a8"
             ],
             [
              0.3333333333333333,
              "#9c179e"
             ],
             [
              0.4444444444444444,
              "#bd3786"
             ],
             [
              0.5555555555555556,
              "#d8576b"
             ],
             [
              0.6666666666666666,
              "#ed7953"
             ],
             [
              0.7777777777777778,
              "#fb9f3a"
             ],
             [
              0.8888888888888888,
              "#fdca26"
             ],
             [
              1,
              "#f0f921"
             ]
            ],
            "type": "surface"
           }
          ],
          "table": [
           {
            "cells": {
             "fill": {
              "color": "#EBF0F8"
             },
             "line": {
              "color": "white"
             }
            },
            "header": {
             "fill": {
              "color": "#C8D4E3"
             },
             "line": {
              "color": "white"
             }
            },
            "type": "table"
           }
          ]
         },
         "layout": {
          "annotationdefaults": {
           "arrowcolor": "#2a3f5f",
           "arrowhead": 0,
           "arrowwidth": 1
          },
          "autotypenumbers": "strict",
          "coloraxis": {
           "colorbar": {
            "outlinewidth": 0,
            "ticks": ""
           }
          },
          "colorscale": {
           "diverging": [
            [
             0,
             "#8e0152"
            ],
            [
             0.1,
             "#c51b7d"
            ],
            [
             0.2,
             "#de77ae"
            ],
            [
             0.3,
             "#f1b6da"
            ],
            [
             0.4,
             "#fde0ef"
            ],
            [
             0.5,
             "#f7f7f7"
            ],
            [
             0.6,
             "#e6f5d0"
            ],
            [
             0.7,
             "#b8e186"
            ],
            [
             0.8,
             "#7fbc41"
            ],
            [
             0.9,
             "#4d9221"
            ],
            [
             1,
             "#276419"
            ]
           ],
           "sequential": [
            [
             0,
             "#0d0887"
            ],
            [
             0.1111111111111111,
             "#46039f"
            ],
            [
             0.2222222222222222,
             "#7201a8"
            ],
            [
             0.3333333333333333,
             "#9c179e"
            ],
            [
             0.4444444444444444,
             "#bd3786"
            ],
            [
             0.5555555555555556,
             "#d8576b"
            ],
            [
             0.6666666666666666,
             "#ed7953"
            ],
            [
             0.7777777777777778,
             "#fb9f3a"
            ],
            [
             0.8888888888888888,
             "#fdca26"
            ],
            [
             1,
             "#f0f921"
            ]
           ],
           "sequentialminus": [
            [
             0,
             "#0d0887"
            ],
            [
             0.1111111111111111,
             "#46039f"
            ],
            [
             0.2222222222222222,
             "#7201a8"
            ],
            [
             0.3333333333333333,
             "#9c179e"
            ],
            [
             0.4444444444444444,
             "#bd3786"
            ],
            [
             0.5555555555555556,
             "#d8576b"
            ],
            [
             0.6666666666666666,
             "#ed7953"
            ],
            [
             0.7777777777777778,
             "#fb9f3a"
            ],
            [
             0.8888888888888888,
             "#fdca26"
            ],
            [
             1,
             "#f0f921"
            ]
           ]
          },
          "colorway": [
           "#636efa",
           "#EF553B",
           "#00cc96",
           "#ab63fa",
           "#FFA15A",
           "#19d3f3",
           "#FF6692",
           "#B6E880",
           "#FF97FF",
           "#FECB52"
          ],
          "font": {
           "color": "#2a3f5f"
          },
          "geo": {
           "bgcolor": "white",
           "lakecolor": "white",
           "landcolor": "white",
           "showlakes": true,
           "showland": true,
           "subunitcolor": "#C8D4E3"
          },
          "hoverlabel": {
           "align": "left"
          },
          "hovermode": "closest",
          "mapbox": {
           "style": "light"
          },
          "paper_bgcolor": "white",
          "plot_bgcolor": "white",
          "polar": {
           "angularaxis": {
            "gridcolor": "#EBF0F8",
            "linecolor": "#EBF0F8",
            "ticks": ""
           },
           "bgcolor": "white",
           "radialaxis": {
            "gridcolor": "#EBF0F8",
            "linecolor": "#EBF0F8",
            "ticks": ""
           }
          },
          "scene": {
           "xaxis": {
            "backgroundcolor": "white",
            "gridcolor": "#DFE8F3",
            "gridwidth": 2,
            "linecolor": "#EBF0F8",
            "showbackground": true,
            "ticks": "",
            "zerolinecolor": "#EBF0F8"
           },
           "yaxis": {
            "backgroundcolor": "white",
            "gridcolor": "#DFE8F3",
            "gridwidth": 2,
            "linecolor": "#EBF0F8",
            "showbackground": true,
            "ticks": "",
            "zerolinecolor": "#EBF0F8"
           },
           "zaxis": {
            "backgroundcolor": "white",
            "gridcolor": "#DFE8F3",
            "gridwidth": 2,
            "linecolor": "#EBF0F8",
            "showbackground": true,
            "ticks": "",
            "zerolinecolor": "#EBF0F8"
           }
          },
          "shapedefaults": {
           "line": {
            "color": "#2a3f5f"
           }
          },
          "ternary": {
           "aaxis": {
            "gridcolor": "#DFE8F3",
            "linecolor": "#A2B1C6",
            "ticks": ""
           },
           "baxis": {
            "gridcolor": "#DFE8F3",
            "linecolor": "#A2B1C6",
            "ticks": ""
           },
           "bgcolor": "white",
           "caxis": {
            "gridcolor": "#DFE8F3",
            "linecolor": "#A2B1C6",
            "ticks": ""
           }
          },
          "title": {
           "x": 0.05
          },
          "xaxis": {
           "automargin": true,
           "gridcolor": "#EBF0F8",
           "linecolor": "#EBF0F8",
           "ticks": "",
           "title": {
            "standoff": 15
           },
           "zerolinecolor": "#EBF0F8",
           "zerolinewidth": 2
          },
          "yaxis": {
           "automargin": true,
           "gridcolor": "#EBF0F8",
           "linecolor": "#EBF0F8",
           "ticks": "",
           "title": {
            "standoff": 15
           },
           "zerolinecolor": "#EBF0F8",
           "zerolinewidth": 2
          }
         }
        },
        "title": {
         "text": "📊 Coverage Rate by Region"
        },
        "xaxis": {
         "tickangle": -45,
         "title": {
          "text": "Region"
         }
        },
        "yaxis": {
         "title": {
          "text": "Coverage (%)"
         }
        }
       }
      }
     },
     "metadata": {},
     "output_type": "display_data"
    },
    {
     "name": "stdout",
     "output_type": "stream",
     "text": [
      "✅ Saved: coverage_by_region.html\n"
     ]
    }
   ],
   "source": [
    "# Coverage comparison\n",
    "if df_predictions is not None:\n",
    "    fig = go.Figure()\n",
    "\n",
    "    fig.add_trace(go.Scatter(\n",
    "        x=regional_demand['region'],\n",
    "        y=regional_demand['coverage_proportional'],\n",
    "        mode='markers+lines',\n",
    "        name='Proportional',\n",
    "        marker=dict(size=10, color='blue')\n",
    "    ))\n",
    "\n",
    "    if 'coverage_optimal' in regional_demand.columns:\n",
    "        fig.add_trace(go.Scatter(\n",
    "            x=regional_demand['region'],\n",
    "            y=regional_demand['coverage_optimal'],\n",
    "            mode='markers+lines',\n",
    "            name='Optimized',\n",
    "            marker=dict(size=10, color='green')\n",
    "        ))\n",
    "\n",
    "    # Target line at 80%\n",
    "    fig.add_hline(\n",
    "        y=80,\n",
    "        line_dash='dash',\n",
    "        line_color='red',\n",
    "        annotation_text='Target: 80% Coverage',\n",
    "        annotation_position='right'\n",
    "    )\n",
    "\n",
    "    fig.update_layout(\n",
    "        title=' Coverage Rate by Region',\n",
    "        xaxis_title='Region',\n",
    "        yaxis_title='Coverage (%)',\n",
    "        xaxis_tickangle=-45,\n",
    "        height=500,\n",
    "        template='plotly_white',\n",
    "        hovermode='x unified'\n",
    "    )\n",
    "\n",
    "    fig.write_html(viz_path / 'coverage_by_region.html')\n",
    "    fig.show()\n",
    "    print(\" Saved: coverage_by_region.html\")"
   ]
  },
  {
   "cell_type": "code",
   "execution_count": null,
   "id": "3057a481",
   "metadata": {
    "colab": {
     "base_uri": "https://localhost:8080/"
    },
    "execution": {
     "iopub.execute_input": "2025-10-22T08:38:38.246702Z",
     "iopub.status.busy": "2025-10-22T08:38:38.246640Z",
     "iopub.status.idle": "2025-10-22T08:38:38.249565Z",
     "shell.execute_reply": "2025-10-22T08:38:38.249215Z"
    },
    "id": "3057a481",
    "outputId": "d2fdb9f6-6849-41bf-e1ca-06147a846fd2"
   },
   "outputs": [
    {
     "name": "stdout",
     "output_type": "stream",
     "text": [
      "\n",
      "💰 COST-BENEFIT ANALYSIS\n",
      "================================================================================\n",
      "📊 Proportional Allocation:\n",
      "   Vaccines given: 188,963\n",
      "   Emergency visits prevented: 132,274\n",
      "   Cost: €2,834,441\n",
      "   Savings: €26,454,782\n",
      "   Net benefit: €23,620,341\n",
      "   ROI: 833.3%\n",
      "\n",
      "🏆 Optimized Allocation:\n",
      "   Vaccines given: 188,963\n",
      "   Emergency visits prevented: 132,274\n",
      "   Cost: €2,834,441\n",
      "   Savings: €26,454,782\n",
      "   Net benefit: €23,620,341\n",
      "   ROI: 833.3%\n",
      "\n",
      "💡 Optimization improvement: €0 additional net benefit\n",
      "\n",
      "================================================================================\n",
      "\n",
      "✅ Every €1 spent on vaccines saves €9.33 in emergency costs!\n"
     ]
    }
   ],
   "source": [
    "if df_predictions is not None:\n",
    "    print(\"\\n COST-BENEFIT ANALYSIS\\n\" + \"=\"*80)\n",
    "\n",
    "    # Assumptions (adjust based on real data)\n",
    "    COST_PER_VACCINE = 15  # euros\n",
    "    COST_PER_EMERGENCY_VISIT = 200  # euros\n",
    "    EFFECTIVENESS = 0.7  # vaccines 70% effective at preventing emergency visits\n",
    "\n",
    "    # Calculate for proportional allocation\n",
    "    vaccines_given_prop = regional_demand['allocation_proportional'].sum()\n",
    "    visits_prevented_prop = vaccines_given_prop * EFFECTIVENESS\n",
    "\n",
    "    cost_prop = vaccines_given_prop * COST_PER_VACCINE\n",
    "    savings_prop = visits_prevented_prop * COST_PER_EMERGENCY_VISIT\n",
    "    net_benefit_prop = savings_prop - cost_prop\n",
    "    roi_prop = (net_benefit_prop / cost_prop) * 100\n",
    "\n",
    "    print(\" Proportional Allocation:\")\n",
    "    print(f\"   Vaccines given: {vaccines_given_prop:,.0f}\")\n",
    "    print(f\"   Emergency visits prevented: {visits_prevented_prop:,.0f}\")\n",
    "    print(f\"   Cost: €{cost_prop:,.0f}\")\n",
    "    print(f\"   Savings: €{savings_prop:,.0f}\")\n",
    "    print(f\"   Net benefit: €{net_benefit_prop:,.0f}\")\n",
    "    print(f\"   ROI: {roi_prop:.1f}%\\n\")\n",
    "\n",
    "    # Calculate for optimal allocation (if available)\n",
    "    if 'allocation_optimal' in regional_demand.columns:\n",
    "        vaccines_given_opt = regional_demand['allocation_optimal'].sum()\n",
    "        visits_prevented_opt = vaccines_given_opt * EFFECTIVENESS\n",
    "\n",
    "        cost_opt = vaccines_given_opt * COST_PER_VACCINE\n",
    "        savings_opt = visits_prevented_opt * COST_PER_EMERGENCY_VISIT\n",
    "        net_benefit_opt = savings_opt - cost_opt\n",
    "        roi_opt = (net_benefit_opt / cost_opt) * 100\n",
    "\n",
    "        print(\" Optimized Allocation:\")\n",
    "        print(f\"   Vaccines given: {vaccines_given_opt:,.0f}\")\n",
    "        print(f\"   Emergency visits prevented: {visits_prevented_opt:,.0f}\")\n",
    "        print(f\"   Cost: €{cost_opt:,.0f}\")\n",
    "        print(f\"   Savings: €{savings_opt:,.0f}\")\n",
    "        print(f\"   Net benefit: €{net_benefit_opt:,.0f}\")\n",
    "        print(f\"   ROI: {roi_opt:.1f}%\\n\")\n",
    "\n",
    "        improvement = net_benefit_opt - net_benefit_prop\n",
    "        print(f\" Optimization improvement: €{improvement:,.0f} additional net benefit\")\n",
    "\n",
    "    print(\"\\n\" + \"=\"*80)\n",
    "    print(\"\\n Every €1 spent on vaccines saves €{:.2f} in emergency costs!\".format(roi_prop/100 + 1))"
   ]
  },
  {
   "cell_type": "code",
   "execution_count": null,
   "id": "58b08437",
   "metadata": {
    "colab": {
     "base_uri": "https://localhost:8080/"
    },
    "execution": {
     "iopub.execute_input": "2025-10-22T08:38:38.250519Z",
     "iopub.status.busy": "2025-10-22T08:38:38.250470Z",
     "iopub.status.idle": "2025-10-22T08:38:38.254908Z",
     "shell.execute_reply": "2025-10-22T08:38:38.254573Z"
    },
    "id": "58b08437",
    "outputId": "6e24580b-26a1-4ad3-dc86-4c1ccd4cba75"
   },
   "outputs": [
    {
     "name": "stdout",
     "output_type": "stream",
     "text": [
      "\n",
      "✅ Executive summary saved: /Users/fadybekkar/Desktop/EPITECH/HACK/Hackaton_Data/projet/optimization_outputs/executive_summary.md\n"
     ]
    }
   ],
   "source": [
    "if df_predictions is not None:\n",
    "    # Create executive summary\n",
    "    summary_lines = []\n",
    "    summary_lines.append(\"#  Vaccine Distribution Optimization - Executive Summary\\n\\n\")\n",
    "    summary_lines.append(f\"**Date**: {datetime.now().strftime('%Y-%m-%d %H:%M')}\\n\\n\")\n",
    "    summary_lines.append(\"---\\n\\n\")\n",
    "\n",
    "    summary_lines.append(\"##  Demand Forecast\\n\\n\")\n",
    "    summary_lines.append(f\"- **Total predicted demand**: {total_demand:,.0f} interventions\\n\")\n",
    "    summary_lines.append(f\"- **Regions analyzed**: {len(regional_demand)}\\n\")\n",
    "    summary_lines.append(f\"- **Time horizon**: {df_predictions['date'].nunique()} weeks\\n\\n\")\n",
    "\n",
    "    summary_lines.append(\"##  Supply Scenario\\n\\n\")\n",
    "    summary_lines.append(f\"- **Available supply**: {TOTAL_SUPPLY:,.0f} vaccines\\n\")\n",
    "    summary_lines.append(f\"- **Coverage level**: 85% of predicted demand\\n\")\n",
    "    summary_lines.append(f\"- **Shortfall**: {total_demand - TOTAL_SUPPLY:,.0f} vaccines\\n\\n\")\n",
    "\n",
    "    summary_lines.append(\"##  Recommended Strategy\\n\\n\")\n",
    "    if 'allocation_optimal' in regional_demand.columns:\n",
    "        summary_lines.append(\"**Optimized allocation** (genetic algorithm)\\n\\n\")\n",
    "        summary_lines.append(f\"- Total unmet demand: {total_unmet_opt:,.0f}\\n\")\n",
    "        summary_lines.append(f\"- Average coverage: {avg_coverage_opt:.1f}%\\n\")\n",
    "        summary_lines.append(f\"- Regions above 80%: {(regional_demand['coverage_optimal'] >= 80).sum()} of {len(regional_demand)}\\n\\n\")\n",
    "    else:\n",
    "        summary_lines.append(\"**Proportional allocation** (baseline)\\n\\n\")\n",
    "        summary_lines.append(f\"- Total unmet demand: {total_unmet_prop:,.0f}\\n\")\n",
    "        summary_lines.append(f\"- Average coverage: {avg_coverage_prop:.1f}%\\n\\n\")\n",
    "\n",
    "    summary_lines.append(\"##  Economic Impact\\n\\n\")\n",
    "    summary_lines.append(f\"- **Investment**: €{cost_prop:,.0f}\\n\")\n",
    "    summary_lines.append(f\"- **Expected savings**: €{savings_prop:,.0f}\\n\")\n",
    "    summary_lines.append(f\"- **Net benefit**: €{net_benefit_prop:,.0f}\\n\")\n",
    "    summary_lines.append(f\"- **ROI**: {roi_prop:.0f}%\\n\\n\")\n",
    "\n",
    "    summary_lines.append(\"##  Priority Regions\\n\\n\")\n",
    "    top_5 = regional_demand.nlargest(5, 'total_demand')\n",
    "    summary_lines.append(\"**Highest demand (priority for allocation)**:\\n\\n\")\n",
    "    for idx, row in top_5.iterrows():\n",
    "        summary_lines.append(f\"- {row['region']}: {row['total_demand']:,.0f} predicted interventions\\n\")\n",
    "\n",
    "    summary_lines.append(\"\\n##  Implementation Steps\\n\\n\")\n",
    "    summary_lines.append(\"1. **Secure supply**: Order {TOTAL_SUPPLY:,.0f} vaccine doses\\n\".format(TOTAL_SUPPLY=TOTAL_SUPPLY))\n",
    "    summary_lines.append(\"2. **Distribute**: Allocate according to optimal plan (see `final_allocation_plan.csv`)\\n\")\n",
    "    summary_lines.append(\"3. **Monitor**: Track actual demand vs predictions weekly\\n\")\n",
    "    summary_lines.append(\"4. **Adjust**: Reallocate surplus from low-demand regions to high-demand regions\\n\")\n",
    "    summary_lines.append(\"5. **Evaluate**: Measure effectiveness after campaign completion\\n\\n\")\n",
    "\n",
    "    summary_lines.append(\"---\\n\\n\")\n",
    "    summary_lines.append(\"##  Outputs Generated\\n\\n\")\n",
    "    summary_lines.append(\"- `final_allocation_plan.csv` - Detailed regional allocations\\n\")\n",
    "    summary_lines.append(\"- `allocation_comparison.csv` - Strategy comparison metrics\\n\")\n",
    "    summary_lines.append(\"- `allocation_by_region.html` - Interactive visualization\\n\")\n",
    "    summary_lines.append(\"- `coverage_by_region.html` - Coverage rate visualization\\n\\n\")\n",
    "\n",
    "    # Save\n",
    "    summary_path = OUTPUT_PATH / 'executive_summary.md'\n",
    "    with open(summary_path, 'w', encoding='utf-8') as f:\n",
    "        f.writelines(summary_lines)\n",
    "\n",
    "    print(f\"\\n Executive summary saved: {summary_path}\")"
   ]
  }
 ],
 "metadata": {
  "colab": {
   "provenance": []
  },
  "kernelspec": {
   "display_name": "Python 3",
   "language": "python",
   "name": "python3"
  },
  "language_info": {
   "codemirror_mode": {
    "name": "ipython",
    "version": 3
   },
   "file_extension": ".py",
   "mimetype": "text/x-python",
   "name": "python",
   "nbconvert_exporter": "python",
   "pygments_lexer": "ipython3",
   "version": "3.13.7"
  }
 },
 "nbformat": 4,
 "nbformat_minor": 5
}
