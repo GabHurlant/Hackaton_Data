{
 "cells": [
  {
   "cell_type": "markdown",
   "id": "1b64dfaa",
   "metadata": {
    "id": "1b64dfaa"
   },
   "source": [
    "# 🔍 Data Discovery - Understanding Our Sources\n",
    "\n",
    "**For Decision-Makers**: This notebook is like opening a treasure chest - we're checking what data we have, where it comes from, and if it's reliable. Think of it as the foundation of everything that follows.\n",
    "\n",
    "**Goal**: Before doing anything fancy, let's actually look at what data we have.\n",
    "\n",
    "**Why this matters**: Most data science projects fail because people don't understand their data. We're making sure we start on solid ground.\n",
    "\n",
    "## What We're Looking For:\n",
    "- 📁 What files do we have?\n",
    "- 📊 What do they contain?\n",
    "- 📅 What time periods are covered?\n",
    "- 🗺️ What geographic levels (national, regional, departmental)?\n",
    "- ⚠️ What's broken or missing?\n",
    "\n",
    "## 🎯 Connection to Project Goals:\n",
    "This notebook directly supports:\n",
    "- ✅ **Predicting vaccine needs** - We need historical data to see patterns\n",
    "- ✅ **Optimizing distribution** - We need geographic data to know where vaccines go\n",
    "- ✅ **Anticipating emergencies** - We need emergency visit data to forecast demand\n",
    "- ✅ **Improving access** - We need coverage data to find gaps\n",
    "\n",
    "---"
   ]
  },
  {
   "cell_type": "code",
   "execution_count": 1,
   "id": "0b0f2ace",
   "metadata": {
    "execution": {
     "iopub.execute_input": "2025-10-22T13:26:26.041193Z",
     "iopub.status.busy": "2025-10-22T13:26:26.041011Z",
     "iopub.status.idle": "2025-10-22T13:26:27.264884Z",
     "shell.execute_reply": "2025-10-22T13:26:27.264412Z"
    }
   },
   "outputs": [
    {
     "name": "stdout",
     "output_type": "stream",
     "text": [
      "Requirement already satisfied: nbformat in /Users/fadybekkar/Desktop/EPITECH/HACK/Hackaton_Data/.venv/lib/python3.13/site-packages (5.10.4)\r\n"
     ]
    },
    {
     "name": "stdout",
     "output_type": "stream",
     "text": [
      "Requirement already satisfied: ipykernel in /Users/fadybekkar/Desktop/EPITECH/HACK/Hackaton_Data/.venv/lib/python3.13/site-packages (7.0.1)\r\n",
      "Requirement already satisfied: ipython in /Users/fadybekkar/Desktop/EPITECH/HACK/Hackaton_Data/.venv/lib/python3.13/site-packages (9.6.0)\r\n",
      "Requirement already satisfied: jupyterlab in /Users/fadybekkar/Desktop/EPITECH/HACK/Hackaton_Data/.venv/lib/python3.13/site-packages (4.4.9)\r\n"
     ]
    },
    {
     "name": "stdout",
     "output_type": "stream",
     "text": [
      "Requirement already satisfied: numpy in /Users/fadybekkar/Desktop/EPITECH/HACK/Hackaton_Data/.venv/lib/python3.13/site-packages (2.3.4)\r\n"
     ]
    },
    {
     "name": "stdout",
     "output_type": "stream",
     "text": [
      "Requirement already satisfied: pandas in /Users/fadybekkar/Desktop/EPITECH/HACK/Hackaton_Data/.venv/lib/python3.13/site-packages (2.3.3)\r\n"
     ]
    },
    {
     "name": "stdout",
     "output_type": "stream",
     "text": [
      "Requirement already satisfied: matplotlib in /Users/fadybekkar/Desktop/EPITECH/HACK/Hackaton_Data/.venv/lib/python3.13/site-packages (3.10.7)\r\n"
     ]
    },
    {
     "name": "stdout",
     "output_type": "stream",
     "text": [
      "Requirement already satisfied: seaborn in /Users/fadybekkar/Desktop/EPITECH/HACK/Hackaton_Data/.venv/lib/python3.13/site-packages (0.13.2)\r\n",
      "Requirement already satisfied: scikit-learn in /Users/fadybekkar/Desktop/EPITECH/HACK/Hackaton_Data/.venv/lib/python3.13/site-packages (1.7.2)\r\n",
      "Requirement already satisfied: scipy in /Users/fadybekkar/Desktop/EPITECH/HACK/Hackaton_Data/.venv/lib/python3.13/site-packages (1.16.2)\r\n"
     ]
    },
    {
     "name": "stdout",
     "output_type": "stream",
     "text": [
      "Requirement already satisfied: notebook in /Users/fadybekkar/Desktop/EPITECH/HACK/Hackaton_Data/.venv/lib/python3.13/site-packages (7.4.7)\r\n"
     ]
    },
    {
     "name": "stdout",
     "output_type": "stream",
     "text": [
      "Requirement already satisfied: plotly in /Users/fadybekkar/Desktop/EPITECH/HACK/Hackaton_Data/.venv/lib/python3.13/site-packages (6.3.1)\r\n",
      "Requirement already satisfied: PyGAD in /Users/fadybekkar/Desktop/EPITECH/HACK/Hackaton_Data/.venv/lib/python3.13/site-packages (3.5.0)\r\n",
      "Requirement already satisfied: prophet in /Users/fadybekkar/Desktop/EPITECH/HACK/Hackaton_Data/.venv/lib/python3.13/site-packages (1.2.1)\r\n",
      "Requirement already satisfied: xgboost in /Users/fadybekkar/Desktop/EPITECH/HACK/Hackaton_Data/.venv/lib/python3.13/site-packages (3.1.1)\r\n"
     ]
    },
    {
     "name": "stdout",
     "output_type": "stream",
     "text": [
      "Requirement already satisfied: statsmodels in /Users/fadybekkar/Desktop/EPITECH/HACK/Hackaton_Data/.venv/lib/python3.13/site-packages (0.14.5)\r\n",
      "Requirement already satisfied: fastjsonschema>=2.15 in /Users/fadybekkar/Desktop/EPITECH/HACK/Hackaton_Data/.venv/lib/python3.13/site-packages (from nbformat) (2.21.2)\r\n",
      "Requirement already satisfied: jsonschema>=2.6 in /Users/fadybekkar/Desktop/EPITECH/HACK/Hackaton_Data/.venv/lib/python3.13/site-packages (from nbformat) (4.25.1)\r\n",
      "Requirement already satisfied: jupyter-core!=5.0.*,>=4.12 in /Users/fadybekkar/Desktop/EPITECH/HACK/Hackaton_Data/.venv/lib/python3.13/site-packages (from nbformat) (5.9.1)\r\n",
      "Requirement already satisfied: traitlets>=5.1 in /Users/fadybekkar/Desktop/EPITECH/HACK/Hackaton_Data/.venv/lib/python3.13/site-packages (from nbformat) (5.14.3)\r\n",
      "Requirement already satisfied: appnope>=0.1.2 in /Users/fadybekkar/Desktop/EPITECH/HACK/Hackaton_Data/.venv/lib/python3.13/site-packages (from ipykernel) (0.1.4)\r\n",
      "Requirement already satisfied: comm>=0.1.1 in /Users/fadybekkar/Desktop/EPITECH/HACK/Hackaton_Data/.venv/lib/python3.13/site-packages (from ipykernel) (0.2.3)\r\n",
      "Requirement already satisfied: debugpy>=1.6.5 in /Users/fadybekkar/Desktop/EPITECH/HACK/Hackaton_Data/.venv/lib/python3.13/site-packages (from ipykernel) (1.8.17)\r\n",
      "Requirement already satisfied: jupyter-client>=8.0.0 in /Users/fadybekkar/Desktop/EPITECH/HACK/Hackaton_Data/.venv/lib/python3.13/site-packages (from ipykernel) (8.6.3)\r\n",
      "Requirement already satisfied: matplotlib-inline>=0.1 in /Users/fadybekkar/Desktop/EPITECH/HACK/Hackaton_Data/.venv/lib/python3.13/site-packages (from ipykernel) (0.1.7)\r\n",
      "Requirement already satisfied: nest-asyncio>=1.4 in /Users/fadybekkar/Desktop/EPITECH/HACK/Hackaton_Data/.venv/lib/python3.13/site-packages (from ipykernel) (1.6.0)\r\n",
      "Requirement already satisfied: packaging>=22 in /Users/fadybekkar/Desktop/EPITECH/HACK/Hackaton_Data/.venv/lib/python3.13/site-packages (from ipykernel) (25.0)\r\n",
      "Requirement already satisfied: psutil>=5.7 in /Users/fadybekkar/Desktop/EPITECH/HACK/Hackaton_Data/.venv/lib/python3.13/site-packages (from ipykernel) (7.1.1)\r\n",
      "Requirement already satisfied: pyzmq>=25 in /Users/fadybekkar/Desktop/EPITECH/HACK/Hackaton_Data/.venv/lib/python3.13/site-packages (from ipykernel) (27.1.0)\r\n",
      "Requirement already satisfied: tornado>=6.2 in /Users/fadybekkar/Desktop/EPITECH/HACK/Hackaton_Data/.venv/lib/python3.13/site-packages (from ipykernel) (6.5.2)\r\n",
      "Requirement already satisfied: decorator in /Users/fadybekkar/Desktop/EPITECH/HACK/Hackaton_Data/.venv/lib/python3.13/site-packages (from ipython) (5.2.1)\r\n",
      "Requirement already satisfied: ipython-pygments-lexers in /Users/fadybekkar/Desktop/EPITECH/HACK/Hackaton_Data/.venv/lib/python3.13/site-packages (from ipython) (1.1.1)\r\n",
      "Requirement already satisfied: jedi>=0.16 in /Users/fadybekkar/Desktop/EPITECH/HACK/Hackaton_Data/.venv/lib/python3.13/site-packages (from ipython) (0.19.2)\r\n",
      "Requirement already satisfied: pexpect>4.3 in /Users/fadybekkar/Desktop/EPITECH/HACK/Hackaton_Data/.venv/lib/python3.13/site-packages (from ipython) (4.9.0)\r\n",
      "Requirement already satisfied: prompt_toolkit<3.1.0,>=3.0.41 in /Users/fadybekkar/Desktop/EPITECH/HACK/Hackaton_Data/.venv/lib/python3.13/site-packages (from ipython) (3.0.52)\r\n",
      "Requirement already satisfied: pygments>=2.4.0 in /Users/fadybekkar/Desktop/EPITECH/HACK/Hackaton_Data/.venv/lib/python3.13/site-packages (from ipython) (2.19.2)\r\n",
      "Requirement already satisfied: stack_data in /Users/fadybekkar/Desktop/EPITECH/HACK/Hackaton_Data/.venv/lib/python3.13/site-packages (from ipython) (0.6.3)\r\n",
      "Requirement already satisfied: wcwidth in /Users/fadybekkar/Desktop/EPITECH/HACK/Hackaton_Data/.venv/lib/python3.13/site-packages (from prompt_toolkit<3.1.0,>=3.0.41->ipython) (0.2.14)\r\n",
      "Requirement already satisfied: async-lru>=1.0.0 in /Users/fadybekkar/Desktop/EPITECH/HACK/Hackaton_Data/.venv/lib/python3.13/site-packages (from jupyterlab) (2.0.5)\r\n",
      "Requirement already satisfied: httpx<1,>=0.25.0 in /Users/fadybekkar/Desktop/EPITECH/HACK/Hackaton_Data/.venv/lib/python3.13/site-packages (from jupyterlab) (0.28.1)\r\n",
      "Requirement already satisfied: jinja2>=3.0.3 in /Users/fadybekkar/Desktop/EPITECH/HACK/Hackaton_Data/.venv/lib/python3.13/site-packages (from jupyterlab) (3.1.6)\r\n",
      "Requirement already satisfied: jupyter-lsp>=2.0.0 in /Users/fadybekkar/Desktop/EPITECH/HACK/Hackaton_Data/.venv/lib/python3.13/site-packages (from jupyterlab) (2.3.0)\r\n",
      "Requirement already satisfied: jupyter-server<3,>=2.4.0 in /Users/fadybekkar/Desktop/EPITECH/HACK/Hackaton_Data/.venv/lib/python3.13/site-packages (from jupyterlab) (2.17.0)\r\n",
      "Requirement already satisfied: jupyterlab-server<3,>=2.27.1 in /Users/fadybekkar/Desktop/EPITECH/HACK/Hackaton_Data/.venv/lib/python3.13/site-packages (from jupyterlab) (2.27.3)\r\n",
      "Requirement already satisfied: notebook-shim>=0.2 in /Users/fadybekkar/Desktop/EPITECH/HACK/Hackaton_Data/.venv/lib/python3.13/site-packages (from jupyterlab) (0.2.4)\r\n",
      "Requirement already satisfied: setuptools>=41.1.0 in /Users/fadybekkar/Desktop/EPITECH/HACK/Hackaton_Data/.venv/lib/python3.13/site-packages (from jupyterlab) (80.9.0)\r\n",
      "Requirement already satisfied: anyio in /Users/fadybekkar/Desktop/EPITECH/HACK/Hackaton_Data/.venv/lib/python3.13/site-packages (from httpx<1,>=0.25.0->jupyterlab) (4.11.0)\r\n",
      "Requirement already satisfied: certifi in /Users/fadybekkar/Desktop/EPITECH/HACK/Hackaton_Data/.venv/lib/python3.13/site-packages (from httpx<1,>=0.25.0->jupyterlab) (2025.10.5)\r\n",
      "Requirement already satisfied: httpcore==1.* in /Users/fadybekkar/Desktop/EPITECH/HACK/Hackaton_Data/.venv/lib/python3.13/site-packages (from httpx<1,>=0.25.0->jupyterlab) (1.0.9)\r\n",
      "Requirement already satisfied: idna in /Users/fadybekkar/Desktop/EPITECH/HACK/Hackaton_Data/.venv/lib/python3.13/site-packages (from httpx<1,>=0.25.0->jupyterlab) (3.11)\r\n",
      "Requirement already satisfied: h11>=0.16 in /Users/fadybekkar/Desktop/EPITECH/HACK/Hackaton_Data/.venv/lib/python3.13/site-packages (from httpcore==1.*->httpx<1,>=0.25.0->jupyterlab) (0.16.0)\r\n",
      "Requirement already satisfied: argon2-cffi>=21.1 in /Users/fadybekkar/Desktop/EPITECH/HACK/Hackaton_Data/.venv/lib/python3.13/site-packages (from jupyter-server<3,>=2.4.0->jupyterlab) (25.1.0)\r\n",
      "Requirement already satisfied: jupyter-events>=0.11.0 in /Users/fadybekkar/Desktop/EPITECH/HACK/Hackaton_Data/.venv/lib/python3.13/site-packages (from jupyter-server<3,>=2.4.0->jupyterlab) (0.12.0)\r\n",
      "Requirement already satisfied: jupyter-server-terminals>=0.4.4 in /Users/fadybekkar/Desktop/EPITECH/HACK/Hackaton_Data/.venv/lib/python3.13/site-packages (from jupyter-server<3,>=2.4.0->jupyterlab) (0.5.3)\r\n",
      "Requirement already satisfied: nbconvert>=6.4.4 in /Users/fadybekkar/Desktop/EPITECH/HACK/Hackaton_Data/.venv/lib/python3.13/site-packages (from jupyter-server<3,>=2.4.0->jupyterlab) (7.16.6)\r\n",
      "Requirement already satisfied: prometheus-client>=0.9 in /Users/fadybekkar/Desktop/EPITECH/HACK/Hackaton_Data/.venv/lib/python3.13/site-packages (from jupyter-server<3,>=2.4.0->jupyterlab) (0.23.1)\r\n",
      "Requirement already satisfied: send2trash>=1.8.2 in /Users/fadybekkar/Desktop/EPITECH/HACK/Hackaton_Data/.venv/lib/python3.13/site-packages (from jupyter-server<3,>=2.4.0->jupyterlab) (1.8.3)\r\n",
      "Requirement already satisfied: terminado>=0.8.3 in /Users/fadybekkar/Desktop/EPITECH/HACK/Hackaton_Data/.venv/lib/python3.13/site-packages (from jupyter-server<3,>=2.4.0->jupyterlab) (0.18.1)\r\n",
      "Requirement already satisfied: websocket-client>=1.7 in /Users/fadybekkar/Desktop/EPITECH/HACK/Hackaton_Data/.venv/lib/python3.13/site-packages (from jupyter-server<3,>=2.4.0->jupyterlab) (1.9.0)\r\n"
     ]
    },
    {
     "name": "stdout",
     "output_type": "stream",
     "text": [
      "Requirement already satisfied: babel>=2.10 in /Users/fadybekkar/Desktop/EPITECH/HACK/Hackaton_Data/.venv/lib/python3.13/site-packages (from jupyterlab-server<3,>=2.27.1->jupyterlab) (2.17.0)\r\n",
      "Requirement already satisfied: json5>=0.9.0 in /Users/fadybekkar/Desktop/EPITECH/HACK/Hackaton_Data/.venv/lib/python3.13/site-packages (from jupyterlab-server<3,>=2.27.1->jupyterlab) (0.12.1)\r\n",
      "Requirement already satisfied: requests>=2.31 in /Users/fadybekkar/Desktop/EPITECH/HACK/Hackaton_Data/.venv/lib/python3.13/site-packages (from jupyterlab-server<3,>=2.27.1->jupyterlab) (2.32.5)\r\n",
      "Requirement already satisfied: python-dateutil>=2.8.2 in /Users/fadybekkar/Desktop/EPITECH/HACK/Hackaton_Data/.venv/lib/python3.13/site-packages (from pandas) (2.9.0.post0)\r\n",
      "Requirement already satisfied: pytz>=2020.1 in /Users/fadybekkar/Desktop/EPITECH/HACK/Hackaton_Data/.venv/lib/python3.13/site-packages (from pandas) (2025.2)\r\n",
      "Requirement already satisfied: tzdata>=2022.7 in /Users/fadybekkar/Desktop/EPITECH/HACK/Hackaton_Data/.venv/lib/python3.13/site-packages (from pandas) (2025.2)\r\n",
      "Requirement already satisfied: contourpy>=1.0.1 in /Users/fadybekkar/Desktop/EPITECH/HACK/Hackaton_Data/.venv/lib/python3.13/site-packages (from matplotlib) (1.3.3)\r\n",
      "Requirement already satisfied: cycler>=0.10 in /Users/fadybekkar/Desktop/EPITECH/HACK/Hackaton_Data/.venv/lib/python3.13/site-packages (from matplotlib) (0.12.1)\r\n",
      "Requirement already satisfied: fonttools>=4.22.0 in /Users/fadybekkar/Desktop/EPITECH/HACK/Hackaton_Data/.venv/lib/python3.13/site-packages (from matplotlib) (4.60.1)\r\n",
      "Requirement already satisfied: kiwisolver>=1.3.1 in /Users/fadybekkar/Desktop/EPITECH/HACK/Hackaton_Data/.venv/lib/python3.13/site-packages (from matplotlib) (1.4.9)\r\n",
      "Requirement already satisfied: pillow>=8 in /Users/fadybekkar/Desktop/EPITECH/HACK/Hackaton_Data/.venv/lib/python3.13/site-packages (from matplotlib) (12.0.0)\r\n",
      "Requirement already satisfied: pyparsing>=3 in /Users/fadybekkar/Desktop/EPITECH/HACK/Hackaton_Data/.venv/lib/python3.13/site-packages (from matplotlib) (3.2.5)\r\n",
      "Requirement already satisfied: joblib>=1.2.0 in /Users/fadybekkar/Desktop/EPITECH/HACK/Hackaton_Data/.venv/lib/python3.13/site-packages (from scikit-learn) (1.5.2)\r\n",
      "Requirement already satisfied: threadpoolctl>=3.1.0 in /Users/fadybekkar/Desktop/EPITECH/HACK/Hackaton_Data/.venv/lib/python3.13/site-packages (from scikit-learn) (3.6.0)\r\n",
      "Requirement already satisfied: narwhals>=1.15.1 in /Users/fadybekkar/Desktop/EPITECH/HACK/Hackaton_Data/.venv/lib/python3.13/site-packages (from plotly) (2.9.0)\r\n",
      "Requirement already satisfied: cloudpickle in /Users/fadybekkar/Desktop/EPITECH/HACK/Hackaton_Data/.venv/lib/python3.13/site-packages (from PyGAD) (3.1.1)\r\n",
      "Requirement already satisfied: cmdstanpy>=1.0.4 in /Users/fadybekkar/Desktop/EPITECH/HACK/Hackaton_Data/.venv/lib/python3.13/site-packages (from prophet) (1.3.0)\r\n"
     ]
    },
    {
     "name": "stdout",
     "output_type": "stream",
     "text": [
      "Requirement already satisfied: holidays<1,>=0.25 in /Users/fadybekkar/Desktop/EPITECH/HACK/Hackaton_Data/.venv/lib/python3.13/site-packages (from prophet) (0.83)\r\n",
      "Requirement already satisfied: tqdm>=4.36.1 in /Users/fadybekkar/Desktop/EPITECH/HACK/Hackaton_Data/.venv/lib/python3.13/site-packages (from prophet) (4.67.1)\r\n",
      "Requirement already satisfied: importlib_resources in /Users/fadybekkar/Desktop/EPITECH/HACK/Hackaton_Data/.venv/lib/python3.13/site-packages (from prophet) (6.5.2)\r\n",
      "Requirement already satisfied: patsy>=0.5.6 in /Users/fadybekkar/Desktop/EPITECH/HACK/Hackaton_Data/.venv/lib/python3.13/site-packages (from statsmodels) (1.0.2)\r\n",
      "Requirement already satisfied: sniffio>=1.1 in /Users/fadybekkar/Desktop/EPITECH/HACK/Hackaton_Data/.venv/lib/python3.13/site-packages (from anyio->httpx<1,>=0.25.0->jupyterlab) (1.3.1)\r\n",
      "Requirement already satisfied: argon2-cffi-bindings in /Users/fadybekkar/Desktop/EPITECH/HACK/Hackaton_Data/.venv/lib/python3.13/site-packages (from argon2-cffi>=21.1->jupyter-server<3,>=2.4.0->jupyterlab) (25.1.0)\r\n",
      "Requirement already satisfied: stanio<2.0.0,>=0.4.0 in /Users/fadybekkar/Desktop/EPITECH/HACK/Hackaton_Data/.venv/lib/python3.13/site-packages (from cmdstanpy>=1.0.4->prophet) (0.5.1)\r\n",
      "Requirement already satisfied: parso<0.9.0,>=0.8.4 in /Users/fadybekkar/Desktop/EPITECH/HACK/Hackaton_Data/.venv/lib/python3.13/site-packages (from jedi>=0.16->ipython) (0.8.5)\r\n",
      "Requirement already satisfied: MarkupSafe>=2.0 in /Users/fadybekkar/Desktop/EPITECH/HACK/Hackaton_Data/.venv/lib/python3.13/site-packages (from jinja2>=3.0.3->jupyterlab) (3.0.3)\r\n",
      "Requirement already satisfied: attrs>=22.2.0 in /Users/fadybekkar/Desktop/EPITECH/HACK/Hackaton_Data/.venv/lib/python3.13/site-packages (from jsonschema>=2.6->nbformat) (25.4.0)\r\n",
      "Requirement already satisfied: jsonschema-specifications>=2023.03.6 in /Users/fadybekkar/Desktop/EPITECH/HACK/Hackaton_Data/.venv/lib/python3.13/site-packages (from jsonschema>=2.6->nbformat) (2025.9.1)\r\n"
     ]
    },
    {
     "name": "stdout",
     "output_type": "stream",
     "text": [
      "Requirement already satisfied: referencing>=0.28.4 in /Users/fadybekkar/Desktop/EPITECH/HACK/Hackaton_Data/.venv/lib/python3.13/site-packages (from jsonschema>=2.6->nbformat) (0.37.0)\r\n",
      "Requirement already satisfied: rpds-py>=0.7.1 in /Users/fadybekkar/Desktop/EPITECH/HACK/Hackaton_Data/.venv/lib/python3.13/site-packages (from jsonschema>=2.6->nbformat) (0.27.1)\r\n",
      "Requirement already satisfied: platformdirs>=2.5 in /Users/fadybekkar/Desktop/EPITECH/HACK/Hackaton_Data/.venv/lib/python3.13/site-packages (from jupyter-core!=5.0.*,>=4.12->nbformat) (4.5.0)\r\n",
      "Requirement already satisfied: python-json-logger>=2.0.4 in /Users/fadybekkar/Desktop/EPITECH/HACK/Hackaton_Data/.venv/lib/python3.13/site-packages (from jupyter-events>=0.11.0->jupyter-server<3,>=2.4.0->jupyterlab) (4.0.0)\r\n",
      "Requirement already satisfied: pyyaml>=5.3 in /Users/fadybekkar/Desktop/EPITECH/HACK/Hackaton_Data/.venv/lib/python3.13/site-packages (from jupyter-events>=0.11.0->jupyter-server<3,>=2.4.0->jupyterlab) (6.0.3)\r\n",
      "Requirement already satisfied: rfc3339-validator in /Users/fadybekkar/Desktop/EPITECH/HACK/Hackaton_Data/.venv/lib/python3.13/site-packages (from jupyter-events>=0.11.0->jupyter-server<3,>=2.4.0->jupyterlab) (0.1.4)\r\n",
      "Requirement already satisfied: rfc3986-validator>=0.1.1 in /Users/fadybekkar/Desktop/EPITECH/HACK/Hackaton_Data/.venv/lib/python3.13/site-packages (from jupyter-events>=0.11.0->jupyter-server<3,>=2.4.0->jupyterlab) (0.1.1)\r\n",
      "Requirement already satisfied: fqdn in /Users/fadybekkar/Desktop/EPITECH/HACK/Hackaton_Data/.venv/lib/python3.13/site-packages (from jsonschema[format-nongpl]>=4.18.0->jupyter-events>=0.11.0->jupyter-server<3,>=2.4.0->jupyterlab) (1.5.1)\r\n",
      "Requirement already satisfied: isoduration in /Users/fadybekkar/Desktop/EPITECH/HACK/Hackaton_Data/.venv/lib/python3.13/site-packages (from jsonschema[format-nongpl]>=4.18.0->jupyter-events>=0.11.0->jupyter-server<3,>=2.4.0->jupyterlab) (20.11.0)\r\n",
      "Requirement already satisfied: jsonpointer>1.13 in /Users/fadybekkar/Desktop/EPITECH/HACK/Hackaton_Data/.venv/lib/python3.13/site-packages (from jsonschema[format-nongpl]>=4.18.0->jupyter-events>=0.11.0->jupyter-server<3,>=2.4.0->jupyterlab) (3.0.0)\r\n",
      "Requirement already satisfied: rfc3987-syntax>=1.1.0 in /Users/fadybekkar/Desktop/EPITECH/HACK/Hackaton_Data/.venv/lib/python3.13/site-packages (from jsonschema[format-nongpl]>=4.18.0->jupyter-events>=0.11.0->jupyter-server<3,>=2.4.0->jupyterlab) (1.1.0)\r\n",
      "Requirement already satisfied: uri-template in /Users/fadybekkar/Desktop/EPITECH/HACK/Hackaton_Data/.venv/lib/python3.13/site-packages (from jsonschema[format-nongpl]>=4.18.0->jupyter-events>=0.11.0->jupyter-server<3,>=2.4.0->jupyterlab) (1.3.0)\r\n",
      "Requirement already satisfied: webcolors>=24.6.0 in /Users/fadybekkar/Desktop/EPITECH/HACK/Hackaton_Data/.venv/lib/python3.13/site-packages (from jsonschema[format-nongpl]>=4.18.0->jupyter-events>=0.11.0->jupyter-server<3,>=2.4.0->jupyterlab) (24.11.1)\r\n",
      "Requirement already satisfied: beautifulsoup4 in /Users/fadybekkar/Desktop/EPITECH/HACK/Hackaton_Data/.venv/lib/python3.13/site-packages (from nbconvert>=6.4.4->jupyter-server<3,>=2.4.0->jupyterlab) (4.14.2)\r\n",
      "Requirement already satisfied: bleach!=5.0.0 in /Users/fadybekkar/Desktop/EPITECH/HACK/Hackaton_Data/.venv/lib/python3.13/site-packages (from bleach[css]!=5.0.0->nbconvert>=6.4.4->jupyter-server<3,>=2.4.0->jupyterlab) (6.2.0)\r\n",
      "Requirement already satisfied: defusedxml in /Users/fadybekkar/Desktop/EPITECH/HACK/Hackaton_Data/.venv/lib/python3.13/site-packages (from nbconvert>=6.4.4->jupyter-server<3,>=2.4.0->jupyterlab) (0.7.1)\r\n",
      "Requirement already satisfied: jupyterlab-pygments in /Users/fadybekkar/Desktop/EPITECH/HACK/Hackaton_Data/.venv/lib/python3.13/site-packages (from nbconvert>=6.4.4->jupyter-server<3,>=2.4.0->jupyterlab) (0.3.0)\r\n",
      "Requirement already satisfied: mistune<4,>=2.0.3 in /Users/fadybekkar/Desktop/EPITECH/HACK/Hackaton_Data/.venv/lib/python3.13/site-packages (from nbconvert>=6.4.4->jupyter-server<3,>=2.4.0->jupyterlab) (3.1.4)\r\n",
      "Requirement already satisfied: nbclient>=0.5.0 in /Users/fadybekkar/Desktop/EPITECH/HACK/Hackaton_Data/.venv/lib/python3.13/site-packages (from nbconvert>=6.4.4->jupyter-server<3,>=2.4.0->jupyterlab) (0.10.2)\r\n",
      "Requirement already satisfied: pandocfilters>=1.4.1 in /Users/fadybekkar/Desktop/EPITECH/HACK/Hackaton_Data/.venv/lib/python3.13/site-packages (from nbconvert>=6.4.4->jupyter-server<3,>=2.4.0->jupyterlab) (1.5.1)\r\n",
      "Requirement already satisfied: webencodings in /Users/fadybekkar/Desktop/EPITECH/HACK/Hackaton_Data/.venv/lib/python3.13/site-packages (from bleach!=5.0.0->bleach[css]!=5.0.0->nbconvert>=6.4.4->jupyter-server<3,>=2.4.0->jupyterlab) (0.5.1)\r\n",
      "Requirement already satisfied: tinycss2<1.5,>=1.1.0 in /Users/fadybekkar/Desktop/EPITECH/HACK/Hackaton_Data/.venv/lib/python3.13/site-packages (from bleach[css]!=5.0.0->nbconvert>=6.4.4->jupyter-server<3,>=2.4.0->jupyterlab) (1.4.0)\r\n",
      "Requirement already satisfied: ptyprocess>=0.5 in /Users/fadybekkar/Desktop/EPITECH/HACK/Hackaton_Data/.venv/lib/python3.13/site-packages (from pexpect>4.3->ipython) (0.7.0)\r\n",
      "Requirement already satisfied: six>=1.5 in /Users/fadybekkar/Desktop/EPITECH/HACK/Hackaton_Data/.venv/lib/python3.13/site-packages (from python-dateutil>=2.8.2->pandas) (1.17.0)\r\n",
      "Requirement already satisfied: charset_normalizer<4,>=2 in /Users/fadybekkar/Desktop/EPITECH/HACK/Hackaton_Data/.venv/lib/python3.13/site-packages (from requests>=2.31->jupyterlab-server<3,>=2.27.1->jupyterlab) (3.4.4)\r\n",
      "Requirement already satisfied: urllib3<3,>=1.21.1 in /Users/fadybekkar/Desktop/EPITECH/HACK/Hackaton_Data/.venv/lib/python3.13/site-packages (from requests>=2.31->jupyterlab-server<3,>=2.27.1->jupyterlab) (2.5.0)\r\n"
     ]
    },
    {
     "name": "stdout",
     "output_type": "stream",
     "text": [
      "Requirement already satisfied: lark>=1.2.2 in /Users/fadybekkar/Desktop/EPITECH/HACK/Hackaton_Data/.venv/lib/python3.13/site-packages (from rfc3987-syntax>=1.1.0->jsonschema[format-nongpl]>=4.18.0->jupyter-events>=0.11.0->jupyter-server<3,>=2.4.0->jupyterlab) (1.3.0)\r\n",
      "Requirement already satisfied: cffi>=1.0.1 in /Users/fadybekkar/Desktop/EPITECH/HACK/Hackaton_Data/.venv/lib/python3.13/site-packages (from argon2-cffi-bindings->argon2-cffi>=21.1->jupyter-server<3,>=2.4.0->jupyterlab) (2.0.0)\r\n",
      "Requirement already satisfied: pycparser in /Users/fadybekkar/Desktop/EPITECH/HACK/Hackaton_Data/.venv/lib/python3.13/site-packages (from cffi>=1.0.1->argon2-cffi-bindings->argon2-cffi>=21.1->jupyter-server<3,>=2.4.0->jupyterlab) (2.23)\r\n",
      "Requirement already satisfied: soupsieve>1.2 in /Users/fadybekkar/Desktop/EPITECH/HACK/Hackaton_Data/.venv/lib/python3.13/site-packages (from beautifulsoup4->nbconvert>=6.4.4->jupyter-server<3,>=2.4.0->jupyterlab) (2.8)\r\n",
      "Requirement already satisfied: typing-extensions>=4.0.0 in /Users/fadybekkar/Desktop/EPITECH/HACK/Hackaton_Data/.venv/lib/python3.13/site-packages (from beautifulsoup4->nbconvert>=6.4.4->jupyter-server<3,>=2.4.0->jupyterlab) (4.15.0)\r\n",
      "Requirement already satisfied: arrow>=0.15.0 in /Users/fadybekkar/Desktop/EPITECH/HACK/Hackaton_Data/.venv/lib/python3.13/site-packages (from isoduration->jsonschema[format-nongpl]>=4.18.0->jupyter-events>=0.11.0->jupyter-server<3,>=2.4.0->jupyterlab) (1.4.0)\r\n",
      "Requirement already satisfied: executing>=1.2.0 in /Users/fadybekkar/Desktop/EPITECH/HACK/Hackaton_Data/.venv/lib/python3.13/site-packages (from stack_data->ipython) (2.2.1)\r\n",
      "Requirement already satisfied: asttokens>=2.1.0 in /Users/fadybekkar/Desktop/EPITECH/HACK/Hackaton_Data/.venv/lib/python3.13/site-packages (from stack_data->ipython) (3.0.0)\r\n",
      "Requirement already satisfied: pure-eval in /Users/fadybekkar/Desktop/EPITECH/HACK/Hackaton_Data/.venv/lib/python3.13/site-packages (from stack_data->ipython) (0.2.3)\r\n"
     ]
    },
    {
     "name": "stdout",
     "output_type": "stream",
     "text": [
      "Note: you may need to restart the kernel to use updated packages.\n"
     ]
    }
   ],
   "source": [
    "%pip install --upgrade \\\n",
    "    nbformat \\\n",
    "    ipykernel \\\n",
    "    ipython \\\n",
    "    jupyterlab \\\n",
    "    numpy \\\n",
    "    pandas \\\n",
    "    matplotlib \\\n",
    "    seaborn \\\n",
    "    scikit-learn \\\n",
    "    scipy \\\n",
    "    notebook \\\n",
    "    plotly \\\n",
    "    PyGAD \\\n",
    "    prophet \\\n",
    "    xgboost \\\n",
    "    statsmodels \\\n",
    "\n"
   ]
  },
  {
   "cell_type": "code",
   "execution_count": 2,
   "id": "f9380e0e",
   "metadata": {
    "colab": {
     "base_uri": "https://localhost:8080/"
    },
    "execution": {
     "iopub.execute_input": "2025-10-22T13:26:27.266435Z",
     "iopub.status.busy": "2025-10-22T13:26:27.266306Z",
     "iopub.status.idle": "2025-10-22T13:26:28.121213Z",
     "shell.execute_reply": "2025-10-22T13:26:28.120822Z"
    },
    "id": "f9380e0e",
    "outputId": "9fe53f94-5a30-45e4-83c9-1c29320945e6"
   },
   "outputs": [
    {
     "name": "stdout",
     "output_type": "stream",
     "text": [
      "✅ Libraries loaded\n",
      "📅 Analysis date: 2025-10-22 15:26\n",
      "🖥️ Environment: Local\n"
     ]
    }
   ],
   "source": [
    "# Basic setup - keep it simple\n",
    "import pandas as pd\n",
    "import numpy as np\n",
    "from pathlib import Path\n",
    "import os\n",
    "from datetime import datetime\n",
    "import sys\n",
    "\n",
    "# Visualization\n",
    "import matplotlib.pyplot as plt\n",
    "import seaborn as sns\n",
    "\n",
    "# Detect environment (check if running in Google Colab)\n",
    "try:\n",
    "    import google.colab\n",
    "    IN_COLAB = True\n",
    "except ImportError:\n",
    "    IN_COLAB = False\n",
    "\n",
    "# Mount Google Drive if in Colab\n",
    "if IN_COLAB:\n",
    "    from google.colab import drive\n",
    "    drive.mount('/content/drive')\n",
    "    print(\"✅ Google Drive mounted\")\n",
    "\n",
    "# Make output look nice\n",
    "pd.set_option('display.max_columns', None)\n",
    "pd.set_option('display.max_rows', 100)\n",
    "plt.style.use('seaborn-v0_8-darkgrid')\n",
    "\n",
    "print(\"✅ Libraries loaded\")\n",
    "print(f\"📅 Analysis date: {datetime.now().strftime('%Y-%m-%d %H:%M')}\")\n",
    "print(f\"🖥️ Environment: {'Google Colab' if IN_COLAB else 'Local'}\")"
   ]
  },
  {
   "cell_type": "code",
   "execution_count": 3,
   "id": "7ebe5309",
   "metadata": {
    "colab": {
     "base_uri": "https://localhost:8080/"
    },
    "execution": {
     "iopub.execute_input": "2025-10-22T13:26:28.122234Z",
     "iopub.status.busy": "2025-10-22T13:26:28.122131Z",
     "iopub.status.idle": "2025-10-22T13:26:28.124198Z",
     "shell.execute_reply": "2025-10-22T13:26:28.123876Z"
    },
    "id": "7ebe5309",
    "outputId": "e9f7ae72-ea8e-4b36-a373-18372e874d32"
   },
   "outputs": [
    {
     "name": "stdout",
     "output_type": "stream",
     "text": [
      "Working directory: /Users/fadybekkar/Desktop/EPITECH/HACK/Hackaton_Data/projet\n",
      "Data directory: /Users/fadybekkar/Desktop/EPITECH/HACK/Hackaton_Data/projet/DATASET\n",
      "Data directory exists: True\n"
     ]
    }
   ],
   "source": [
    "# Set up paths (works both locally and in Colab)\n",
    "if IN_COLAB:\n",
    "    BASE_PATH = Path('/content/drive/MyDrive/HACKATHON_DATALAB')\n",
    "else:\n",
    "    BASE_PATH = Path.cwd()\n",
    "\n",
    "DATA_PATH = BASE_PATH / 'DATASET'\n",
    "\n",
    "print(f\"Working directory: {BASE_PATH}\")\n",
    "print(f\"Data directory: {DATA_PATH}\")\n",
    "print(f\"Data directory exists: {DATA_PATH.exists()}\")\n",
    "\n",
    "if not DATA_PATH.exists():\n",
    "    print(\"⚠️ DATASET folder not found!\")\n",
    "    if IN_COLAB:\n",
    "        print(\"   Make sure 'HACKATHON_DATALAB' folder exists in your Google Drive\")\n",
    "    else:\n",
    "        print(\"   Make sure you're running this from the project root\")"
   ]
  },
  {
   "cell_type": "markdown",
   "id": "9673a131",
   "metadata": {
    "id": "9673a131"
   },
   "source": [
    "---\n",
    "\n",
    "## 📁 Step 1: What Files Do We Have?\n",
    "\n",
    "Let's explore the entire DATASET folder structure."
   ]
  },
  {
   "cell_type": "code",
   "execution_count": 4,
   "id": "2f28eb72",
   "metadata": {
    "colab": {
     "base_uri": "https://localhost:8080/"
    },
    "execution": {
     "iopub.execute_input": "2025-10-22T13:26:28.125104Z",
     "iopub.status.busy": "2025-10-22T13:26:28.125044Z",
     "iopub.status.idle": "2025-10-22T13:26:28.128956Z",
     "shell.execute_reply": "2025-10-22T13:26:28.128614Z"
    },
    "id": "2f28eb72",
    "outputId": "c270a580-51d9-4a71-8e3a-8cd1d221add1"
   },
   "outputs": [
    {
     "name": "stdout",
     "output_type": "stream",
     "text": [
      "\n",
      "📂 DATASET STRUCTURE:\n",
      "\n",
      "================================================================================\n",
      "📁 Couvertures-vaccinales-des-adolescents-et-adultes/\n",
      "  📁 Données-départementales/\n",
      "    📄 couvertures-vaccinales-des-adolescent-et-adultes-departement.csv (0.10 MB)\n",
      "  📁 Données-nationales/\n",
      "    📄 couvertures-vaccinales-des-adolescents-et-adultes-depuis-2011-france.csv (0.00 MB)\n",
      "  📁 Données-régionales/\n",
      "    📄 couvertures-vaccinales-des-adolescents-et-adultes-depuis-2011-region.csv (0.01 MB)\n",
      "📁 Passages-aux-urgences-et-Actes-SOS-Médecins/\n",
      "  📁 Données-départementales/\n",
      "    📄 grippe-passages-aux-urgences-et-actes-sos-medecins-departement.csv (12.60 MB)\n",
      "  📁 Données-nationales/\n",
      "    📄 grippe-passages-aux-urgences-et-actes-sos-medecins-france.csv (0.10 MB)\n",
      "  📁 Données-régionales/\n",
      "    📄 grippe-passages-urgences-et-actes-sos-medecin_reg.csv (1.98 MB)\n",
      "📁 Vaccination-Grippe/\n",
      "  📁 Vaccination-Grippe-2021-2022/\n",
      "    📄 campagne-2021.csv (0.00 MB)\n",
      "    📄 couverture-2021.csv (0.00 MB)\n",
      "    📄 doses-actes-2021.csv (0.06 MB)\n",
      "  📁 Vaccination-Grippe-2022-2023/\n",
      "    📄 campagne-2022.csv (0.00 MB)\n",
      "    📄 couverture-2022.csv (0.00 MB)\n",
      "    📄 doses-actes-2022.csv (0.06 MB)\n",
      "  📁 Vaccination-Grippe-2023-2024/\n",
      "    📄 campagne-2023.csv (0.00 MB)\n",
      "    📄 couverture-2023.csv (0.00 MB)\n",
      "    📄 doses-actes-2023.csv (0.06 MB)\n",
      "  📁 Vaccination-Grippe-2024-2025/\n",
      "    📄 campagne-2024.csv (0.00 MB)\n",
      "    📄 couverture-2024.csv (0.00 MB)\n",
      "    📄 doses-actes-2024.csv (0.05 MB)\n",
      "================================================================================\n",
      "\n",
      "✅ Found 18 CSV files\n"
     ]
    }
   ],
   "source": [
    "def explore_directory(path, level=0, visited=None):\n",
    "    \"\"\"Show directory structure in a readable way\"\"\"\n",
    "    if visited is None:\n",
    "        visited = set()\n",
    "\n",
    "    items = []\n",
    "    indent = \"  \" * level\n",
    "\n",
    "    try:\n",
    "        resolved_path = path.resolve()\n",
    "    except (RuntimeError, OSError) as exc:\n",
    "        print(f\"{indent}⚠️ Could not resolve path {path}: {exc}\")\n",
    "        return items\n",
    "\n",
    "    if resolved_path in visited:\n",
    "        print(f\"{indent}🔁 {path.name}/ (already visited)\")\n",
    "        return items\n",
    "\n",
    "    visited.add(resolved_path)\n",
    "\n",
    "    try:\n",
    "        entries = sorted(path.iterdir(), key=lambda p: p.name.lower())\n",
    "    except PermissionError:\n",
    "        print(f\"{indent}⚠️ Permission denied\")\n",
    "        return items\n",
    "\n",
    "    for item in entries:\n",
    "        item_indent = indent\n",
    "        try:\n",
    "            if item.is_dir():\n",
    "                if item.is_symlink():\n",
    "                    print(f\"{item_indent}🔗 {item.name}/ (symlink skipped)\")\n",
    "                    continue\n",
    "                print(f\"{item_indent}📁 {item.name}/\")\n",
    "                items.extend(explore_directory(item, level + 1, visited))\n",
    "            else:\n",
    "                size_mb = item.stat().st_size / (1024 * 1024)\n",
    "                print(f\"{item_indent}📄 {item.name} ({size_mb:.2f} MB)\")\n",
    "                if item.suffix == '.csv':\n",
    "                    items.append({\n",
    "                        'file': item.name,\n",
    "                        'path': str(item),\n",
    "                        'size_mb': size_mb,\n",
    "                        'category': item.parent.parent.name if level > 1 else item.parent.name\n",
    "                    })\n",
    "        except PermissionError:\n",
    "            print(f\"{item_indent}⚠️ Permission denied: {item.name}\")\n",
    "        except OSError as exc:\n",
    "            print(f\"{item_indent}⚠️ OS error on {item.name}: {exc}\")\n",
    "\n",
    "    return items\n",
    "\n",
    "print(\"\\n📂 DATASET STRUCTURE:\\n\")\n",
    "print(\"=\"*80)\n",
    "csv_files = explore_directory(DATA_PATH)\n",
    "print(\"=\"*80)\n",
    "print(f\"\\n✅ Found {len(csv_files)} CSV files\")\n"
   ]
  },
  {
   "cell_type": "code",
   "execution_count": 5,
   "id": "906d95ed",
   "metadata": {
    "colab": {
     "base_uri": "https://localhost:8080/"
    },
    "execution": {
     "iopub.execute_input": "2025-10-22T13:26:28.129782Z",
     "iopub.status.busy": "2025-10-22T13:26:28.129711Z",
     "iopub.status.idle": "2025-10-22T13:26:28.133027Z",
     "shell.execute_reply": "2025-10-22T13:26:28.132664Z"
    },
    "id": "906d95ed",
    "outputId": "3ed61b1b-a24d-4c7e-fa7f-ce9ee6a3509b"
   },
   "outputs": [
    {
     "name": "stdout",
     "output_type": "stream",
     "text": [
      "\n",
      "📊 CSV FILES SUMMARY:\n",
      "\n",
      "                                                                    file                                                                                                                                                                                                              path   size_mb                                          category\n",
      "        couvertures-vaccinales-des-adolescent-et-adultes-departement.csv    /Users/fadybekkar/Desktop/EPITECH/HACK/Hackaton_Data/projet/DATASET/Couvertures-vaccinales-des-adolescents-et-adultes/Données-départementales/couvertures-vaccinales-des-adolescent-et-adultes-departement.csv  0.104764 Couvertures-vaccinales-des-adolescents-et-adultes\n",
      "couvertures-vaccinales-des-adolescents-et-adultes-depuis-2011-france.csv /Users/fadybekkar/Desktop/EPITECH/HACK/Hackaton_Data/projet/DATASET/Couvertures-vaccinales-des-adolescents-et-adultes/Données-nationales/couvertures-vaccinales-des-adolescents-et-adultes-depuis-2011-france.csv  0.001016 Couvertures-vaccinales-des-adolescents-et-adultes\n",
      "couvertures-vaccinales-des-adolescents-et-adultes-depuis-2011-region.csv /Users/fadybekkar/Desktop/EPITECH/HACK/Hackaton_Data/projet/DATASET/Couvertures-vaccinales-des-adolescents-et-adultes/Données-régionales/couvertures-vaccinales-des-adolescents-et-adultes-depuis-2011-region.csv  0.014096 Couvertures-vaccinales-des-adolescents-et-adultes\n",
      "      grippe-passages-aux-urgences-et-actes-sos-medecins-departement.csv        /Users/fadybekkar/Desktop/EPITECH/HACK/Hackaton_Data/projet/DATASET/Passages-aux-urgences-et-Actes-SOS-Médecins/Données-départementales/grippe-passages-aux-urgences-et-actes-sos-medecins-departement.csv 12.601152       Passages-aux-urgences-et-Actes-SOS-Médecins\n",
      "           grippe-passages-aux-urgences-et-actes-sos-medecins-france.csv                  /Users/fadybekkar/Desktop/EPITECH/HACK/Hackaton_Data/projet/DATASET/Passages-aux-urgences-et-Actes-SOS-Médecins/Données-nationales/grippe-passages-aux-urgences-et-actes-sos-medecins-france.csv  0.099928       Passages-aux-urgences-et-Actes-SOS-Médecins\n",
      "                   grippe-passages-urgences-et-actes-sos-medecin_reg.csv                          /Users/fadybekkar/Desktop/EPITECH/HACK/Hackaton_Data/projet/DATASET/Passages-aux-urgences-et-Actes-SOS-Médecins/Données-régionales/grippe-passages-urgences-et-actes-sos-medecin_reg.csv  1.975243       Passages-aux-urgences-et-Actes-SOS-Médecins\n",
      "                                                       campagne-2021.csv                                                                             /Users/fadybekkar/Desktop/EPITECH/HACK/Hackaton_Data/projet/DATASET/Vaccination-Grippe/Vaccination-Grippe-2021-2022/campagne-2021.csv  0.000247                                Vaccination-Grippe\n",
      "                                                     couverture-2021.csv                                                                           /Users/fadybekkar/Desktop/EPITECH/HACK/Hackaton_Data/projet/DATASET/Vaccination-Grippe/Vaccination-Grippe-2021-2022/couverture-2021.csv  0.002769                                Vaccination-Grippe\n",
      "                                                    doses-actes-2021.csv                                                                          /Users/fadybekkar/Desktop/EPITECH/HACK/Hackaton_Data/projet/DATASET/Vaccination-Grippe/Vaccination-Grippe-2021-2022/doses-actes-2021.csv  0.057709                                Vaccination-Grippe\n",
      "                                                       campagne-2022.csv                                                                             /Users/fadybekkar/Desktop/EPITECH/HACK/Hackaton_Data/projet/DATASET/Vaccination-Grippe/Vaccination-Grippe-2022-2023/campagne-2022.csv  0.000247                                Vaccination-Grippe\n",
      "                                                     couverture-2022.csv                                                                           /Users/fadybekkar/Desktop/EPITECH/HACK/Hackaton_Data/projet/DATASET/Vaccination-Grippe/Vaccination-Grippe-2022-2023/couverture-2022.csv  0.002769                                Vaccination-Grippe\n",
      "                                                    doses-actes-2022.csv                                                                          /Users/fadybekkar/Desktop/EPITECH/HACK/Hackaton_Data/projet/DATASET/Vaccination-Grippe/Vaccination-Grippe-2022-2023/doses-actes-2022.csv  0.056719                                Vaccination-Grippe\n",
      "                                                       campagne-2023.csv                                                                             /Users/fadybekkar/Desktop/EPITECH/HACK/Hackaton_Data/projet/DATASET/Vaccination-Grippe/Vaccination-Grippe-2023-2024/campagne-2023.csv  0.000247                                Vaccination-Grippe\n",
      "                                                     couverture-2023.csv                                                                           /Users/fadybekkar/Desktop/EPITECH/HACK/Hackaton_Data/projet/DATASET/Vaccination-Grippe/Vaccination-Grippe-2023-2024/couverture-2023.csv  0.002769                                Vaccination-Grippe\n",
      "                                                    doses-actes-2023.csv                                                                          /Users/fadybekkar/Desktop/EPITECH/HACK/Hackaton_Data/projet/DATASET/Vaccination-Grippe/Vaccination-Grippe-2023-2024/doses-actes-2023.csv  0.057837                                Vaccination-Grippe\n",
      "                                                       campagne-2024.csv                                                                             /Users/fadybekkar/Desktop/EPITECH/HACK/Hackaton_Data/projet/DATASET/Vaccination-Grippe/Vaccination-Grippe-2024-2025/campagne-2024.csv  0.000247                                Vaccination-Grippe\n",
      "                                                     couverture-2024.csv                                                                           /Users/fadybekkar/Desktop/EPITECH/HACK/Hackaton_Data/projet/DATASET/Vaccination-Grippe/Vaccination-Grippe-2024-2025/couverture-2024.csv  0.002770                                Vaccination-Grippe\n",
      "                                                    doses-actes-2024.csv                                                                          /Users/fadybekkar/Desktop/EPITECH/HACK/Hackaton_Data/projet/DATASET/Vaccination-Grippe/Vaccination-Grippe-2024-2025/doses-actes-2024.csv  0.051921                                Vaccination-Grippe\n",
      "\n",
      "📦 Total size: 15.03 MB\n",
      "\n",
      "📂 Categories: ['Couvertures-vaccinales-des-adolescents-et-adultes', 'Passages-aux-urgences-et-Actes-SOS-Médecins', 'Vaccination-Grippe']\n"
     ]
    }
   ],
   "source": [
    "# Create a summary table of all CSV files\n",
    "if csv_files:\n",
    "    df_files = pd.DataFrame(csv_files)\n",
    "\n",
    "    print(\"\\n📊 CSV FILES SUMMARY:\\n\")\n",
    "    print(df_files.to_string(index=False))\n",
    "\n",
    "    print(f\"\\n📦 Total size: {df_files['size_mb'].sum():.2f} MB\")\n",
    "    print(f\"\\n📂 Categories: {df_files['category'].unique().tolist()}\")\n",
    "else:\n",
    "    print(\"⚠️ No CSV files found!\")"
   ]
  },
  {
   "cell_type": "markdown",
   "id": "444959b5",
   "metadata": {
    "id": "444959b5"
   },
   "source": [
    "---\n",
    "\n",
    "## 📊 Step 2: Peek Inside Each Dataset\n",
    "\n",
    "Let's look at the first few rows of each file to understand the structure."
   ]
  },
  {
   "cell_type": "code",
   "execution_count": 6,
   "id": "5e21ea2d",
   "metadata": {
    "colab": {
     "base_uri": "https://localhost:8080/"
    },
    "execution": {
     "iopub.execute_input": "2025-10-22T13:26:28.133872Z",
     "iopub.status.busy": "2025-10-22T13:26:28.133809Z",
     "iopub.status.idle": "2025-10-22T13:26:28.136926Z",
     "shell.execute_reply": "2025-10-22T13:26:28.136659Z"
    },
    "id": "5e21ea2d",
    "outputId": "5e350f2c-f1a8-4690-cecc-9a25b57ef8c6"
   },
   "outputs": [
    {
     "name": "stdout",
     "output_type": "stream",
     "text": [
      "\n",
      "🔍 ANALYZING EACH FILE...\n",
      "\n"
     ]
    }
   ],
   "source": [
    "def try_read_csv(filepath, encodings=['utf-8', 'latin-1', 'cp1252', 'iso-8859-1']):\n",
    "    \"\"\"Try multiple encodings - French data often has encoding issues\"\"\"\n",
    "    for encoding in encodings:\n",
    "        try:\n",
    "            df = pd.read_csv(filepath, encoding=encoding, nrows=5, low_memory=False)\n",
    "            return df, encoding\n",
    "        except:\n",
    "            continue\n",
    "    return None, None\n",
    "\n",
    "def analyze_csv_file(filepath):\n",
    "    \"\"\"Quick analysis of a CSV file\"\"\"\n",
    "    print(\"\\n\" + \"=\"*80)\n",
    "    print(f\"📄 FILE: {Path(filepath).name}\")\n",
    "    print(f\"📍 Location: {Path(filepath).parent.name}\")\n",
    "    print(\"=\"*80)\n",
    "\n",
    "    # Try to read the file\n",
    "    df_sample, encoding = try_read_csv(filepath)\n",
    "\n",
    "    if df_sample is None:\n",
    "        print(\"❌ Could not read file with any encoding\")\n",
    "        return None\n",
    "\n",
    "    print(f\"✅ Encoding: {encoding}\")\n",
    "\n",
    "    # Full read for stats\n",
    "    df_full = pd.read_csv(filepath, encoding=encoding, low_memory=False)\n",
    "\n",
    "    print(f\"📏 Shape: {df_full.shape[0]:,} rows × {df_full.shape[1]} columns\")\n",
    "    print(f\"\\n📋 Columns: {list(df_full.columns)}\")\n",
    "\n",
    "    print(f\"\\n👀 First 3 rows:\")\n",
    "    print(df_sample.head(3).to_string())\n",
    "\n",
    "    # Data types\n",
    "    print(f\"\\n🔢 Data types:\")\n",
    "    for col, dtype in df_full.dtypes.items():\n",
    "        print(f\"  - {col}: {dtype}\")\n",
    "\n",
    "    # Missing values\n",
    "    missing = df_full.isnull().sum()\n",
    "    if missing.any():\n",
    "        print(f\"\\n⚠️ Missing values:\")\n",
    "        for col, count in missing[missing > 0].items():\n",
    "            pct = (count / len(df_full)) * 100\n",
    "            print(f\"  - {col}: {count:,} ({pct:.1f}%)\")\n",
    "    else:\n",
    "        print(f\"\\n✅ No missing values\")\n",
    "\n",
    "    # Look for date columns\n",
    "    date_keywords = ['date', 'semaine', 'week', 'annee', 'year', 'periode', 'jour']\n",
    "    date_cols = [col for col in df_full.columns if any(kw in col.lower() for kw in date_keywords)]\n",
    "\n",
    "    if date_cols:\n",
    "        print(f\"\\n📅 Potential date columns: {date_cols}\")\n",
    "        for col in date_cols:\n",
    "            try:\n",
    "                date_series = pd.to_datetime(df_full[col], errors='coerce')\n",
    "                date_series = date_series.dropna()\n",
    "                if len(date_series) > 0:\n",
    "                    print(f\"  - {col}: {date_series.min()} to {date_series.max()}\")\n",
    "            except:\n",
    "                print(f\"  - {col}: Could not parse as date\")\n",
    "\n",
    "    return df_full\n",
    "\n",
    "print(\"\\n🔍 ANALYZING EACH FILE...\\n\")"
   ]
  },
  {
   "cell_type": "markdown",
   "id": "529f60cc",
   "metadata": {
    "id": "529f60cc"
   },
   "source": [
    "### 📊 Category 1: Vaccination Coverage Data"
   ]
  },
  {
   "cell_type": "code",
   "execution_count": 7,
   "id": "769640c3",
   "metadata": {
    "colab": {
     "base_uri": "https://localhost:8080/"
    },
    "execution": {
     "iopub.execute_input": "2025-10-22T13:26:28.137760Z",
     "iopub.status.busy": "2025-10-22T13:26:28.137703Z",
     "iopub.status.idle": "2025-10-22T13:26:28.141739Z",
     "shell.execute_reply": "2025-10-22T13:26:28.141390Z"
    },
    "id": "769640c3",
    "outputId": "41debeef-8bc1-4ad3-fe42-21657b5bccde"
   },
   "outputs": [
    {
     "name": "stdout",
     "output_type": "stream",
     "text": [
      "\n",
      "================================================================================\n",
      "📄 FILE: couvertures-vaccinales-des-adolescents-et-adultes-depuis-2011-france.csv\n",
      "📍 Location: Données-nationales\n",
      "================================================================================\n",
      "✅ Encoding: utf-8\n",
      "📏 Shape: 14 rows × 17 columns\n",
      "\n",
      "📋 Columns: ['Année', 'HPV filles 1 dose à 15 ans', 'HPV filles 2 doses à 16 ans', 'HPV garçons 1 dose à 15 ans', 'HPV garçons 2 doses à 16 ans', 'Méningocoque C 10-14 ans', 'Méningocoque C 15-19 ans', 'Méningocoque C 20-24 ans', 'Grippe moins de 65 ans à risque', 'Grippe 65 ans et plus', 'Grippe 65-74 ans', 'Grippe 75 ans et plus', 'Covid-19 65 ans et plus', 'Grippe résidents en Ehpad', 'Grippe professionnels en Ehpad', 'Covid-19 résidents en Ehpad', 'Covid-19 professionnels en Ehpad']\n",
      "\n",
      "👀 First 3 rows:\n",
      "   Année  HPV filles 1 dose à 15 ans  HPV filles 2 doses à 16 ans  HPV garçons 1 dose à 15 ans  HPV garçons 2 doses à 16 ans  Méningocoque C 10-14 ans  Méningocoque C 15-19 ans  Méningocoque C 20-24 ans  Grippe moins de 65 ans à risque  Grippe 65 ans et plus  Grippe 65-74 ans  Grippe 75 ans et plus  Covid-19 65 ans et plus  Grippe résidents en Ehpad  Grippe professionnels en Ehpad  Covid-19 résidents en Ehpad  Covid-19 professionnels en Ehpad\n",
      "0   2012                        20.9                         22.4                          NaN                           NaN                       NaN                       NaN                       NaN                              NaN                    NaN               NaN                    NaN                      NaN                        NaN                             NaN                          NaN                               NaN\n",
      "1   2013                        19.8                         17.0                          NaN                           NaN                       NaN                       NaN                       NaN                              NaN                    NaN               NaN                    NaN                      NaN                        NaN                             NaN                          NaN                               NaN\n",
      "2   2015                        20.6                         13.2                          NaN                           NaN                      31.4                      22.5                       NaN                              NaN                    NaN               NaN                    NaN                      NaN                        NaN                             NaN                          NaN                               NaN\n",
      "\n",
      "🔢 Data types:\n",
      "  - Année: int64\n",
      "  - HPV filles 1 dose à 15 ans: float64\n",
      "  - HPV filles 2 doses à 16 ans: float64\n",
      "  - HPV garçons 1 dose à 15 ans: float64\n",
      "  - HPV garçons 2 doses à 16 ans: float64\n",
      "  - Méningocoque C 10-14 ans: float64\n",
      "  - Méningocoque C 15-19 ans: float64\n",
      "  - Méningocoque C 20-24 ans: float64\n",
      "  - Grippe moins de 65 ans à risque: float64\n",
      "  - Grippe 65 ans et plus: float64\n",
      "  - Grippe 65-74 ans: float64\n",
      "  - Grippe 75 ans et plus: float64\n",
      "  - Covid-19 65 ans et plus: float64\n",
      "  - Grippe résidents en Ehpad: float64\n",
      "  - Grippe professionnels en Ehpad: float64\n",
      "  - Covid-19 résidents en Ehpad: float64\n",
      "  - Covid-19 professionnels en Ehpad: float64\n",
      "\n",
      "⚠️ Missing values:\n",
      "  - HPV garçons 1 dose à 15 ans: 11 (78.6%)\n",
      "  - HPV garçons 2 doses à 16 ans: 11 (78.6%)\n",
      "  - Méningocoque C 10-14 ans: 3 (21.4%)\n",
      "  - Méningocoque C 15-19 ans: 3 (21.4%)\n",
      "  - Méningocoque C 20-24 ans: 13 (92.9%)\n",
      "  - Grippe moins de 65 ans à risque: 5 (35.7%)\n",
      "  - Grippe 65 ans et plus: 5 (35.7%)\n",
      "  - Grippe 65-74 ans: 11 (78.6%)\n",
      "  - Grippe 75 ans et plus: 11 (78.6%)\n",
      "  - Covid-19 65 ans et plus: 13 (92.9%)\n",
      "  - Grippe résidents en Ehpad: 14 (100.0%)\n",
      "  - Grippe professionnels en Ehpad: 14 (100.0%)\n",
      "  - Covid-19 résidents en Ehpad: 14 (100.0%)\n",
      "  - Covid-19 professionnels en Ehpad: 14 (100.0%)\n"
     ]
    }
   ],
   "source": [
    "# Vaccination Coverage - National\n",
    "vax_national_path = DATA_PATH / 'Couvertures-vaccinales-des-adolescents-et-adultes' / 'Données-nationales' / 'couvertures-vaccinales-des-adolescents-et-adultes-depuis-2011-france.csv'\n",
    "\n",
    "if vax_national_path.exists():\n",
    "    df_vax_national = analyze_csv_file(vax_national_path)\n",
    "else:\n",
    "    print(f\"⚠️ File not found: {vax_national_path}\")"
   ]
  },
  {
   "cell_type": "code",
   "execution_count": 8,
   "id": "3f57332a",
   "metadata": {
    "colab": {
     "base_uri": "https://localhost:8080/"
    },
    "execution": {
     "iopub.execute_input": "2025-10-22T13:26:28.142539Z",
     "iopub.status.busy": "2025-10-22T13:26:28.142485Z",
     "iopub.status.idle": "2025-10-22T13:26:28.146230Z",
     "shell.execute_reply": "2025-10-22T13:26:28.145911Z"
    },
    "id": "3f57332a",
    "outputId": "a13f019e-7de3-4578-807e-65f90af365f0"
   },
   "outputs": [
    {
     "name": "stdout",
     "output_type": "stream",
     "text": [
      "\n",
      "================================================================================\n",
      "📄 FILE: couvertures-vaccinales-des-adolescents-et-adultes-depuis-2011-region.csv\n",
      "📍 Location: Données-régionales\n",
      "================================================================================\n",
      "✅ Encoding: utf-8\n",
      "📏 Shape: 238 rows × 19 columns\n",
      "\n",
      "📋 Columns: ['Année', 'Région Code', 'Région', 'HPV filles 1 dose à 15 ans', 'HPV filles 2 doses à 16 ans', 'HPV garçons 1 dose à 15 ans', 'HPV garçons 2 doses à 16 ans', 'Méningocoque C 10-14 ans', 'Méningocoque C 15-19 ans', 'Méningocoque C 20-24 ans', 'Grippe moins de 65 ans à risque', 'Grippe 65 ans et plus', 'Grippe 65-74 ans', 'Grippe 75 ans et plus', 'Covid-19 65 ans et plus', 'Grippe résidents en Ehpad', 'Grippe professionnels en Ehpad', 'Covid-19 résidents en Ehpad', 'Covid-19 professionnels en Ehpad']\n",
      "\n",
      "👀 First 3 rows:\n",
      "   Année  Région Code               Région  HPV filles 1 dose à 15 ans  HPV filles 2 doses à 16 ans  HPV garçons 1 dose à 15 ans  HPV garçons 2 doses à 16 ans  Méningocoque C 10-14 ans  Méningocoque C 15-19 ans  Méningocoque C 20-24 ans  Grippe moins de 65 ans à risque  Grippe 65 ans et plus  Grippe 65-74 ans  Grippe 75 ans et plus  Covid-19 65 ans et plus  Grippe résidents en Ehpad  Grippe professionnels en Ehpad  Covid-19 résidents en Ehpad  Covid-19 professionnels en Ehpad\n",
      "0   2011           24  Centre-Val de Loire                        32.0                         28.6                          NaN                           NaN                       NaN                       NaN                       NaN                              NaN                    NaN               NaN                    NaN                      NaN                        NaN                             NaN                          NaN                               NaN\n",
      "1   2011           44            Grand Est                        35.6                         30.0                          NaN                           NaN                       NaN                       NaN                       NaN                              NaN                    NaN               NaN                    NaN                      NaN                        NaN                             NaN                          NaN                               NaN\n",
      "2   2011           32      Hauts-de-France                        38.7                         35.2                          NaN                           NaN                       NaN                       NaN                       NaN                              NaN                    NaN               NaN                    NaN                      NaN                        NaN                             NaN                          NaN                               NaN\n",
      "\n",
      "🔢 Data types:\n",
      "  - Année: int64\n",
      "  - Région Code: int64\n",
      "  - Région: object\n",
      "  - HPV filles 1 dose à 15 ans: float64\n",
      "  - HPV filles 2 doses à 16 ans: float64\n",
      "  - HPV garçons 1 dose à 15 ans: float64\n",
      "  - HPV garçons 2 doses à 16 ans: float64\n",
      "  - Méningocoque C 10-14 ans: float64\n",
      "  - Méningocoque C 15-19 ans: float64\n",
      "  - Méningocoque C 20-24 ans: float64\n",
      "  - Grippe moins de 65 ans à risque: float64\n",
      "  - Grippe 65 ans et plus: float64\n",
      "  - Grippe 65-74 ans: float64\n",
      "  - Grippe 75 ans et plus: float64\n",
      "  - Covid-19 65 ans et plus: float64\n",
      "  - Grippe résidents en Ehpad: float64\n",
      "  - Grippe professionnels en Ehpad: float64\n",
      "  - Covid-19 résidents en Ehpad: float64\n",
      "  - Covid-19 professionnels en Ehpad: float64\n",
      "\n",
      "⚠️ Missing values:\n",
      "  - HPV filles 1 dose à 15 ans: 20 (8.4%)\n",
      "  - HPV filles 2 doses à 16 ans: 20 (8.4%)\n",
      "  - HPV garçons 1 dose à 15 ans: 187 (78.6%)\n",
      "  - HPV garçons 2 doses à 16 ans: 187 (78.6%)\n",
      "  - Méningocoque C 10-14 ans: 59 (24.8%)\n",
      "  - Méningocoque C 15-19 ans: 59 (24.8%)\n",
      "  - Méningocoque C 20-24 ans: 221 (92.9%)\n",
      "  - Grippe moins de 65 ans à risque: 97 (40.8%)\n",
      "  - Grippe 65 ans et plus: 97 (40.8%)\n",
      "  - Grippe 65-74 ans: 190 (79.8%)\n",
      "  - Grippe 75 ans et plus: 190 (79.8%)\n",
      "  - Covid-19 65 ans et plus: 221 (92.9%)\n",
      "  - Grippe résidents en Ehpad: 238 (100.0%)\n",
      "  - Grippe professionnels en Ehpad: 238 (100.0%)\n",
      "  - Covid-19 résidents en Ehpad: 238 (100.0%)\n",
      "  - Covid-19 professionnels en Ehpad: 238 (100.0%)\n"
     ]
    }
   ],
   "source": [
    "# Vaccination Coverage - Regional\n",
    "vax_regional_path = DATA_PATH / 'Couvertures-vaccinales-des-adolescents-et-adultes' / 'Données-régionales' / 'couvertures-vaccinales-des-adolescents-et-adultes-depuis-2011-region.csv'\n",
    "\n",
    "if vax_regional_path.exists():\n",
    "    df_vax_regional = analyze_csv_file(vax_regional_path)\n",
    "else:\n",
    "    print(f\"⚠️ File not found: {vax_regional_path}\")"
   ]
  },
  {
   "cell_type": "code",
   "execution_count": 9,
   "id": "6162641d",
   "metadata": {
    "colab": {
     "base_uri": "https://localhost:8080/"
    },
    "execution": {
     "iopub.execute_input": "2025-10-22T13:26:28.147056Z",
     "iopub.status.busy": "2025-10-22T13:26:28.146997Z",
     "iopub.status.idle": "2025-10-22T13:26:28.151734Z",
     "shell.execute_reply": "2025-10-22T13:26:28.151379Z"
    },
    "id": "6162641d",
    "outputId": "cf663297-8ec7-480b-844e-7af6b3df9379"
   },
   "outputs": [
    {
     "name": "stdout",
     "output_type": "stream",
     "text": [
      "\n",
      "================================================================================\n",
      "📄 FILE: couvertures-vaccinales-des-adolescent-et-adultes-departement.csv\n",
      "📍 Location: Données-départementales\n",
      "================================================================================\n",
      "✅ Encoding: utf-8\n",
      "📏 Shape: 1,414 rows × 17 columns\n",
      "\n",
      "📋 Columns: ['Année', 'Département Code', 'Département', 'HPV filles 1 dose à 15 ans', 'HPV filles 2 doses à 16 ans', 'HPV garçons 1 dose à 15 ans', 'HPV garçons 2 doses à 16 ans', 'Méningocoque C 10-14 ans', 'Méningocoque C 15-19 ans', 'Méningocoque C 20-24 ans', 'Grippe moins de 65 ans à risque', 'Grippe 65 ans et plus', 'Grippe 65-74 ans', 'Grippe 75 ans et plus', 'Covid-19 65 ans et plus', 'Région', 'Région Code']\n",
      "\n",
      "👀 First 3 rows:\n",
      "   Année  Département Code              Département  HPV filles 1 dose à 15 ans  HPV filles 2 doses à 16 ans  HPV garçons 1 dose à 15 ans  HPV garçons 2 doses à 16 ans  Méningocoque C 10-14 ans  Méningocoque C 15-19 ans  Méningocoque C 20-24 ans  Grippe moins de 65 ans à risque  Grippe 65 ans et plus  Grippe 65-74 ans  Grippe 75 ans et plus  Covid-19 65 ans et plus                      Région  Région Code\n",
      "0   2011                 1                      Ain                        28.0                         26.8                          NaN                           NaN                       NaN                       NaN                       NaN                              NaN                    NaN               NaN                    NaN                      NaN     Auvergne et Rhône-Alpes           84\n",
      "1   2011                 4  Alpes-de-Haute-Provence                        24.6                         18.0                          NaN                           NaN                       NaN                       NaN                       NaN                              NaN                    NaN               NaN                    NaN                      NaN  Provence-Alpes-Côte d'Azur           93\n",
      "2   2011                10                     Aube                        35.5                         27.0                          NaN                           NaN                       NaN                       NaN                       NaN                              NaN                    NaN               NaN                    NaN                      NaN                   Grand Est           44\n",
      "\n",
      "🔢 Data types:\n",
      "  - Année: int64\n",
      "  - Département Code: object\n",
      "  - Département: object\n",
      "  - HPV filles 1 dose à 15 ans: float64\n",
      "  - HPV filles 2 doses à 16 ans: float64\n",
      "  - HPV garçons 1 dose à 15 ans: float64\n",
      "  - HPV garçons 2 doses à 16 ans: float64\n",
      "  - Méningocoque C 10-14 ans: float64\n",
      "  - Méningocoque C 15-19 ans: float64\n",
      "  - Méningocoque C 20-24 ans: float64\n",
      "  - Grippe moins de 65 ans à risque: float64\n",
      "  - Grippe 65 ans et plus: float64\n",
      "  - Grippe 65-74 ans: float64\n",
      "  - Grippe 75 ans et plus: float64\n",
      "  - Covid-19 65 ans et plus: float64\n",
      "  - Région: object\n",
      "  - Région Code: int64\n",
      "\n",
      "⚠️ Missing values:\n",
      "  - HPV filles 1 dose à 15 ans: 34 (2.4%)\n",
      "  - HPV filles 2 doses à 16 ans: 34 (2.4%)\n",
      "  - HPV garçons 1 dose à 15 ans: 1,114 (78.8%)\n",
      "  - HPV garçons 2 doses à 16 ans: 1,114 (78.8%)\n",
      "  - Méningocoque C 10-14 ans: 328 (23.2%)\n",
      "  - Méningocoque C 15-19 ans: 357 (25.2%)\n",
      "  - Méningocoque C 20-24 ans: 1,318 (93.2%)\n",
      "  - Grippe moins de 65 ans à risque: 526 (37.2%)\n",
      "  - Grippe 65 ans et plus: 526 (37.2%)\n",
      "  - Grippe 65-74 ans: 1,117 (79.0%)\n",
      "  - Grippe 75 ans et plus: 1,117 (79.0%)\n",
      "  - Covid-19 65 ans et plus: 1,313 (92.9%)\n"
     ]
    }
   ],
   "source": [
    "# Vaccination Coverage - Departmental\n",
    "vax_dept_path = DATA_PATH / 'Couvertures-vaccinales-des-adolescents-et-adultes' / 'Données-départementales' / 'couvertures-vaccinales-des-adolescent-et-adultes-departement.csv'\n",
    "\n",
    "if vax_dept_path.exists():\n",
    "    df_vax_dept = analyze_csv_file(vax_dept_path)\n",
    "else:\n",
    "    print(f\"⚠️ File not found: {vax_dept_path}\")"
   ]
  },
  {
   "cell_type": "markdown",
   "id": "49932b9b",
   "metadata": {
    "id": "49932b9b"
   },
   "source": [
    "### 🏥 Category 2: Emergency Room Visits"
   ]
  },
  {
   "cell_type": "code",
   "execution_count": 10,
   "id": "37bcb8aa",
   "metadata": {
    "colab": {
     "base_uri": "https://localhost:8080/"
    },
    "execution": {
     "iopub.execute_input": "2025-10-22T13:26:28.152545Z",
     "iopub.status.busy": "2025-10-22T13:26:28.152491Z",
     "iopub.status.idle": "2025-10-22T13:26:28.160322Z",
     "shell.execute_reply": "2025-10-22T13:26:28.159983Z"
    },
    "id": "37bcb8aa",
    "outputId": "41aeabd3-fb6b-4ec7-cde1-2e97eed8b5e6"
   },
   "outputs": [
    {
     "name": "stdout",
     "output_type": "stream",
     "text": [
      "\n",
      "================================================================================\n",
      "📄 FILE: grippe-passages-aux-urgences-et-actes-sos-medecins-france.csv\n",
      "📍 Location: Données-nationales\n",
      "================================================================================\n",
      "✅ Encoding: utf-8\n",
      "📏 Shape: 1,510 rows × 6 columns\n",
      "\n",
      "📋 Columns: ['1er jour de la semaine', 'Semaine', \"Classe d'âge\", 'Taux de passages aux urgences pour grippe', \"Taux d'hospitalisations après passages aux urgences pour grippe\", \"Taux d'actes médicaux SOS médecins pour grippe\"]\n",
      "\n",
      "👀 First 3 rows:\n",
      "  1er jour de la semaine   Semaine    Classe d'âge  Taux de passages aux urgences pour grippe  Taux d'hospitalisations après passages aux urgences pour grippe  Taux d'actes médicaux SOS médecins pour grippe\n",
      "0             2019-12-30  2020-S01       Tous âges                                 900.949821                                                       400.709302                                     4468.384648\n",
      "1             2020-01-06  2020-S02       15-64 ans                                 810.706944                                                       471.760504                                     6489.171145\n",
      "2             2020-01-06  2020-S02  65 ans ou plus                                 231.133711                                                       271.614634                                     1668.726823\n",
      "\n",
      "🔢 Data types:\n",
      "  - 1er jour de la semaine: object\n",
      "  - Semaine: object\n",
      "  - Classe d'âge: object\n",
      "  - Taux de passages aux urgences pour grippe: float64\n",
      "  - Taux d'hospitalisations après passages aux urgences pour grippe: float64\n",
      "  - Taux d'actes médicaux SOS médecins pour grippe: float64\n",
      "\n",
      "✅ No missing values\n",
      "\n",
      "📅 Potential date columns: ['1er jour de la semaine', 'Semaine']\n",
      "  - 1er jour de la semaine: 2019-12-30 00:00:00 to 2025-10-06 00:00:00\n"
     ]
    },
    {
     "name": "stderr",
     "output_type": "stream",
     "text": [
      "/var/folders/wf/02_5spqx5dx6wr78v8km5r8r0000gn/T/ipykernel_21662/1200872205.py:59: UserWarning: Could not infer format, so each element will be parsed individually, falling back to `dateutil`. To ensure parsing is consistent and as-expected, please specify a format.\n",
      "  date_series = pd.to_datetime(df_full[col], errors='coerce')\n"
     ]
    }
   ],
   "source": [
    "# Emergency - National\n",
    "emerg_national_path = DATA_PATH / 'Passages-aux-urgences-et-Actes-SOS-Médecins' / 'Données-nationales' / 'grippe-passages-aux-urgences-et-actes-sos-medecins-france.csv'\n",
    "\n",
    "if emerg_national_path.exists():\n",
    "    df_emerg_national = analyze_csv_file(emerg_national_path)\n",
    "else:\n",
    "    print(f\"⚠️ File not found: {emerg_national_path}\")"
   ]
  },
  {
   "cell_type": "code",
   "execution_count": 11,
   "id": "7298d92e",
   "metadata": {
    "colab": {
     "base_uri": "https://localhost:8080/"
    },
    "execution": {
     "iopub.execute_input": "2025-10-22T13:26:28.161106Z",
     "iopub.status.busy": "2025-10-22T13:26:28.161053Z",
     "iopub.status.idle": "2025-10-22T13:26:28.192233Z",
     "shell.execute_reply": "2025-10-22T13:26:28.191881Z"
    },
    "id": "7298d92e",
    "outputId": "bdac13b2-1507-475d-9437-e8ed0df29fbb"
   },
   "outputs": [
    {
     "name": "stdout",
     "output_type": "stream",
     "text": [
      "\n",
      "================================================================================\n",
      "📄 FILE: grippe-passages-urgences-et-actes-sos-medecin_reg.csv\n",
      "📍 Location: Données-régionales\n",
      "================================================================================\n",
      "✅ Encoding: utf-8\n",
      "📏 Shape: 27,180 rows × 8 columns\n",
      "\n",
      "📋 Columns: ['1er jour de la semaine', 'Semaine', 'Région Code', 'Région', \"Classe d'âge\", 'Taux de passages aux urgences pour grippe', \"Taux d'hospitalisations après passages aux urgences pour grippe\", \"Taux d'actes médicaux SOS médecins pour grippe\"]\n",
      "\n",
      "👀 First 3 rows:\n",
      "  1er jour de la semaine   Semaine  Région Code   Région    Classe d'âge  Taux de passages aux urgences pour grippe  Taux d'hospitalisations après passages aux urgences pour grippe  Taux d'actes médicaux SOS médecins pour grippe\n",
      "0             2023-02-20  2023-S08            6  Mayotte       00-04 ans                                 383.141762                                                           1562.5                                             NaN\n",
      "1             2023-02-20  2023-S08            6  Mayotte       15-64 ans                                 728.597450                                                              0.0                                             NaN\n",
      "2             2023-02-20  2023-S08            6  Mayotte  65 ans ou plus                                2127.659574                                                              0.0                                             NaN\n",
      "\n",
      "🔢 Data types:\n",
      "  - 1er jour de la semaine: object\n",
      "  - Semaine: object\n",
      "  - Région Code: int64\n",
      "  - Région: object\n",
      "  - Classe d'âge: object\n",
      "  - Taux de passages aux urgences pour grippe: float64\n",
      "  - Taux d'hospitalisations après passages aux urgences pour grippe: float64\n",
      "  - Taux d'actes médicaux SOS médecins pour grippe: float64\n",
      "\n",
      "⚠️ Missing values:\n",
      "  - Taux de passages aux urgences pour grippe: 890 (3.3%)\n",
      "  - Taux d'hospitalisations après passages aux urgences pour grippe: 897 (3.3%)\n",
      "  - Taux d'actes médicaux SOS médecins pour grippe: 6,045 (22.2%)\n",
      "\n",
      "📅 Potential date columns: ['1er jour de la semaine', 'Semaine']\n",
      "  - 1er jour de la semaine: 2019-12-30 00:00:00 to 2025-10-06 00:00:00\n"
     ]
    },
    {
     "name": "stderr",
     "output_type": "stream",
     "text": [
      "/var/folders/wf/02_5spqx5dx6wr78v8km5r8r0000gn/T/ipykernel_21662/1200872205.py:59: UserWarning: Could not infer format, so each element will be parsed individually, falling back to `dateutil`. To ensure parsing is consistent and as-expected, please specify a format.\n",
      "  date_series = pd.to_datetime(df_full[col], errors='coerce')\n"
     ]
    }
   ],
   "source": [
    "# Emergency - Regional\n",
    "emerg_regional_path = DATA_PATH / 'Passages-aux-urgences-et-Actes-SOS-Médecins' / 'Données-régionales' / 'grippe-passages-urgences-et-actes-sos-medecin_reg.csv'\n",
    "\n",
    "if emerg_regional_path.exists():\n",
    "    df_emerg_regional = analyze_csv_file(emerg_regional_path)\n",
    "else:\n",
    "    print(f\"⚠️ File not found: {emerg_regional_path}\")"
   ]
  },
  {
   "cell_type": "code",
   "execution_count": 12,
   "id": "011bfc45",
   "metadata": {
    "colab": {
     "base_uri": "https://localhost:8080/"
    },
    "execution": {
     "iopub.execute_input": "2025-10-22T13:26:28.193056Z",
     "iopub.status.busy": "2025-10-22T13:26:28.193009Z",
     "iopub.status.idle": "2025-10-22T13:26:28.318878Z",
     "shell.execute_reply": "2025-10-22T13:26:28.318562Z"
    },
    "id": "011bfc45",
    "outputId": "3a8543eb-6eb4-4019-f0f0-ad8e76ecc53d"
   },
   "outputs": [
    {
     "name": "stdout",
     "output_type": "stream",
     "text": [
      "\n",
      "================================================================================\n",
      "📄 FILE: grippe-passages-aux-urgences-et-actes-sos-medecins-departement.csv\n",
      "📍 Location: Données-départementales\n",
      "================================================================================\n",
      "✅ Encoding: utf-8\n",
      "📏 Shape: 157,040 rows × 10 columns\n",
      "\n",
      "📋 Columns: ['1er jour de la semaine', 'Semaine', 'Département Code', 'Département', \"Classe d'âge\", 'Taux de passages aux urgences pour grippe', \"Taux d'hospitalisations après passages aux urgences pour grippe\", \"Taux d'actes médicaux SOS médecins pour grippe\", 'Région', 'Région Code']\n",
      "\n",
      "👀 First 3 rows:\n",
      "  1er jour de la semaine   Semaine  Département Code Département    Classe d'âge  Taux de passages aux urgences pour grippe  Taux d'hospitalisations après passages aux urgences pour grippe  Taux d'actes médicaux SOS médecins pour grippe     Région  Région Code\n",
      "0             2020-12-21  2020-S52                61        Orne       05-14 ans                                        0.0                                                              0.0                                             NaN  Normandie           28\n",
      "1             2020-12-21  2020-S52                61        Orne  65 ans ou plus                                        0.0                                                              0.0                                             NaN  Normandie           28\n",
      "2             2020-12-28  2020-S53                61        Orne       00-04 ans                                      500.0                                                              0.0                                             NaN  Normandie           28\n",
      "\n",
      "🔢 Data types:\n",
      "  - 1er jour de la semaine: object\n",
      "  - Semaine: object\n",
      "  - Département Code: object\n",
      "  - Département: object\n",
      "  - Classe d'âge: object\n",
      "  - Taux de passages aux urgences pour grippe: float64\n",
      "  - Taux d'hospitalisations après passages aux urgences pour grippe: float64\n",
      "  - Taux d'actes médicaux SOS médecins pour grippe: float64\n",
      "  - Région: object\n",
      "  - Région Code: int64\n",
      "\n",
      "⚠️ Missing values:\n",
      "  - Taux de passages aux urgences pour grippe: 5,422 (3.5%)\n",
      "  - Taux d'hospitalisations après passages aux urgences pour grippe: 7,357 (4.7%)\n",
      "  - Taux d'actes médicaux SOS médecins pour grippe: 88,242 (56.2%)\n",
      "\n",
      "📅 Potential date columns: ['1er jour de la semaine', 'Semaine']\n",
      "  - 1er jour de la semaine: 2019-12-30 00:00:00 to 2025-10-06 00:00:00\n"
     ]
    },
    {
     "name": "stderr",
     "output_type": "stream",
     "text": [
      "/var/folders/wf/02_5spqx5dx6wr78v8km5r8r0000gn/T/ipykernel_21662/1200872205.py:59: UserWarning: Could not infer format, so each element will be parsed individually, falling back to `dateutil`. To ensure parsing is consistent and as-expected, please specify a format.\n",
      "  date_series = pd.to_datetime(df_full[col], errors='coerce')\n"
     ]
    }
   ],
   "source": [
    "# Emergency - Departmental\n",
    "emerg_dept_path = DATA_PATH / 'Passages-aux-urgences-et-Actes-SOS-Médecins' / 'Données-départementales' / 'grippe-passages-aux-urgences-et-actes-sos-medecins-departement.csv'\n",
    "\n",
    "if emerg_dept_path.exists():\n",
    "    df_emerg_dept = analyze_csv_file(emerg_dept_path)\n",
    "else:\n",
    "    print(f\"⚠️ File not found: {emerg_dept_path}\")"
   ]
  },
  {
   "cell_type": "markdown",
   "id": "862c4ae7",
   "metadata": {
    "id": "862c4ae7"
   },
   "source": [
    "### 💉 Category 3: Flu Vaccination Campaigns (2021-2025)"
   ]
  },
  {
   "cell_type": "code",
   "execution_count": 13,
   "id": "b93195ad",
   "metadata": {
    "colab": {
     "base_uri": "https://localhost:8080/"
    },
    "execution": {
     "iopub.execute_input": "2025-10-22T13:26:28.319897Z",
     "iopub.status.busy": "2025-10-22T13:26:28.319843Z",
     "iopub.status.idle": "2025-10-22T13:26:28.341464Z",
     "shell.execute_reply": "2025-10-22T13:26:28.341104Z"
    },
    "id": "b93195ad",
    "outputId": "c60c4eb6-a89f-483a-d50e-152c5ee40fc3"
   },
   "outputs": [
    {
     "name": "stdout",
     "output_type": "stream",
     "text": [
      "\n",
      "📂 Vaccination-Grippe-2021-2022\n",
      "\n",
      "================================================================================\n",
      "📄 FILE: campagne-2021.csv\n",
      "📍 Location: Vaccination-Grippe-2021-2022\n",
      "================================================================================\n",
      "✅ Encoding: utf-8\n",
      "📏 Shape: 5 rows × 5 columns\n",
      "\n",
      "📋 Columns: ['campagne', 'date', 'variable', 'valeur', 'cible']\n",
      "\n",
      "👀 First 3 rows:\n",
      "    campagne        date      variable    valeur     cible\n",
      "0  2021-2022  2022-02-28     ACTE(VGP)   4475890   3823445\n",
      "1  2021-2022  2022-02-28  DOSES(J07E1)  11178955  11915574\n",
      "2  2021-2022  2022-02-28       UNIVERS     21078     21241\n",
      "\n",
      "🔢 Data types:\n",
      "  - campagne: object\n",
      "  - date: object\n",
      "  - variable: object\n",
      "  - valeur: int64\n",
      "  - cible: int64\n",
      "\n",
      "✅ No missing values\n",
      "\n",
      "📅 Potential date columns: ['date']\n",
      "  - date: 2022-02-28 00:00:00 to 2022-02-28 00:00:00\n",
      "\n",
      "================================================================================\n",
      "📄 FILE: couverture-2021.csv\n",
      "📍 Location: Vaccination-Grippe-2021-2022\n",
      "================================================================================\n"
     ]
    },
    {
     "name": "stdout",
     "output_type": "stream",
     "text": [
      "✅ Encoding: utf-8\n",
      "📏 Shape: 52 rows × 5 columns\n",
      "\n",
      "📋 Columns: ['region', 'code', 'variable', 'groupe', 'valeur']\n",
      "\n",
      "👀 First 3 rows:\n",
      "                     region  code      variable           groupe  valeur\n",
      "0        11 - ILE-DE-France    11     ACTE(VGP)  moins de 65 ans     204\n",
      "1        11 - ILE-DE-France    11  DOSES(J07E1)  moins de 65 ans     458\n",
      "2  24 - CENTRE-VAL-DE-LOIRE    24     ACTE(VGP)  moins de 65 ans     214\n",
      "\n",
      "🔢 Data types:\n",
      "  - region: object\n",
      "  - code: int64\n",
      "  - variable: object\n",
      "  - groupe: object\n",
      "  - valeur: int64\n",
      "\n",
      "✅ No missing values\n",
      "\n",
      "================================================================================\n",
      "📄 FILE: doses-actes-2021.csv\n",
      "📍 Location: Vaccination-Grippe-2021-2022\n",
      "================================================================================\n",
      "✅ Encoding: utf-8\n",
      "📏 Shape: 1,076 rows × 6 columns\n",
      "\n",
      "📋 Columns: ['campagne', 'date', 'jour', 'variable', 'groupe', 'valeur']\n",
      "\n",
      "👀 First 3 rows:\n",
      "    campagne        date  jour      variable           groupe   valeur\n",
      "0  2020-2021  2020-10-13     1     ACTE(VGP)   65 ans et plus   296119\n",
      "1  2020-2021  2020-10-13     1  DOSES(J07E1)   65 ans et plus  1685461\n",
      "2  2020-2021  2020-10-13     1     ACTE(VGP)  moins de 65 ans    75969\n",
      "\n",
      "🔢 Data types:\n",
      "  - campagne: object\n",
      "  - date: object\n",
      "  - jour: int64\n",
      "  - variable: object\n",
      "  - groupe: object\n",
      "  - valeur: int64\n",
      "\n",
      "✅ No missing values\n",
      "\n",
      "📅 Potential date columns: ['date', 'jour']\n",
      "  - date: 2020-10-13 00:00:00 to 2022-02-28 00:00:00\n",
      "  - jour: 1970-01-01 00:00:00.000000001 to 1970-01-01 00:00:00.000000139\n",
      "\n",
      "📂 Vaccination-Grippe-2022-2023\n",
      "\n",
      "================================================================================\n",
      "📄 FILE: campagne-2022.csv\n",
      "📍 Location: Vaccination-Grippe-2022-2023\n",
      "================================================================================\n",
      "✅ Encoding: utf-8\n"
     ]
    },
    {
     "name": "stdout",
     "output_type": "stream",
     "text": [
      "📏 Shape: 5 rows × 5 columns\n",
      "\n",
      "📋 Columns: ['campagne', 'date', 'variable', 'valeur', 'cible']\n",
      "\n",
      "👀 First 3 rows:\n",
      "    campagne        date      variable    valeur     cible\n",
      "0  2022-2023  2023-02-28     ACTE(VGP)   5373898   4475890\n",
      "1  2022-2023  2023-02-28  DOSES(J07E1)  11219443  11178955\n",
      "2  2022-2023  2023-02-28       UNIVERS     20834     21078\n",
      "\n",
      "🔢 Data types:\n",
      "  - campagne: object\n",
      "  - date: object\n",
      "  - variable: object\n",
      "  - valeur: int64\n",
      "  - cible: int64\n",
      "\n",
      "✅ No missing values\n",
      "\n",
      "📅 Potential date columns: ['date']\n",
      "  - date: 2023-02-28 00:00:00 to 2023-02-28 00:00:00\n",
      "\n",
      "================================================================================\n",
      "📄 FILE: couverture-2022.csv\n",
      "📍 Location: Vaccination-Grippe-2022-2023\n",
      "================================================================================\n",
      "✅ Encoding: utf-8\n",
      "📏 Shape: 52 rows × 5 columns\n",
      "\n",
      "📋 Columns: ['region', 'code', 'variable', 'groupe', 'valeur']\n",
      "\n",
      "👀 First 3 rows:\n",
      "                     region  code      variable           groupe  valeur\n",
      "0        11 - ILE-DE-France    11     ACTE(VGP)  moins de 65 ans     266\n",
      "1        11 - ILE-DE-France    11  DOSES(J07E1)  moins de 65 ans     478\n",
      "2  24 - CENTRE-VAL-DE-LOIRE    24     ACTE(VGP)  moins de 65 ans     276\n",
      "\n",
      "🔢 Data types:\n",
      "  - region: object\n",
      "  - code: int64\n",
      "  - variable: object\n",
      "  - groupe: object\n",
      "  - valeur: int64\n",
      "\n",
      "✅ No missing values\n",
      "\n",
      "================================================================================\n",
      "📄 FILE: doses-actes-2022.csv\n",
      "📍 Location: Vaccination-Grippe-2022-2023\n",
      "================================================================================\n",
      "✅ Encoding: utf-8\n",
      "📏 Shape: 1,056 rows × 6 columns\n",
      "\n",
      "📋 Columns: ['campagne', 'date', 'jour', 'variable', 'groupe', 'valeur']\n",
      "\n",
      "👀 First 3 rows:\n",
      "    campagne        date  jour      variable           groupe  valeur\n",
      "0  2021-2022  2021-10-22     1     ACTE(VGP)   65 ans et plus  117217\n",
      "1  2021-2022  2021-10-22     1  DOSES(J07E1)   65 ans et plus  567525\n",
      "2  2021-2022  2021-10-22     1     ACTE(VGP)  moins de 65 ans   24537\n",
      "\n",
      "🔢 Data types:\n",
      "  - campagne: object\n",
      "  - date: object\n",
      "  - jour: int64\n",
      "  - variable: object\n",
      "  - groupe: object\n",
      "  - valeur: int64\n",
      "\n",
      "✅ No missing values\n",
      "\n",
      "📅 Potential date columns: ['date', 'jour']\n"
     ]
    },
    {
     "name": "stdout",
     "output_type": "stream",
     "text": [
      "  - date: 2021-10-22 00:00:00 to 2023-02-28 00:00:00\n",
      "  - jour: 1970-01-01 00:00:00.000000001 to 1970-01-01 00:00:00.000000134\n",
      "\n",
      "📂 Vaccination-Grippe-2023-2024\n",
      "\n",
      "================================================================================\n",
      "📄 FILE: campagne-2023.csv\n",
      "📍 Location: Vaccination-Grippe-2023-2024\n",
      "================================================================================\n",
      "✅ Encoding: utf-8\n",
      "📏 Shape: 5 rows × 5 columns\n",
      "\n",
      "📋 Columns: ['campagne', 'date', 'variable', 'valeur', 'cible']\n",
      "\n",
      "👀 First 3 rows:\n",
      "    campagne        date      variable    valeur     cible\n",
      "0  2023-2024  2024-02-28     ACTE(VGP)   5645127   5373898\n",
      "1  2023-2024  2024-02-28  DOSES(J07E1)  10510433  11219443\n",
      "2  2023-2024  2024-02-28       UNIVERS     20585     20834\n",
      "\n",
      "🔢 Data types:\n",
      "  - campagne: object\n",
      "  - date: object\n",
      "  - variable: object\n",
      "  - valeur: int64\n",
      "  - cible: int64\n",
      "\n",
      "✅ No missing values\n",
      "\n",
      "📅 Potential date columns: ['date']\n",
      "  - date: 2024-02-28 00:00:00 to 2024-02-28 00:00:00\n",
      "\n",
      "================================================================================\n",
      "📄 FILE: couverture-2023.csv\n",
      "📍 Location: Vaccination-Grippe-2023-2024\n",
      "================================================================================\n",
      "✅ Encoding: utf-8\n",
      "📏 Shape: 52 rows × 5 columns\n",
      "\n",
      "📋 Columns: ['region', 'code', 'variable', 'groupe', 'valeur']\n",
      "\n",
      "👀 First 3 rows:\n",
      "                     region  code      variable           groupe  valeur\n",
      "0        11 - ILE-DE-France    11     ACTE(VGP)  moins de 65 ans     262\n",
      "1        11 - ILE-DE-France    11  DOSES(J07E1)  moins de 65 ans     425\n",
      "2  24 - CENTRE-VAL-DE-LOIRE    24     ACTE(VGP)  moins de 65 ans     293\n",
      "\n",
      "🔢 Data types:\n",
      "  - region: object\n",
      "  - code: int64\n",
      "  - variable: object\n",
      "  - groupe: object\n",
      "  - valeur: int64\n",
      "\n",
      "✅ No missing values\n",
      "\n",
      "================================================================================\n",
      "📄 FILE: doses-actes-2023.csv\n",
      "📍 Location: Vaccination-Grippe-2023-2024\n",
      "================================================================================\n",
      "✅ Encoding: utf-8\n",
      "📏 Shape: 1,076 rows × 6 columns\n",
      "\n",
      "📋 Columns: ['campagne', 'date', 'jour', 'variable', 'groupe', 'valeur']\n",
      "\n",
      "👀 First 3 rows:\n",
      "    campagne        date  jour      variable           groupe  valeur\n",
      "0  2022-2023  2022-10-18     1     ACTE(VGP)   65 ans et plus  149739\n",
      "1  2022-2023  2022-10-18     1  DOSES(J07E1)   65 ans et plus  555059\n",
      "2  2022-2023  2022-10-18     1     ACTE(VGP)  moins de 65 ans   37380\n",
      "\n",
      "🔢 Data types:\n",
      "  - campagne: object\n",
      "  - date: object\n",
      "  - jour: int64\n",
      "  - variable: object\n",
      "  - groupe: object\n",
      "  - valeur: int64\n",
      "\n",
      "✅ No missing values\n",
      "\n",
      "📅 Potential date columns: ['date', 'jour']\n",
      "  - date: 2022-10-18 00:00:00 to 2024-02-28 00:00:00\n",
      "  - jour: 1970-01-01 00:00:00.000000001 to 1970-01-01 00:00:00.000000135\n",
      "\n",
      "📂 Vaccination-Grippe-2024-2025\n",
      "\n",
      "================================================================================\n",
      "📄 FILE: campagne-2024.csv\n",
      "📍 Location: Vaccination-Grippe-2024-2025\n",
      "================================================================================\n",
      "✅ Encoding: utf-8\n",
      "📏 Shape: 5 rows × 5 columns\n",
      "\n",
      "📋 Columns: ['campagne', 'date', 'variable', 'valeur', 'cible']\n",
      "\n",
      "👀 First 3 rows:\n",
      "    campagne        date      variable    valeur     cible\n",
      "0  2024-2025  2025-01-28     ACTE(VGP)   6554867   5615413\n",
      "1  2024-2025  2025-01-28  DOSES(J07E1)  10835299  10469756\n",
      "2  2024-2025  2025-01-28       UNIVERS     20286     20579\n",
      "\n",
      "🔢 Data types:\n",
      "  - campagne: object\n",
      "  - date: object\n",
      "  - variable: object\n",
      "  - valeur: int64\n",
      "  - cible: int64\n",
      "\n",
      "✅ No missing values\n",
      "\n",
      "📅 Potential date columns: ['date']\n",
      "  - date: 2025-01-28 00:00:00 to 2025-01-28 00:00:00\n",
      "\n",
      "================================================================================\n",
      "📄 FILE: couverture-2024.csv\n",
      "📍 Location: Vaccination-Grippe-2024-2025\n",
      "================================================================================\n"
     ]
    },
    {
     "name": "stdout",
     "output_type": "stream",
     "text": [
      "✅ Encoding: utf-8\n",
      "📏 Shape: 52 rows × 5 columns\n",
      "\n",
      "📋 Columns: ['region', 'code', 'variable', 'groupe', 'valeur']\n",
      "\n",
      "👀 First 3 rows:\n",
      "               region  code      variable           groupe  valeur\n",
      "0  11 - ILE-DE-France    11     ACTE(VGP)   65 ans et plus    3930\n",
      "1  11 - ILE-DE-France    11  DOSES(J07E1)   65 ans et plus    5433\n",
      "2  11 - ILE-DE-France    11     ACTE(VGP)  moins de 65 ans     320\n",
      "\n",
      "🔢 Data types:\n",
      "  - region: object\n",
      "  - code: int64\n",
      "  - variable: object\n",
      "  - groupe: object\n",
      "  - valeur: int64\n",
      "\n",
      "✅ No missing values\n",
      "\n",
      "================================================================================\n",
      "📄 FILE: doses-actes-2024.csv\n",
      "📍 Location: Vaccination-Grippe-2024-2025\n",
      "================================================================================\n",
      "✅ Encoding: utf-8\n"
     ]
    },
    {
     "name": "stdout",
     "output_type": "stream",
     "text": [
      "📏 Shape: 964 rows × 6 columns\n",
      "\n",
      "📋 Columns: ['campagne', 'date', 'jour', 'variable', 'groupe', 'valeur']\n",
      "\n",
      "👀 First 3 rows:\n",
      "    campagne        date  jour      variable           groupe  valeur\n",
      "0  2023-2024  2023-10-17     1     ACTE(VGP)   65 ans et plus  165358\n",
      "1  2023-2024  2023-10-17     1  DOSES(J07E1)   65 ans et plus  460513\n",
      "2  2023-2024  2023-10-17     1     ACTE(VGP)  moins de 65 ans   45120\n",
      "\n",
      "🔢 Data types:\n",
      "  - campagne: object\n",
      "  - date: object\n",
      "  - jour: int64\n",
      "  - variable: object\n",
      "  - groupe: object\n",
      "  - valeur: int64\n",
      "\n",
      "✅ No missing values\n",
      "\n",
      "📅 Potential date columns: ['date', 'jour']\n",
      "  - date: 2023-10-17 00:00:00 to 2025-01-28 00:00:00\n",
      "  - jour: 1970-01-01 00:00:00.000000001 to 1970-01-01 00:00:00.000000135\n",
      "\n",
      "✅ Total flu campaign files: 12\n"
     ]
    }
   ],
   "source": [
    "# Let's check all flu campaign files\n",
    "flu_base = DATA_PATH / 'Vaccination-Grippe'\n",
    "\n",
    "flu_files = []\n",
    "for year_folder in sorted(flu_base.glob('Vaccination-Grippe-*')):\n",
    "    print(f\"\\n📂 {year_folder.name}\")\n",
    "    for csv_file in sorted(year_folder.glob('*.csv')):\n",
    "        flu_files.append(csv_file)\n",
    "        analyze_csv_file(csv_file)\n",
    "\n",
    "print(f\"\\n✅ Total flu campaign files: {len(flu_files)}\")"
   ]
  },
  {
   "cell_type": "markdown",
   "id": "d12e23a0",
   "metadata": {
    "id": "d12e23a0"
   },
   "source": [
    "---\n",
    "\n",
    "## 📝 Step 3: Key Findings Summary\n",
    "\n",
    "Let's summarize what we learned about our data."
   ]
  },
  {
   "cell_type": "code",
   "execution_count": 14,
   "id": "93785de9",
   "metadata": {
    "colab": {
     "base_uri": "https://localhost:8080/"
    },
    "execution": {
     "iopub.execute_input": "2025-10-22T13:26:28.342405Z",
     "iopub.status.busy": "2025-10-22T13:26:28.342345Z",
     "iopub.status.idle": "2025-10-22T13:26:28.344681Z",
     "shell.execute_reply": "2025-10-22T13:26:28.344313Z"
    },
    "id": "93785de9",
    "outputId": "8bc36522-1ba3-4925-d623-7ae595f394d7"
   },
   "outputs": [
    {
     "name": "stdout",
     "output_type": "stream",
     "text": [
      "\n",
      "================================================================================\n",
      "📋 DATA DISCOVERY SUMMARY\n",
      "================================================================================\n",
      "\n",
      "✅ WHAT WE HAVE:\n",
      "\n",
      "1. Vaccination Coverage (Adolescents & Adults):\n",
      "   - National level: Historical coverage rates\n",
      "   - Regional level: 13 French regions\n",
      "   - Departmental level: 101 departments\n",
      "\n",
      "2. Emergency Room Visits & SOS Médecins:\n",
      "   - National level: Weekly time series\n",
      "   - Regional level: By region\n",
      "   - Departmental level: By department\n",
      "\n",
      "3. Flu Vaccination Campaigns (2021-2025):\n",
      "   - 4 years of campaign data\n",
      "   - 3 files per year: campaign info, coverage, doses/acts\n",
      "\n",
      "⚠️ DATA QUALITY ISSUES TO ADDRESS:\n",
      "   1. Encoding issues (French characters)\n",
      "   2. Date format inconsistencies\n",
      "   3. Missing values in some columns\n",
      "   4. Different geographic levels need alignment\n",
      "\n",
      "🎯 NEXT STEPS:\n",
      "   1. Data Cleaning: Standardize dates, regions, handle missing values\n",
      "   2. Data Integration: Combine sources at regional level\n",
      "   3. Feature Engineering: Create lag variables, rolling averages\n",
      "   4. Exploratory Analysis: Understand patterns and correlations\n",
      "   5. Modeling: Forecast vaccine needs and emergency visits\n",
      "   6. Optimization: Allocate vaccines to regions\n",
      "\n",
      "================================================================================\n"
     ]
    }
   ],
   "source": [
    "print(\"\\n\" + \"=\"*80)\n",
    "print(\"📋 DATA DISCOVERY SUMMARY\")\n",
    "print(\"=\"*80)\n",
    "\n",
    "print(\"\\n✅ WHAT WE HAVE:\")\n",
    "print(\"\\n1. Vaccination Coverage (Adolescents & Adults):\")\n",
    "print(\"   - National level: Historical coverage rates\")\n",
    "print(\"   - Regional level: 13 French regions\")\n",
    "print(\"   - Departmental level: 101 departments\")\n",
    "\n",
    "print(\"\\n2. Emergency Room Visits & SOS Médecins:\")\n",
    "print(\"   - National level: Weekly time series\")\n",
    "print(\"   - Regional level: By region\")\n",
    "print(\"   - Departmental level: By department\")\n",
    "\n",
    "print(\"\\n3. Flu Vaccination Campaigns (2021-2025):\")\n",
    "print(\"   - 4 years of campaign data\")\n",
    "print(\"   - 3 files per year: campaign info, coverage, doses/acts\")\n",
    "\n",
    "print(\"\\n⚠️ DATA QUALITY ISSUES TO ADDRESS:\")\n",
    "print(\"   1. Encoding issues (French characters)\")\n",
    "print(\"   2. Date format inconsistencies\")\n",
    "print(\"   3. Missing values in some columns\")\n",
    "print(\"   4. Different geographic levels need alignment\")\n",
    "\n",
    "print(\"\\n🎯 NEXT STEPS:\")\n",
    "print(\"   1. Data Cleaning: Standardize dates, regions, handle missing values\")\n",
    "print(\"   2. Data Integration: Combine sources at regional level\")\n",
    "print(\"   3. Feature Engineering: Create lag variables, rolling averages\")\n",
    "print(\"   4. Exploratory Analysis: Understand patterns and correlations\")\n",
    "print(\"   5. Modeling: Forecast vaccine needs and emergency visits\")\n",
    "print(\"   6. Optimization: Allocate vaccines to regions\")\n",
    "\n",
    "print(\"\\n\" + \"=\"*80)"
   ]
  },
  {
   "cell_type": "markdown",
   "id": "bece13b9",
   "metadata": {
    "id": "bece13b9"
   },
   "source": [
    "---\n",
    "\n",
    "## 💾 Save Discovery Results\n",
    "\n",
    "Let's save what we learned for the next notebooks."
   ]
  },
  {
   "cell_type": "code",
   "execution_count": 15,
   "id": "6ad0b581",
   "metadata": {
    "colab": {
     "base_uri": "https://localhost:8080/"
    },
    "execution": {
     "iopub.execute_input": "2025-10-22T13:26:28.345567Z",
     "iopub.status.busy": "2025-10-22T13:26:28.345510Z",
     "iopub.status.idle": "2025-10-22T13:26:28.348200Z",
     "shell.execute_reply": "2025-10-22T13:26:28.347911Z"
    },
    "id": "6ad0b581",
    "outputId": "615bda83-3e4f-426b-9259-293b4ebae8e5"
   },
   "outputs": [
    {
     "name": "stdout",
     "output_type": "stream",
     "text": [
      "\n",
      "✅ Data catalog saved to: /Users/fadybekkar/Desktop/EPITECH/HACK/Hackaton_Data/projet/data_catalog.json\n",
      "\n",
      "🚀 Ready for next notebook: 01_Data_Cleaning.ipynb\n"
     ]
    }
   ],
   "source": [
    "# Create a data catalog\n",
    "import json\n",
    "\n",
    "data_catalog = {\n",
    "    'discovery_date': datetime.now().isoformat(),\n",
    "    'base_path': str(DATA_PATH),\n",
    "    'files_found': len(csv_files) if csv_files else 0,\n",
    "    'categories': {\n",
    "        'vaccination_coverage': {\n",
    "            'description': 'Vaccination coverage rates for adolescents and adults',\n",
    "            'levels': ['national', 'regional', 'departmental'],\n",
    "            'time_period': 'Since 2011'\n",
    "        },\n",
    "        'emergency_passages': {\n",
    "            'description': 'Emergency room visits and SOS Médecins acts for flu',\n",
    "            'levels': ['national', 'regional', 'departmental'],\n",
    "            'frequency': 'Weekly'\n",
    "        },\n",
    "        'flu_campaigns': {\n",
    "            'description': 'Flu vaccination campaigns',\n",
    "            'years': ['2021-2022', '2022-2023', '2023-2024', '2024-2025'],\n",
    "            'file_types': ['campaign', 'couverture', 'doses-actes']\n",
    "        }\n",
    "    },\n",
    "    'quality_issues': [\n",
    "        'French character encoding (use latin-1 or cp1252)',\n",
    "        'Date format variations',\n",
    "        'Missing values in some datasets',\n",
    "        'Geographic level alignment needed'\n",
    "    ],\n",
    "    'recommended_approach': [\n",
    "        'Focus on regional level (good balance of detail and data availability)',\n",
    "        'Use emergency room data as primary demand signal',\n",
    "        'Use vaccination coverage to identify gaps',\n",
    "        'Use campaign data for historical effectiveness'\n",
    "    ]\n",
    "}\n",
    "\n",
    "# Save catalog\n",
    "catalog_path = BASE_PATH / 'data_catalog.json'\n",
    "with open(catalog_path, 'w', encoding='utf-8') as f:\n",
    "    json.dump(data_catalog, f, indent=2, ensure_ascii=False)\n",
    "\n",
    "print(f\"\\n✅ Data catalog saved to: {catalog_path}\")\n",
    "print(\"\\n🚀 Ready for next notebook: 01_Data_Cleaning.ipynb\")"
   ]
  }
 ],
 "metadata": {
  "colab": {
   "provenance": []
  },
  "kernelspec": {
   "display_name": ".venv",
   "language": "python",
   "name": "python3"
  },
  "language_info": {
   "codemirror_mode": {
    "name": "ipython",
    "version": 3
   },
   "file_extension": ".py",
   "mimetype": "text/x-python",
   "name": "python",
   "nbconvert_exporter": "python",
   "pygments_lexer": "ipython3",
   "version": "3.13.9"
  }
 },
 "nbformat": 4,
 "nbformat_minor": 5
}
